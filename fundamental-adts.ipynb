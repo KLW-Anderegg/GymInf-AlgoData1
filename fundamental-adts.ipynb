{
 "cells": [
  {
   "cell_type": "markdown",
   "metadata": {},
   "source": [
    "# Fundamentale Datentypen"
   ]
  },
  {
   "cell_type": "markdown",
   "metadata": {},
   "source": [
    "# Stapel (Stacks)"
   ]
  },
  {
   "cell_type": "markdown",
   "metadata": {},
   "source": [
    "### Implementation"
   ]
  },
  {
   "cell_type": "markdown",
   "metadata": {},
   "source": [
    "Die folgende Klasse zeigt eine einfache Implementation eines Stapels (Stack) mit einer verketteten Liste. "
   ]
  },
  {
   "cell_type": "code",
   "execution_count": null,
   "metadata": {},
   "outputs": [],
   "source": [
    "class Stack:\n",
    "        \n",
    "    class Node:\n",
    "        \n",
    "        def __init__(self, value, next = None):\n",
    "            self.value = value\n",
    "            self.next = next\n",
    "            \n",
    "    def __init__(self):\n",
    "        self.first = None\n",
    "        self.numElements = 0\n",
    "    \n",
    "    def push(self, item):\n",
    "        pass # Ihre Implementation kommt hierhin\n",
    "    \n",
    "    def pop(self):                \n",
    "        pass # Ihre Implementation kommt hierhin\n",
    "        \n",
    "    def size(self):\n",
    "        return self.numElements\n",
    "    \n",
    "    def isEmpty(self):\n",
    "        return self.size() == 0\n",
    "    \n",
    "    def __repr__(self):\n",
    "        outstr = \"[\" \n",
    "        currentNode = self.first\n",
    "        while currentNode != None:\n",
    "            outstr += str(currentNode.value) + \" \"\n",
    "            currentNode = currentNode.next\n",
    "        return outstr + \"]\""
   ]
  },
  {
   "cell_type": "markdown",
   "metadata": {},
   "source": [
    "### Client"
   ]
  },
  {
   "cell_type": "markdown",
   "metadata": {},
   "source": [
    "Stacks werden immer dann gebraucht, wenn man das letzte einkommende Elemement als erstes Verarbeiten muss. Sie sind aber auch nützlich um Elemente umzusortieren, wie in diesem Beispiel gezeigt."
   ]
  },
  {
   "cell_type": "code",
   "execution_count": null,
   "metadata": {},
   "outputs": [],
   "source": [
    "testdata = [\"are\", \"you\", \"as\", \"happy\", \"as\", \"I\", \"am\"]"
   ]
  },
  {
   "cell_type": "markdown",
   "metadata": {},
   "source": [
    "Mittels der Push Methode werden die Elemente zum Stack hinzugefügt."
   ]
  },
  {
   "cell_type": "code",
   "execution_count": null,
   "metadata": {},
   "outputs": [],
   "source": [
    "stack = Stack()\n",
    "for datum in testdata:\n",
    "    stack.push(datum)    "
   ]
  },
  {
   "cell_type": "code",
   "execution_count": null,
   "metadata": {},
   "outputs": [],
   "source": [
    "while not stack.isEmpty():\n",
    "    print(stack.pop())"
   ]
  },
  {
   "cell_type": "markdown",
   "metadata": {},
   "source": [
    "Typischerweise wollen wir aber nicht über die Elemente iterieren, sondern ein Element vom Stapel entfernen und dann direkt mit diesem Arbeiten. Das wird mit der Methode pop erreicht."
   ]
  },
  {
   "cell_type": "markdown",
   "metadata": {},
   "source": [
    "# Queues"
   ]
  },
  {
   "cell_type": "markdown",
   "metadata": {},
   "source": [
    "### Implementation"
   ]
  },
  {
   "cell_type": "markdown",
   "metadata": {},
   "source": [
    "Die folgende Klasse zeigt eine einfache Implementation einer Warteschlange (Queue) mittels einer verketteten Liste.\n"
   ]
  },
  {
   "cell_type": "code",
   "execution_count": null,
   "metadata": {},
   "outputs": [],
   "source": [
    "class Queue:\n",
    "    \n",
    "    \n",
    "    class Node:        \n",
    "        def __init__(self, value, next = None):\n",
    "            self.value = value\n",
    "            self.next = next\n",
    "    \n",
    "    def __init__(self):\n",
    "        self.first = None\n",
    "        self.last = None\n",
    "        self.numberOfElements = 0\n",
    "        \n",
    "    def enqueue(self, item):\n",
    "        pass  # Ihre Implementation kommt hierhin\n",
    "\n",
    "    \n",
    "    def dequeue(self):  \n",
    "        pass # Ihre Implementation kommt hierhin\n",
    "    \n",
    "    def size(self):\n",
    "        return self.numberOfElements\n",
    "    \n",
    "    def isEmpty(self):\n",
    "        return self.size() == 0\n",
    "    "
   ]
  },
  {
   "cell_type": "markdown",
   "metadata": {},
   "source": [
    "### Client"
   ]
  },
  {
   "cell_type": "markdown",
   "metadata": {},
   "source": [
    "Warteschlangen sind immer dann sinnvoll, wenn wir Elemente speichern wollen, die relative Reihenfolge der Elemente aber beibehalten wollen. "
   ]
  },
  {
   "cell_type": "code",
   "execution_count": null,
   "metadata": {},
   "outputs": [],
   "source": [
    "testData = [\"the\", \"order\", \"of\", \"the\", \"elements\", \"is\", \"important\"]"
   ]
  },
  {
   "cell_type": "markdown",
   "metadata": {},
   "source": [
    "Mittels der enqueue Methode werden Daten zur Warteschlange hinzugefügt. "
   ]
  },
  {
   "cell_type": "code",
   "execution_count": null,
   "metadata": {},
   "outputs": [],
   "source": [
    "queue = Queue()\n",
    "for datum in testData:\n",
    "    queue.enqueue(datum)    "
   ]
  },
  {
   "cell_type": "code",
   "execution_count": null,
   "metadata": {},
   "outputs": [],
   "source": [
    "while not queue.isEmpty():\n",
    "    print(queue.dequeue())"
   ]
  },
  {
   "cell_type": "markdown",
   "metadata": {},
   "source": [
    "\n",
    "## Multimengen (Bags)"
   ]
  },
  {
   "cell_type": "markdown",
   "metadata": {},
   "source": [
    "### Implementation"
   ]
  },
  {
   "cell_type": "markdown",
   "metadata": {},
   "source": [
    "Die folgende Klasse zeigt eine einfache Implementation einer Multimengen (Bag). Diese entspricht genau der Implementation von Stack, einfach ohne pop Methode. Dafür implementieren wir einen ```Iterator``` um über alle Elemente iterieren zu können."
   ]
  },
  {
   "cell_type": "code",
   "execution_count": null,
   "metadata": {},
   "outputs": [],
   "source": [
    "class Bag:\n",
    "        \n",
    "    class Node:\n",
    "        \n",
    "        def __init__(self, value, next = None):            \n",
    "            self.value = value\n",
    "            self.next = next\n",
    "            \n",
    "    def __init__(self):\n",
    "        self.first = None\n",
    "        self.numElements = 0\n",
    "    \n",
    "    def add(self, item):\n",
    "        self.numElements += 1\n",
    "        if self.first == None:\n",
    "            self.first = Bag.Node(item)\n",
    "        else:\n",
    "            self.first = Bag.Node(item, self.first)\n",
    "    \n",
    "    def pop(self):                \n",
    "        if self.first == None:\n",
    "            raise(Exception(\"popping from empty stack\"))\n",
    "        \n",
    "        self.numElements -= 1\n",
    "        \n",
    "        value = self.first.value\n",
    "        self.first = self.first.next\n",
    "        return value\n",
    "        \n",
    "    def size(self):\n",
    "        return self.numElements\n",
    "    \n",
    "    def isEmpty(self):\n",
    "        return self.size() == 0    \n",
    "    \n",
    "    \n",
    "    # Übung: Implementieren Sie hier einen Iterator\n",
    "    \n",
    "    def iterator(self):\n",
    "        return Bag.Iterator(self)       "
   ]
  },
  {
   "cell_type": "markdown",
   "metadata": {},
   "source": [
    "### Client"
   ]
  },
  {
   "cell_type": "markdown",
   "metadata": {},
   "source": [
    "Wir wollen uns einen Client implementieren, der den Mittelwert berechnet"
   ]
  },
  {
   "cell_type": "markdown",
   "metadata": {},
   "source": [
    "Schritte:\n",
    "* Testdaten generieren\n",
    "* In Bag speichern\n",
    "* Mittelwert ausrechnen"
   ]
  },
  {
   "cell_type": "code",
   "execution_count": null,
   "metadata": {},
   "outputs": [],
   "source": [
    "from random import gauss\n",
    "testdata = [gauss(1.0, 4.0) for _ in range(1000)]"
   ]
  },
  {
   "cell_type": "code",
   "execution_count": null,
   "metadata": {},
   "outputs": [],
   "source": [
    "bag = Bag()\n",
    "for t in testdata:\n",
    "    bag.add(t)"
   ]
  },
  {
   "cell_type": "code",
   "execution_count": null,
   "metadata": {},
   "outputs": [],
   "source": [
    "sum = 0.0\n",
    "it = bag.iterator()\n",
    "while (it.hasNext()):\n",
    "    sum = sum + it.next()\n",
    "mean = sum / bag.size()"
   ]
  },
  {
   "cell_type": "code",
   "execution_count": null,
   "metadata": {},
   "outputs": [],
   "source": [
    "print(mean)"
   ]
  },
  {
   "cell_type": "code",
   "execution_count": null,
   "metadata": {},
   "outputs": [],
   "source": []
  },
  {
   "cell_type": "markdown",
   "metadata": {},
   "source": [
    "# Anwendung: Dijkstra's Two-stack Algorithmus"
   ]
  },
  {
   "cell_type": "code",
   "execution_count": null,
   "metadata": {},
   "outputs": [],
   "source": [
    "def twoStack(expr):\n",
    "    valueStack = Stack()\n",
    "    operatorStack = Stack()\n",
    "    \n",
    "    operatorTable = {\n",
    "        \"+\" : lambda a, b: a + b,\n",
    "        \"*\" : lambda a, b: a * b,\n",
    "        \"/\" : lambda a, b: a / b,\n",
    "        \"-\" : lambda a, b: a - b\n",
    "    }\n",
    "    \n",
    "    for token in expr.split(' '):\n",
    "        if token.isdigit():\n",
    "            valueStack.push(int(token))\n",
    "        elif token == \"(\":\n",
    "            pass\n",
    "        elif token in [\"+\", \"*\", \"/\", \"-\"]:\n",
    "            operatorStack.push(token)\n",
    "        elif token == \")\":\n",
    "            value1 = valueStack.pop()\n",
    "            value2 = valueStack.pop()\n",
    "            f = operatorTable[operatorStack.pop()]\n",
    "            valueStack.push(f(value1, value2))\n",
    "        else:\n",
    "            print(\"invalid token \", token)\n",
    "            break\n",
    "        print(operatorStack)\n",
    "        print(valueStack)\n",
    "    return valueStack.pop()"
   ]
  },
  {
   "cell_type": "code",
   "execution_count": null,
   "metadata": {
    "scrolled": true
   },
   "outputs": [],
   "source": [
    "twoStack(\"( 1 + ( ( 2 + 3 ) * ( 4 * 5 ) ) )\")"
   ]
  },
  {
   "cell_type": "code",
   "execution_count": null,
   "metadata": {},
   "outputs": [],
   "source": [
    "twoStack(\"( 1 + ( ( 2 + 3 ) * ( 4 * 5 ) ) )\")"
   ]
  },
  {
   "cell_type": "code",
   "execution_count": null,
   "metadata": {},
   "outputs": [],
   "source": [
    "twoStack(\"( 1 + ( 5 * 20 ) )\")"
   ]
  }
 ],
 "metadata": {
  "kernelspec": {
   "display_name": "Python 3",
   "language": "python",
   "name": "python3"
  },
  "language_info": {
   "codemirror_mode": {
    "name": "ipython",
    "version": 3
   },
   "file_extension": ".py",
   "mimetype": "text/x-python",
   "name": "python",
   "nbconvert_exporter": "python",
   "pygments_lexer": "ipython3",
   "version": "3.6.7"
  }
 },
 "nbformat": 4,
 "nbformat_minor": 2
}
