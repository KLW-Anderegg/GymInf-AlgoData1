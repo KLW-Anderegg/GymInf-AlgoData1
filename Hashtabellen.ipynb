{
 "cells": [
  {
   "cell_type": "markdown",
   "metadata": {},
   "source": [
    "# Hashtabellen"
   ]
  },
  {
   "cell_type": "markdown",
   "metadata": {},
   "source": [
    "## Hashfunktionen"
   ]
  },
  {
   "cell_type": "markdown",
   "metadata": {},
   "source": [
    "Die wichtigste Komponente um einen Hashtabelle bauen zu können ist die Hashfunktion, welche uns für jedes Objekt einen Ganzzahligen Wert (den Hashwert) liefert. In Python berechnen wir dies mit der Funktion ```hash```. Für alle Standardtypen in Python ist die Hashfunktion bereits definiert."
   ]
  },
  {
   "cell_type": "code",
   "execution_count": 6,
   "metadata": {},
   "outputs": [
    {
     "name": "stdout",
     "output_type": "stream",
     "text": [
      "Hashwert für String abc 5729836735244780919\n",
      "Hashwert für Integer 7 7\n",
      "Hashwert für Tuple (\"abc\", 7) 4051561176675640957\n"
     ]
    }
   ],
   "source": [
    "print(\"Hashwert für String abc\", hash(\"abc\"))\n",
    "print(\"Hashwert für Integer 7\", hash(7))\n",
    "print(\"Hashwert für Tuple (\\\"abc\\\", 7)\", hash((\"abc\",7)))"
   ]
  },
  {
   "cell_type": "markdown",
   "metadata": {},
   "source": [
    "Sobald wir benutzerdefinierte Typen definieren, bei denen wir auch Gleichheit via der ```__eq__``` Methode definieren, müssen wir auch eine eigene Hashfunktion definieren."
   ]
  },
  {
   "cell_type": "code",
   "execution_count": 24,
   "metadata": {},
   "outputs": [],
   "source": [
    "class Date:\n",
    "    def __init__(self, day, month, year):\n",
    "        self.day = day\n",
    "        self.month = month\n",
    "        self.year = year\n",
    "    \n",
    "    def __eq__(self, that):\n",
    "        return self.year == that.year \\\n",
    "                and self.month == that.month \\\n",
    "                and self.day == that.day"
   ]
  },
  {
   "cell_type": "code",
   "execution_count": 25,
   "metadata": {},
   "outputs": [
    {
     "ename": "TypeError",
     "evalue": "unhashable type: 'Date'",
     "output_type": "error",
     "traceback": [
      "\u001b[0;31m---------------------------------------------------------------------------\u001b[0m",
      "\u001b[0;31mTypeError\u001b[0m                                 Traceback (most recent call last)",
      "\u001b[0;32m<ipython-input-25-a35ad1207381>\u001b[0m in \u001b[0;36m<module>\u001b[0;34m\u001b[0m\n\u001b[0;32m----> 1\u001b[0;31m \u001b[0mhash\u001b[0m\u001b[0;34m(\u001b[0m\u001b[0mDate\u001b[0m\u001b[0;34m(\u001b[0m\u001b[0;36m19\u001b[0m\u001b[0;34m,\u001b[0m \u001b[0;36m4\u001b[0m\u001b[0;34m,\u001b[0m \u001b[0;36m2018\u001b[0m\u001b[0;34m)\u001b[0m\u001b[0;34m)\u001b[0m\u001b[0;34m\u001b[0m\u001b[0;34m\u001b[0m\u001b[0m\n\u001b[0m",
      "\u001b[0;31mTypeError\u001b[0m: unhashable type: 'Date'"
     ]
    }
   ],
   "source": [
    "hash(Date(19, 4, 2018))\n"
   ]
  },
  {
   "cell_type": "markdown",
   "metadata": {},
   "source": [
    "Dies geht ganz einfach indem wir die  Methode ```__hash___``` implementieren."
   ]
  },
  {
   "cell_type": "code",
   "execution_count": 42,
   "metadata": {},
   "outputs": [],
   "source": [
    "class Date:\n",
    "    def __init__(self, day, month, year):\n",
    "        self.day = day\n",
    "        self.month = month\n",
    "        self.year = year\n",
    "    \n",
    "    def __eq__(self, that):\n",
    "        return self.year == that.year \\\n",
    "                and self.month == that.month \\\n",
    "                and self.day == that.day\n",
    "            \n",
    "    def __hash__(self):\n",
    "        return hash((self.day, self.month, self.year))\n",
    "    \n",
    "    def __str__(self):\n",
    "        return str((self.day, self.month, self.year))"
   ]
  },
  {
   "cell_type": "code",
   "execution_count": 43,
   "metadata": {},
   "outputs": [
    {
     "data": {
      "text/plain": [
       "6105194791981235"
      ]
     },
     "execution_count": 43,
     "metadata": {},
     "output_type": "execute_result"
    }
   ],
   "source": [
    "hash(Date(15,3,2018))"
   ]
  },
  {
   "cell_type": "markdown",
   "metadata": {},
   "source": [
    "### Modulares Hashing"
   ]
  },
  {
   "cell_type": "markdown",
   "metadata": {},
   "source": [
    "Für die Implementation von Hashtabellen interessiert uns nicht der wirkliche Hashwert, sondern wir wollen eine Zahl zwischen $0$ und $M$ (wobei $M$ die Tabellengrösse ist), die wir als Arrayindex verwenden können. Wir definieren uns die Funktion ```modHash```."
   ]
  },
  {
   "cell_type": "code",
   "execution_count": 44,
   "metadata": {},
   "outputs": [],
   "source": [
    "import sys\n",
    "def modHash(key, M):\n",
    "        positiveHash = hash(key) % ((sys.maxsize + 1) * 2) \n",
    "        return positiveHash % M"
   ]
  },
  {
   "cell_type": "markdown",
   "metadata": {},
   "source": [
    "Der Hashwert, der ja auch negativ sein kann, wird hier zuerst auf eine positiven Wert abgebildet und dann modulo $M$ gerechnet.  "
   ]
  },
  {
   "cell_type": "markdown",
   "metadata": {},
   "source": [
    "### Gleichverteilung von Hashwerten"
   ]
  },
  {
   "cell_type": "markdown",
   "metadata": {},
   "source": [
    "Eine gute Hashfunktion sollte die Werte etwa gleichverteilen. Wir können dies überpüfen, indem wir zufällige Objekte eines Typs generieren, und den modularen Hashwert plotten."
   ]
  },
  {
   "cell_type": "code",
   "execution_count": 58,
   "metadata": {},
   "outputs": [],
   "source": [
    "import random\n",
    "def randomDate():\n",
    "    return Date(random.randint(1, 31), random.randint(1, 12), random.randint(1900, 2018))"
   ]
  },
  {
   "cell_type": "code",
   "execution_count": 59,
   "metadata": {},
   "outputs": [],
   "source": [
    "import matplotlib.pyplot as plt\n"
   ]
  },
  {
   "cell_type": "code",
   "execution_count": 60,
   "metadata": {},
   "outputs": [
    {
     "data": {
      "image/png": "[encoded data removed]",
      "text/plain": [
       "<Figure size 432x288 with 1 Axes>"
      ]
     },
     "metadata": {
      "needs_background": "light"
     },
     "output_type": "display_data"
    }
   ],
   "source": [
    "M = 10\n",
    "hashes = [modHash(randomDate(), M) for _ in range(0, 10000)]\n",
    "n, bins, patches = plt.hist(hashes, M, facecolor='green', alpha=0.75)\n",
    "plt.show()"
   ]
  },
  {
   "cell_type": "markdown",
   "metadata": {},
   "source": [
    "Wir sehen, dass die Schlüssel in diesem Fall gleichverteilt sind. \n",
    "\n",
    "#### Übung: \n",
    "*Was passiert wenn sie zur Hashberechnung die Tage auslassen?*"
   ]
  },
  {
   "cell_type": "markdown",
   "metadata": {},
   "source": [
    "### Kollisionen"
   ]
  },
  {
   "cell_type": "markdown",
   "metadata": {
    "collapsed": true
   },
   "source": [
    "Bevor wir die Hashtabellen implementieren, schauen wir noch an, wie wahrscheinlich es ist, dass es zu Kollisionen kommt. "
   ]
  },
  {
   "cell_type": "markdown",
   "metadata": {
    "collapsed": true
   },
   "source": [
    "#### Geburtstagsparadoxon"
   ]
  },
  {
   "cell_type": "markdown",
   "metadata": {},
   "source": [
    "Das Geburtstagsparadoxon bezieht sich auf die Aussage, dass es auch bereits wenn die Anzahl Elemente $N$ im Vergleich zur Tabellengrösse $M$ noch klein ist, zu Kollisionen kommt. Beim klassischen Geburtstagsparadoxon ist $M=365$.\n",
    "Wir simulieren dies, indem wir hashWerte für unsere zufälligen Datumsobjekte generieren, bis wir eine erste Kollision haben."
   ]
  },
  {
   "cell_type": "code",
   "execution_count": 63,
   "metadata": {},
   "outputs": [
    {
     "data": {
      "image/png": "[encoded data removed]",
      "text/plain": [
       "<Figure size 432x288 with 1 Axes>"
      ]
     },
     "metadata": {
      "needs_background": "light"
     },
     "output_type": "display_data"
    }
   ],
   "source": [
    "M=365\n",
    "numExperiments = 1000\n",
    "earliestCollisionList = []\n",
    "for i in range(0, numExperiments):\n",
    "    hashesSeen = set()\n",
    "    for numElements in range(0, M):\n",
    "        newHash = modHash(randomDate(), M)\n",
    "        if newHash in hashesSeen:\n",
    "            earliestCollisionList.append(numElements)\n",
    "            break\n",
    "        else:\n",
    "            hashesSeen.add(newHash)\n",
    "            \n",
    "n, bins, patches = plt.hist(earliestCollisionList, 10, facecolor='green', alpha=0.75)\n",
    "plt.show()        "
   ]
  },
  {
   "cell_type": "markdown",
   "metadata": {
    "collapsed": true
   },
   "source": [
    "### Sammelbilderproblem"
   ]
  },
  {
   "cell_type": "markdown",
   "metadata": {
    "collapsed": true
   },
   "source": [
    "Beim Sammelbildproblem geht es darum zu sehen, wieviele Hashwerte (Bilder) wir generieren müssen, bevor wir jedes Bild der Kollektion (also Werte $1$-$M$) einmal gesehen haben. Auch dies können wir einfach simulieren."
   ]
  },
  {
   "cell_type": "code",
   "execution_count": 64,
   "metadata": {},
   "outputs": [
    {
     "name": "stdout",
     "output_type": "stream",
     "text": [
      "Anzahl Elemente gehasht bevor wir alle gesehen haben  4369\n"
     ]
    }
   ],
   "source": [
    "M = 500\n",
    "numberOfHashesGenerated = 0\n",
    "hashesSeen = set()\n",
    "while len(hashesSeen) < M:\n",
    "    r = random.randint(0, 1000000)\n",
    "    newHash = modHash(r, M)\n",
    "    if not newHash in hashesSeen:\n",
    "        hashesSeen.add(newHash)\n",
    "    numberOfHashesGenerated += 1\n",
    "    \n",
    "print(\"Anzahl Elemente gehasht bevor wir alle gesehen haben \", numberOfHashesGenerated)"
   ]
  },
  {
   "cell_type": "markdown",
   "metadata": {},
   "source": [
    "Interessant ist auch zu sehen, wie häufig wir jeden Hash sehen, bevor wir alle einmal gesehen haben. "
   ]
  },
  {
   "cell_type": "code",
   "execution_count": 65,
   "metadata": {},
   "outputs": [
    {
     "data": {
      "image/png": "[encoded data removed]",
      "text/plain": [
       "<Figure size 432x288 with 1 Axes>"
      ]
     },
     "metadata": {
      "needs_background": "light"
     },
     "output_type": "display_data"
    }
   ],
   "source": [
    "M = 50\n",
    "hashes = []\n",
    "hashesSeen = set()\n",
    "while len(hashesSeen) < M:\n",
    "    newHash = modHash(random.randint(0, 1000000), M)\n",
    "    if not newHash in hashesSeen:\n",
    "        hashesSeen.add(newHash)\n",
    "    hashes.append(newHash)\n",
    "\n",
    "            \n",
    "n, bins, patches = plt.hist(hashes, max(hashes), facecolor='green', alpha=0.75)\n",
    "plt.show()        "
   ]
  },
  {
   "cell_type": "markdown",
   "metadata": {},
   "source": [
    "## Implementation von Hashtabellen"
   ]
  },
  {
   "cell_type": "markdown",
   "metadata": {},
   "source": [
    "### Verkettung"
   ]
  },
  {
   "cell_type": "markdown",
   "metadata": {},
   "source": [
    "Die erste Implementation von Hashtabellen die wir sehen, löst Konflikte auf, indem für jedes Element im Array eine Verkettete Liste mit allen Schlüssel/Werte-paaren gespeichert wird. \n",
    "*Achtung: Wir nehmen hier eine fixe Grösse der Tabelle an. Sie können die resize Methoden als Übung hinzufügen.*"
   ]
  },
  {
   "cell_type": "code",
   "execution_count": 10,
   "metadata": {},
   "outputs": [],
   "source": [
    "import sys\n",
    "class SeparateChainingHashtable:\n",
    "    def __init__(self):\n",
    "        self._M = 31 # Number of chains\n",
    "        self._st = [None]*self._M # chains\n",
    "        self._N = 0\n",
    "    \n",
    "    class Node:\n",
    "        def __init__(self, key, value, next = None):\n",
    "            self.key = key\n",
    "            self.value = value\n",
    "            self.next = next\n",
    "      \n",
    "\n",
    "    def _hash(self, key):\n",
    "        positiveHash = hash(key) % ((sys.maxsize + 1) * 2) \n",
    "        return positiveHash % self._M\n",
    "        \n",
    "    def get(self, key):\n",
    "        i = self._hash(key);\n",
    "        x = self._st[i]\n",
    "        while x != None:\n",
    "            if key == x.key:\n",
    "                return x.value\n",
    "            x = x.next\n",
    "        return None\n",
    "    \n",
    "    def put(self, key, value):\n",
    "        i = self._hash(key);\n",
    "        x = self._st[i]\n",
    "        while x != None:\n",
    "            if key == x.key:\n",
    "                x.value = value\n",
    "                return\n",
    "            x = x.next\n",
    "        self._st[i] = SeparateChainingHashtable.Node(key, value, next = self._st[i]);\n",
    "        self._N += 1\n",
    "    \n",
    "    def delete(self, key):\n",
    "        i = self._hash(key);\n",
    "        \n",
    "        x  = self._st[i]\n",
    "        if x == None:\n",
    "            return\n",
    "        \n",
    "        if key == x.key:\n",
    "            self._st[i] = x.next   \n",
    "            self._N -= 1\n",
    "            return \n",
    "        \n",
    "        while x.next != None:\n",
    "            if key == x.next.key:\n",
    "                x.next = x.next.next\n",
    "                self._N -= 1\n",
    "                return\n",
    "        \n",
    "    def contains(self, key):\n",
    "        return get(key) != None\n",
    "    \n",
    "    def size(self):\n",
    "        return self._N\n",
    "    \n",
    "    def isEmpty(self):\n",
    "        return self.size() != None\n",
    "    \n",
    "    def keys(self):\n",
    "        for st in self._st:\n",
    "            x = st\n",
    "            while x != None:\n",
    "                yield x.key\n",
    "                x = x.next\n",
    "    \n",
    "    # helper function to diagnose implementation\n",
    "    def lengthOfInternalLists(self):\n",
    "        lengths = []\n",
    "        for st in self._st:\n",
    "            lengths.append(self._length(st))\n",
    "        return lengths\n",
    "    \n",
    "    def _length(self, st):\n",
    "        n = 0\n",
    "        x = st\n",
    "        while x != None:\n",
    "            n += 1\n",
    "            x = x.next\n",
    "        return n"
   ]
  },
  {
   "cell_type": "code",
   "execution_count": 11,
   "metadata": {},
   "outputs": [],
   "source": [
    "ht = SeparateChainingHashtable()\n",
    "for (pos, c) in enumerate(\"SEARCHEXAMPLE\"):\n",
    "    ht.put(c, pos)"
   ]
  },
  {
   "cell_type": "code",
   "execution_count": 12,
   "metadata": {},
   "outputs": [
    {
     "name": "stdout",
     "output_type": "stream",
     "text": [
      "C 4\n",
      "X 7\n",
      "R 3\n",
      "L 11\n",
      "H 5\n",
      "A 8\n",
      "M 9\n",
      "E 12\n",
      "S 0\n",
      "P 10\n"
     ]
    }
   ],
   "source": [
    "for key in ht.keys():\n",
    "    print(key, ht.get(key))"
   ]
  },
  {
   "cell_type": "markdown",
   "metadata": {},
   "source": [
    "Wir sehen, dass im Gegensatz zu Binären Suchbäumen, die Schüssel hier nicht geordnet sind. "
   ]
  },
  {
   "cell_type": "markdown",
   "metadata": {},
   "source": [
    "Als nächstes fügen wir zufällige Elemente ein und schauen uns die Länge der internen Listen an."
   ]
  },
  {
   "cell_type": "code",
   "execution_count": 21,
   "metadata": {},
   "outputs": [
    {
     "name": "stdout",
     "output_type": "stream",
     "text": [
      "[25, 45, 31, 40, 33, 33, 39, 32, 32, 36, 44, 46, 28, 33, 38, 36, 36, 30, 44, 34, 40, 32, 31, 39, 35, 44, 26, 43, 46, 34, 31]\n"
     ]
    }
   ],
   "source": [
    "ht = SeparateChainingHashtable()\n",
    "for i in range(0, 10000):\n",
    "    ht.put(randomDate(), \"\")\n",
    "print(ht.lengthOfInternalLists())\n"
   ]
  },
  {
   "cell_type": "markdown",
   "metadata": {},
   "source": [
    "## Lineares sondieren"
   ]
  },
  {
   "cell_type": "markdown",
   "metadata": {},
   "source": [
    "In der zweiten Implementation verwenden wir *lineares Sondieren*. \n",
    "\n",
    "*Achtung, auch hier belassen wir die Grösse der Tabelle fix. Für eine praktikable Implementation müssten wir natürlich die Tabelle dynamisch vergrössern.*"
   ]
  },
  {
   "cell_type": "code",
   "execution_count": 22,
   "metadata": {},
   "outputs": [],
   "source": [
    "class LinearProbingHashtable:\n",
    "    \n",
    "    def __init__(self, printKeysOnInsert=False):\n",
    "        self._M = 17 #7919\n",
    "        self._keys = [None] * self._M\n",
    "        self._values = [None] * self._M\n",
    "        self._N = 0\n",
    "        self._printKeys = printKeysOnInsert\n",
    "   \n",
    "    \n",
    "    def _hash(self, key):\n",
    "        positiveHash = hash(key) % ((sys.maxsize + 1) * 2) \n",
    "        return positiveHash % self._M\n",
    "\n",
    "    def get(self, key):\n",
    "        i = self._hash(key);\n",
    "        \n",
    "        while self._keys[i] != None:\n",
    "            if (self._keys[i] == key):\n",
    "                return self._values[i]\n",
    "            i = (i + 1) % len(self._keys)        \n",
    "    \n",
    "    def put(self, key, value):\n",
    "        if self._printKeys:\n",
    "            print(self._keys)\n",
    "            \n",
    "        i = self._hash(key)\n",
    "        while self._keys[i] != None:\n",
    "            if self._keys[i] == key:\n",
    "                break;\n",
    "            i = (i + 1) % len(self._keys)  \n",
    "        self._keys[i] = key;\n",
    "        self._values[i] = value\n",
    "        self._N += 1;\n",
    "    \n",
    "    def size(self):\n",
    "        return self._M\n",
    "\n",
    "    def isEmpty(self):\n",
    "        return self.size() != 0\n",
    "    \n",
    "    def contains(self, key):\n",
    "        return self.get(key) != None\n",
    "    \n",
    "    def keys(self):\n",
    "        for key in self._keys:\n",
    "            if (key != None):\n",
    "                yield key\n"
   ]
  },
  {
   "cell_type": "markdown",
   "metadata": {},
   "source": [
    "Wenn wir in diese Tabelle einfügen, und uns in jedem Schritt die Schlüssel ausgeben lassen, dann sehen wir das typische Clustering. "
   ]
  },
  {
   "cell_type": "code",
   "execution_count": 23,
   "metadata": {},
   "outputs": [
    {
     "name": "stdout",
     "output_type": "stream",
     "text": [
      "[None, None, None, None, None, None, None, None, None, None, None, None, None, None, None, None, None]\n",
      "[None, None, None, None, None, None, None, 'S', None, None, None, None, None, None, None, None, None]\n",
      "[None, None, None, None, None, None, None, 'S', None, 'E', None, None, None, None, None, None, None]\n",
      "[None, 'A', None, None, None, None, None, 'S', None, 'E', None, None, None, None, None, None, None]\n",
      "[None, 'A', None, None, None, None, None, 'S', None, 'E', None, 'R', None, None, None, None, None]\n",
      "[None, 'A', None, None, None, None, None, 'S', 'C', 'E', None, 'R', None, None, None, None, None]\n",
      "[None, 'A', None, None, None, None, None, 'S', 'C', 'E', None, 'R', None, None, None, None, 'H']\n",
      "[None, 'A', None, None, None, None, None, 'S', 'C', 'E', None, 'R', None, None, None, None, 'H']\n",
      "[None, 'A', None, None, None, None, 'X', 'S', 'C', 'E', None, 'R', None, None, None, None, 'H']\n",
      "[None, 'A', None, None, None, None, 'X', 'S', 'C', 'E', None, 'R', None, None, None, None, 'H']\n",
      "[None, 'A', 'M', None, None, None, 'X', 'S', 'C', 'E', None, 'R', None, None, None, None, 'H']\n",
      "[None, 'A', 'M', None, None, None, 'X', 'S', 'C', 'E', None, 'R', 'P', None, None, None, 'H']\n",
      "[None, 'A', 'M', 'L', None, None, 'X', 'S', 'C', 'E', None, 'R', 'P', None, None, None, 'H']\n"
     ]
    }
   ],
   "source": [
    "ht = LinearProbingHashtable(printKeysOnInsert=True)\n",
    "for (pos, c) in enumerate(\"SEARCHEXAMPLE\"):\n",
    "    ht.put(c, pos)"
   ]
  },
  {
   "cell_type": "code",
   "execution_count": null,
   "metadata": {
    "collapsed": true
   },
   "outputs": [],
   "source": []
  }
 ],
 "metadata": {
  "anaconda-cloud": {},
  "kernelspec": {
   "display_name": "Python 3",
   "language": "python",
   "name": "python3"
  },
  "language_info": {
   "codemirror_mode": {
    "name": "ipython",
    "version": 3
   },
   "file_extension": ".py",
   "mimetype": "text/x-python",
   "name": "python",
   "nbconvert_exporter": "python",
   "pygments_lexer": "ipython3",
   "version": "3.6.7"
  },
  "nbpresent": {
   "slides": {},
   "themes": {}
  }
 },
 "nbformat": 4,
 "nbformat_minor": 1
}
