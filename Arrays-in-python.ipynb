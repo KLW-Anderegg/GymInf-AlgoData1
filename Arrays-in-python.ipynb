{
 "cells": [
  {
   "cell_type": "markdown",
   "metadata": {},
   "source": [
    "# Arrays in Python"
   ]
  },
  {
   "cell_type": "markdown",
   "metadata": {},
   "source": [
    "Arrays in Python sind durch den Datentyp ```List``` implementiert. Dies ist für unsere Vorlesung etwas verwirrend, da wir wenn meistens verkettete Listen meinen, wenn wir von Listen sprechen. Der Python Datentyp ```List``` ist aber ein Array im klassischen Sinn, welches Indexierung in Konstanter Zeit erlaubt.  "
   ]
  },
  {
   "cell_type": "markdown",
   "metadata": {},
   "source": [
    "#### Erzeugen von Arrays"
   ]
  },
  {
   "cell_type": "markdown",
   "metadata": {},
   "source": [
    "Folgende Aufrufe illustrieren verschiedene Möglichkeiten ein Array in Python zu erzeugen."
   ]
  },
  {
   "cell_type": "markdown",
   "metadata": {},
   "source": [
    "Ein Array kann kreiert werden, indem die Elemente zwischen eckigen Klammern [] geschrieben werden. Hier wird ein leeres Array erstellt:"
   ]
  },
  {
   "cell_type": "code",
   "execution_count": null,
   "metadata": {},
   "outputs": [],
   "source": [
    "[]"
   ]
  },
  {
   "cell_type": "markdown",
   "metadata": {},
   "source": [
    "Und hier ein Array mit 4 Elementen:"
   ]
  },
  {
   "cell_type": "code",
   "execution_count": null,
   "metadata": {},
   "outputs": [],
   "source": [
    "[\"a\", \"list\", \"of\", \"strings\"]"
   ]
  },
  {
   "cell_type": "markdown",
   "metadata": {},
   "source": [
    "Wenn wir ein Array der Grösse 10, welches alle Werte auf den Wert 0 initialisiert erzeugen wollen, schreiben wir das wie folgt."
   ]
  },
  {
   "cell_type": "code",
   "execution_count": 2,
   "metadata": {},
   "outputs": [
    {
     "data": {
      "text/plain": [
       "[0, 0, 0, 0, 0, 0, 0, 0, 0, 0]"
      ]
     },
     "execution_count": 2,
     "metadata": {},
     "output_type": "execute_result"
    }
   ],
   "source": [
    "[0] * 10"
   ]
  },
  {
   "cell_type": "markdown",
   "metadata": {},
   "source": [
    "*Übung: Erzeugen Sie ein Array der Grösse 5, dessen Elemente Leere String (\"\") sind*"
   ]
  },
  {
   "cell_type": "markdown",
   "metadata": {},
   "source": [
    "#### Elemente lesen und setzten"
   ]
  },
  {
   "cell_type": "markdown",
   "metadata": {},
   "source": [
    "Gegeben folgendes Testarray:"
   ]
  },
  {
   "cell_type": "code",
   "execution_count": 6,
   "metadata": {},
   "outputs": [],
   "source": [
    "xs = [\"a\", \"b\", \"c\", \"d\"]"
   ]
  },
  {
   "cell_type": "markdown",
   "metadata": {},
   "source": [
    "Lesen und setzen von Elementen machen wir mit dem [] Operator. Hier lesen wir das erste Element:"
   ]
  },
  {
   "cell_type": "code",
   "execution_count": 7,
   "metadata": {},
   "outputs": [
    {
     "name": "stdout",
     "output_type": "stream",
     "text": [
      "a\n"
     ]
    }
   ],
   "source": [
    "print(xs[0])"
   ]
  },
  {
   "cell_type": "markdown",
   "metadata": {},
   "source": [
    "Python erlaubt auch negative Indices. Wenn der Index negativ ist, wird vom Ende gezählt:"
   ]
  },
  {
   "cell_type": "code",
   "execution_count": 8,
   "metadata": {},
   "outputs": [
    {
     "name": "stdout",
     "output_type": "stream",
     "text": [
      "d\n"
     ]
    }
   ],
   "source": [
    "print(xs[-1])"
   ]
  },
  {
   "cell_type": "markdown",
   "metadata": {},
   "source": [
    "Für das setzen eines Wertes, weisen wir dem entsprechenden Arrayelement einfach einen Wert zu:"
   ]
  },
  {
   "cell_type": "code",
   "execution_count": 9,
   "metadata": {},
   "outputs": [],
   "source": [
    "xs[2]=\"c'\""
   ]
  },
  {
   "cell_type": "markdown",
   "metadata": {},
   "source": [
    "Wir sehen, dass hier wirklich der Wert verändert wurde. "
   ]
  },
  {
   "cell_type": "code",
   "execution_count": 10,
   "metadata": {},
   "outputs": [
    {
     "name": "stdout",
     "output_type": "stream",
     "text": [
      "['a', 'b', \"c'\", 'd']\n"
     ]
    }
   ],
   "source": [
    "print(xs)"
   ]
  },
  {
   "cell_type": "markdown",
   "metadata": {},
   "source": [
    "#### Länge eines Arrays"
   ]
  },
  {
   "cell_type": "markdown",
   "metadata": {},
   "source": [
    "Die Länge eines Arrays kann mittels der Python Funktion ```len``` bestimmt werden. "
   ]
  },
  {
   "cell_type": "code",
   "execution_count": 12,
   "metadata": {},
   "outputs": [
    {
     "data": {
      "text/plain": [
       "4"
      ]
     },
     "execution_count": 12,
     "metadata": {},
     "output_type": "execute_result"
    }
   ],
   "source": [
    "len(xs)"
   ]
  },
  {
   "cell_type": "code",
   "execution_count": 15,
   "metadata": {},
   "outputs": [
    {
     "data": {
      "text/plain": [
       "100"
      ]
     },
     "execution_count": 15,
     "metadata": {},
     "output_type": "execute_result"
    }
   ],
   "source": [
    "len([0]*100)"
   ]
  },
  {
   "cell_type": "markdown",
   "metadata": {},
   "source": [
    "#### Finden eines Elements"
   ]
  },
  {
   "cell_type": "markdown",
   "metadata": {},
   "source": [
    "Python erlaubt uns auch, nach Elementen in einem Array zu suchen. Die Syntax dafür ist jedoch etwas gewöhnungsbedürftig. Es wird der ```in``` Operator verwendet. "
   ]
  },
  {
   "cell_type": "markdown",
   "metadata": {},
   "source": [
    "Der Folgende Ausdruck ergibt ```true```, da das Element ```a``` in ```xs``` enthalten ist:"
   ]
  },
  {
   "cell_type": "code",
   "execution_count": 20,
   "metadata": {},
   "outputs": [
    {
     "data": {
      "text/plain": [
       "True"
      ]
     },
     "execution_count": 20,
     "metadata": {},
     "output_type": "execute_result"
    }
   ],
   "source": [
    "\"a\" in xs"
   ]
  },
  {
   "cell_type": "markdown",
   "metadata": {},
   "source": [
    "Der folgende Ausdruck ergibt jedoch ```false```."
   ]
  },
  {
   "cell_type": "code",
   "execution_count": 21,
   "metadata": {},
   "outputs": [
    {
     "data": {
      "text/plain": [
       "False"
      ]
     },
     "execution_count": 21,
     "metadata": {},
     "output_type": "execute_result"
    }
   ],
   "source": [
    "\"I cannot be found \" in xs"
   ]
  },
  {
   "cell_type": "markdown",
   "metadata": {},
   "source": [
    "Mit der Methode ```index``` können wir uns auch die Position eines Elements im Array angeben lassen:"
   ]
  },
  {
   "cell_type": "code",
   "execution_count": 28,
   "metadata": {},
   "outputs": [
    {
     "data": {
      "text/plain": [
       "1"
      ]
     },
     "execution_count": 28,
     "metadata": {},
     "output_type": "execute_result"
    }
   ],
   "source": [
    "xs.index(\"b\")"
   ]
  },
  {
   "cell_type": "markdown",
   "metadata": {},
   "source": [
    "*Übung: Was passiert, wenn das Element nicht vorhanden ist?*"
   ]
  },
  {
   "cell_type": "markdown",
   "metadata": {},
   "source": [
    "### Laufzeit "
   ]
  },
  {
   "cell_type": "markdown",
   "metadata": {},
   "source": [
    "Im folgenden messen wir die Laufzeit der verschiedenen Operationen für Arrays von wachsender Grösse. Wir nutzen dazu die Funktion ```timeit``` aus dem gleichnamigen Modul ```timeit```, welche uns erlaubt eine Funktion ```n``` mal aufzurufen. Damit unser Experiment repräsentativ ist, wählen wir das Element zufällig aus. Dafür benötigen wir das Modul ```random```."
   ]
  },
  {
   "cell_type": "code",
   "execution_count": 29,
   "metadata": {},
   "outputs": [],
   "source": [
    "import timeit\n",
    "import random"
   ]
  },
  {
   "cell_type": "markdown",
   "metadata": {},
   "source": [
    "```timeit```nimmt als erstes Argument eine funktion ohne Argumente, welche Ausgeführt wird, und ein Keyword-Argument ```number``` in dem die Anzahl Wiederholungen angegeben werden. Der folgende Aufruf führt also 10 mal die Funktion aus, die \"hallo\" ausgibt und berechnet die Zeit die dafür durchschnittlich benötigt wird. Dieses mehrmalige Durchführen eines Experiments ist wichtig, da die Laufzeit jedes einzelnen Aufrufs zufälligen Variationen, bedingt durch zum Beispiel die CPU Auslastung oder Betriebssysteminterne Funktionen, ausgesetzt ist. "
   ]
  },
  {
   "cell_type": "code",
   "execution_count": 43,
   "metadata": {},
   "outputs": [
    {
     "name": "stdout",
     "output_type": "stream",
     "text": [
      "hallo\n",
      "hallo\n",
      "hallo\n",
      "hallo\n",
      "hallo\n",
      "hallo\n",
      "hallo\n",
      "hallo\n",
      "hallo\n",
      "hallo\n"
     ]
    },
    {
     "data": {
      "text/plain": [
       "0.00037879999945289455"
      ]
     },
     "execution_count": 43,
     "metadata": {},
     "output_type": "execute_result"
    }
   ],
   "source": [
    "    \n",
    "timeit.timeit(lambda: print(\"hallo\"), number=10)"
   ]
  },
  {
   "cell_type": "markdown",
   "metadata": {},
   "source": [
    "Wir setzen uns nun Testfunktionen auf um die Experimente mit den Arrays durchzuführen."
   ]
  },
  {
   "cell_type": "markdown",
   "metadata": {},
   "source": [
    "Als erstes schreiben wir eine Hilfsfunktion, welche uns 7 Arrays kreiert und zurückgibt. Das erste Array hat die Grösse 10 und das letzte die Grösse $10^7$."
   ]
  },
  {
   "cell_type": "code",
   "execution_count": 39,
   "metadata": {},
   "outputs": [],
   "source": [
    "def createArrays():\n",
    "    return [ [0]*(10**i) for i in range(1, 8)]"
   ]
  },
  {
   "cell_type": "markdown",
   "metadata": {},
   "source": [
    "Bei unserem ersten Test experimentieren wir mit der Laufzeit für den Arrayzugriff. Wir schreiben dafür die Funktion ```accessArray```, welches jeweils auf einen zufälligen Index im übergebenen Array ```a``` zugreift."
   ]
  },
  {
   "cell_type": "code",
   "execution_count": 40,
   "metadata": {},
   "outputs": [],
   "source": [
    "def accessArray(a):\n",
    "    r = random.randint(0, len(a)-1)\n",
    "    a[r] = 10\n",
    "    "
   ]
  },
  {
   "cell_type": "markdown",
   "metadata": {},
   "source": [
    "Nun können wir die Zugriffszeit für die Arrays der Grösse 10 bis $10^7$ testen:"
   ]
  },
  {
   "cell_type": "code",
   "execution_count": 48,
   "metadata": {},
   "outputs": [
    {
     "name": "stdout",
     "output_type": "stream",
     "text": [
      "Zeit für Array der Länge 10 = 0.1334937000010541\n",
      "Zeit für Array der Länge 100 = 0.11824180000076012\n",
      "Zeit für Array der Länge 1000 = 0.13340229999994335\n",
      "Zeit für Array der Länge 10000 = 0.134355999998661\n",
      "Zeit für Array der Länge 100000 = 0.13474929999938468\n",
      "Zeit für Array der Länge 1000000 = 0.12925600000016857\n",
      "Zeit für Array der Länge 10000000 = 0.1504967000000761\n"
     ]
    }
   ],
   "source": [
    "for array in createArrays():\n",
    "    t = timeit.timeit(lambda: accessArray(array), number=100000)\n",
    "    print(\"Zeit für Array der Länge \" + str(len(array)) + \" = \" + str(t))"
   ]
  },
  {
   "cell_type": "markdown",
   "metadata": {},
   "source": [
    "Wir sehen, dass die Zugriffszeit immer etwa gleich bleibt, obwohl die Länge des Arrays jeweils um Faktor 10 zunimmt. Die Laufzeit um ein Element an beliebiger Stelle zu lesen oder zu schreiben ist also konstant."
   ]
  },
  {
   "cell_type": "markdown",
   "metadata": {},
   "source": [
    "Nun testen wir die Operation ```find```:"
   ]
  },
  {
   "cell_type": "code",
   "execution_count": 51,
   "metadata": {},
   "outputs": [],
   "source": [
    "def findInArray(a):\n",
    "   c = \"you wont find me\" in a"
   ]
  },
  {
   "cell_type": "code",
   "execution_count": 55,
   "metadata": {},
   "outputs": [
    {
     "name": "stdout",
     "output_type": "stream",
     "text": [
      "Zeit für Array der Länge 10 = 0.0006816999994043726\n",
      "Zeit für Array der Länge 100 = 0.002113200000167126\n",
      "Zeit für Array der Länge 1000 = 0.0162319999999454\n",
      "Zeit für Array der Länge 10000 = 0.1378740000000107\n",
      "Zeit für Array der Länge 100000 = 1.3418303999987984\n",
      "Zeit für Array der Länge 1000000 = 13.501658599998336\n",
      "Zeit für Array der Länge 10000000 = 138.8809749000011\n"
     ]
    }
   ],
   "source": [
    "for array in createArrays():\n",
    "    t = timeit.timeit(lambda: findInArray(array), number=1000)\n",
    "    print(\"Zeit für Array der Länge \" + str(len(array)) + \" = \" + str(t))"
   ]
  },
  {
   "cell_type": "markdown",
   "metadata": {},
   "source": [
    "Wir sehen, dass hier die Laufzeit ungefähr linear zunimmt. Auch dies entspricht unseren Erwartungen. "
   ]
  },
  {
   "cell_type": "markdown",
   "metadata": {},
   "source": [
    "*Übung: In diesem Experiment wurde das Element nie gefunden. Würde sich etwas ändern, wenn das Element gefunden wird? Experimentieren Sie!*"
   ]
  },
  {
   "cell_type": "markdown",
   "metadata": {},
   "source": [
    "Zum Schluss wollen wir noch die Laufzeit der Operation ```len``` testen. Unsere Hypothesis ist, dass diese in konstanter Laufzeit berechnet werden kann, da wir einfach für jedes Array die Länge speichern können. Das dies wirklich der Fall ist zeigt folgendes Experiment. "
   ]
  },
  {
   "cell_type": "code",
   "execution_count": 58,
   "metadata": {},
   "outputs": [
    {
     "name": "stdout",
     "output_type": "stream",
     "text": [
      "Zeit für Array der Länge 10 = 0.017624500000238186\n",
      "Zeit für Array der Länge 100 = 0.013685600000826526\n",
      "Zeit für Array der Länge 1000 = 0.013178100000004633\n",
      "Zeit für Array der Länge 10000 = 0.012543900000309804\n",
      "Zeit für Array der Länge 100000 = 0.0131279999986873\n",
      "Zeit für Array der Länge 1000000 = 0.014077899999392685\n",
      "Zeit für Array der Länge 10000000 = 0.018788699999277014\n"
     ]
    }
   ],
   "source": [
    "for array in createArrays():\n",
    "    t = timeit.timeit(lambda: len(array), number=100000)\n",
    "    print(\"Zeit für Array der Länge \" + str(len(array)) + \" = \" + str(t))"
   ]
  }
 ],
 "metadata": {
  "anaconda-cloud": {},
  "kernelspec": {
   "display_name": "Python 3",
   "language": "python",
   "name": "python3"
  },
  "language_info": {
   "codemirror_mode": {
    "name": "ipython",
    "version": 3
   },
   "file_extension": ".py",
   "mimetype": "text/x-python",
   "name": "python",
   "nbconvert_exporter": "python",
   "pygments_lexer": "ipython3",
   "version": "3.7.4"
  }
 },
 "nbformat": 4,
 "nbformat_minor": 1
}
