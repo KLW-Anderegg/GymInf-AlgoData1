{
 "cells": [
  {
   "cell_type": "markdown",
   "metadata": {},
   "source": [
    "# Symboltabellen"
   ]
  },
  {
   "cell_type": "markdown",
   "metadata": {},
   "source": [
    "In diesem Notebook schauen wir uns Symboltabellen an. Wir diskutieren verschiedene Implementationen mit unterschiedlichen, zugrunde liegenden Datenstrukturen. Wir werden uns im folgende 3 verschiedene Implementationen besprechen:\n",
    "\n",
    "1. Implementation mit verketteter Liste\n",
    "2. Implementation mittel geordnetem Array\n",
    "3. Implementation mittels binären Suchbäumen. \n",
    "\n",
    "Die wichtigste Operation in Symboltabellen ist das Suchen von zu einem zu einem Schlüssel dazugehörenden Wert. Diese Operation liefert den Wert in der Symboltabelle zuück, der unter dem Schlüssel in der Symboltabelle gespeichert ist, der *gleich* dem Anfrageschlüssel ist. Die *Gleichheit* von Schlüsseln spielt hier also eine wichtige Rolle. Deshalb werden wir uns, bevor wir zu den Implementationen kommen, zuerst Objektgleichheit in Python genauer anschauen. "
   ]
  },
  {
   "cell_type": "markdown",
   "metadata": {},
   "source": [
    "## Objektgleichheit"
   ]
  },
  {
   "cell_type": "markdown",
   "metadata": {},
   "source": [
    "Intuitiv ist uns klar, was es bedeutet, dass zwei Objekte gleich sind. Zum Beispiel wissen wir, dass wenn"
   ]
  },
  {
   "cell_type": "code",
   "execution_count": 15,
   "metadata": {},
   "outputs": [],
   "source": [
    "s1 = \"Hallo\"\n",
    "s2 = \"Hallo\""
   ]
  },
  {
   "cell_type": "markdown",
   "metadata": {},
   "source": [
    "dann sollte auch s1 und s2 gleich sein. Also möchten wir, dass folgender Ausdruck ```true``` ergibt:"
   ]
  },
  {
   "cell_type": "code",
   "execution_count": 16,
   "metadata": {},
   "outputs": [
    {
     "data": {
      "text/plain": [
       "True"
      ]
     },
     "execution_count": 16,
     "metadata": {},
     "output_type": "execute_result"
    }
   ],
   "source": [
    "s1 == s2"
   ]
  },
  {
   "cell_type": "markdown",
   "metadata": {},
   "source": [
    "Für die von Python vordefinierten Typen wie Strings, Int, Float, etc. stimmt dies auch tatsächlich. Wenn wir aber unsere eigenen Typen definieren, wird die Sache etwas schwieriger. Wir veranschaulichen dies am Beispiel der Klasse Datum, die wie folgt definieren:"
   ]
  },
  {
   "cell_type": "code",
   "execution_count": 17,
   "metadata": {},
   "outputs": [],
   "source": [
    "class Date:\n",
    "    def __init__(self, day, month, year):\n",
    "        self.day = day\n",
    "        self.month = month\n",
    "        self.year = year"
   ]
  },
  {
   "cell_type": "markdown",
   "metadata": {},
   "source": [
    "Jetzt beobachten wir, was passiert, wenn wir zwei Objekte vom Typ Datum vergleichen:"
   ]
  },
  {
   "cell_type": "code",
   "execution_count": 18,
   "metadata": {},
   "outputs": [
    {
     "data": {
      "text/plain": [
       "False"
      ]
     },
     "execution_count": 18,
     "metadata": {},
     "output_type": "execute_result"
    }
   ],
   "source": [
    "d1 = Date(1, 1, 2018)\n",
    "d2 = Date(1, 1, 2018)\n",
    "d1 == d2"
   ]
  },
  {
   "cell_type": "markdown",
   "metadata": {},
   "source": [
    "Wir sehen, dass die Objekte ```d1``` und ```d2``` von Python als ungleich erachtet werden. Der Grund ist, dass per default die Gleichheit nur auf Objektidentitäten definiert ist. Das bedeutet, es wird nur verglichen ob es sich um das gleiche Objekt handelt, aber nicht ob der Inhalt gleich ist. Wenn wir Objekte als Schlüssel für Symboltabellen verwenden wollen, reicht diese Definition von Gleichheit nicht aus."
   ]
  },
  {
   "cell_type": "markdown",
   "metadata": {},
   "source": [
    "Damit wir auch für benutzerdefinierte Typen, richtige Objektgleichheit haben, müssen wir die Methode ```__eq__``` implementieren. Diese Methode muss eine Äquivalenzrelation definieren, also folgende Anforderungen erfüllen:\n",
    "\n",
    "* Reflexivität: $x == x$ ist wahr\n",
    "* Symmetrie: $x == y$ genau dann wenn $y == x$\n",
    "* Transitivät: $x ==y $ und $y == z$ dann $x == z$"
   ]
  },
  {
   "cell_type": "markdown",
   "metadata": {},
   "source": [
    "In der Praxis ist die Implementation der Methode ```__eq__``` meist sehr einfach, da wir diese direkt über die Felder der Klasse definieren können. "
   ]
  },
  {
   "cell_type": "code",
   "execution_count": 19,
   "metadata": {},
   "outputs": [],
   "source": [
    "class Date:\n",
    "    def __init__(self, day, month, year):\n",
    "        self.day = day\n",
    "        self.month = month\n",
    "        self.year = year\n",
    "        \n",
    "    def __eq__(self, rhs):\n",
    "        return self.day == rhs.day \\\n",
    "            and self.month == rhs.month \\\n",
    "            and self.year == rhs.year"
   ]
  },
  {
   "cell_type": "markdown",
   "metadata": {},
   "source": [
    "Wenn wir jetzt nochmals zwei Objekte vom Typ ```Date``` definieren, sollte alles richtig funktionieren:"
   ]
  },
  {
   "cell_type": "code",
   "execution_count": 20,
   "metadata": {},
   "outputs": [
    {
     "name": "stdout",
     "output_type": "stream",
     "text": [
      "d1==d2:  True\n",
      "d1==d3:  False\n",
      "d1!=d3:  True\n"
     ]
    }
   ],
   "source": [
    "d1 = Date(1, 1, 2018)\n",
    "d2 = Date(1, 1, 2018)\n",
    "d3 = Date (2, 2, 2018)\n",
    "print(\"d1==d2: \", d1 == d2)\n",
    "print(\"d1==d3: \", d1 == d3)\n",
    "print(\"d1!=d3: \", d1 != d3)\n"
   ]
  },
  {
   "cell_type": "markdown",
   "metadata": {},
   "source": [
    "### Ordnungsrelationen"
   ]
  },
  {
   "cell_type": "markdown",
   "metadata": {},
   "source": [
    "Manchmal wollen wir nicht nur feststellen können, ob zwei Objekte gleich sind, sondern diese auch Ordnen können. Wie bei Gleichheit von Objekten kümmert sich Python / Java um die Ordnung von den vordefinierten Typen."
   ]
  },
  {
   "cell_type": "code",
   "execution_count": 21,
   "metadata": {},
   "outputs": [
    {
     "data": {
      "text/plain": [
       "True"
      ]
     },
     "execution_count": 21,
     "metadata": {},
     "output_type": "execute_result"
    }
   ],
   "source": [
    "\"AA\" < \"AB\""
   ]
  },
  {
   "cell_type": "code",
   "execution_count": 22,
   "metadata": {},
   "outputs": [
    {
     "data": {
      "text/plain": [
       "True"
      ]
     },
     "execution_count": 22,
     "metadata": {},
     "output_type": "execute_result"
    }
   ],
   "source": [
    "\"AB\" > \"AA\""
   ]
  },
  {
   "cell_type": "markdown",
   "metadata": {},
   "source": [
    "Für benutzerdefinierte Typen, die ja nicht immer eine Ordnung haben, sind diese Operationen nicht definiert. "
   ]
  },
  {
   "cell_type": "code",
   "execution_count": 23,
   "metadata": {},
   "outputs": [
    {
     "ename": "TypeError",
     "evalue": "'>' not supported between instances of 'Date' and 'Date'",
     "output_type": "error",
     "traceback": [
      "\u001b[0;31m---------------------------------------------------------------------------\u001b[0m",
      "\u001b[0;31mTypeError\u001b[0m                                 Traceback (most recent call last)",
      "\u001b[0;32m<ipython-input-23-7c69d4392a97>\u001b[0m in \u001b[0;36m<module>\u001b[0;34m\u001b[0m\n\u001b[1;32m      1\u001b[0m \u001b[0md1\u001b[0m \u001b[0;34m=\u001b[0m \u001b[0mDate\u001b[0m\u001b[0;34m(\u001b[0m\u001b[0;36m1\u001b[0m\u001b[0;34m,\u001b[0m \u001b[0;36m1\u001b[0m\u001b[0;34m,\u001b[0m \u001b[0;36m1970\u001b[0m\u001b[0;34m)\u001b[0m\u001b[0;34m\u001b[0m\u001b[0;34m\u001b[0m\u001b[0m\n\u001b[1;32m      2\u001b[0m \u001b[0md2\u001b[0m \u001b[0;34m=\u001b[0m \u001b[0mDate\u001b[0m\u001b[0;34m(\u001b[0m\u001b[0;36m1\u001b[0m\u001b[0;34m,\u001b[0m \u001b[0;36m1\u001b[0m\u001b[0;34m,\u001b[0m \u001b[0;36m2018\u001b[0m\u001b[0;34m)\u001b[0m\u001b[0;34m\u001b[0m\u001b[0;34m\u001b[0m\u001b[0m\n\u001b[0;32m----> 3\u001b[0;31m \u001b[0md1\u001b[0m \u001b[0;34m>\u001b[0m \u001b[0md2\u001b[0m\u001b[0;34m\u001b[0m\u001b[0;34m\u001b[0m\u001b[0m\n\u001b[0m",
      "\u001b[0;31mTypeError\u001b[0m: '>' not supported between instances of 'Date' and 'Date'"
     ]
    }
   ],
   "source": [
    "d1 = Date(1, 1, 1970)\n",
    "d2 = Date(1, 1, 2018)\n",
    "d1 > d2"
   ]
  },
  {
   "cell_type": "markdown",
   "metadata": {},
   "source": [
    "Um diese Operation zu unterstützen, müssen wir die Python Methode ```__lt__``` implementieren und die Klasse mittels einer Annotation als geordnet kennzeichnen. \n",
    "\n",
    "*(Alternativ können wir auch alle funktionen ```__lt__```, ```__le__```, ```__gt__``` und ```__ge__``` implementieren)*"
   ]
  },
  {
   "cell_type": "code",
   "execution_count": null,
   "metadata": {},
   "outputs": [],
   "source": [
    "from functools import total_ordering\n",
    "\n",
    "@total_ordering\n",
    "class Date:\n",
    "    def __init__(self, day, month, year):\n",
    "        self.day = day\n",
    "        self.month = month\n",
    "        self.year = year\n",
    "        \n",
    "    def __eq__(self, rhs):\n",
    "        return self.day == rhs.day \\\n",
    "            and self.month == rhs.month \\\n",
    "            and self.year == rhs.year\n",
    "    def __lt__(self, rhs):\n",
    "        return self.year < rhs.year \\\n",
    "            or (self.year == rhs.year and self.month < rhs.month) \\\n",
    "            or (self.year == rhs.year and self.month == rhs.month) \\\n",
    "            and self.day < rhs.day"
   ]
  },
  {
   "cell_type": "code",
   "execution_count": null,
   "metadata": {},
   "outputs": [],
   "source": [
    "d1 = Date(1, 1, 1970)\n",
    "d2 = Date(1, 1, 2018)\n",
    "d1 < d2"
   ]
  },
  {
   "cell_type": "code",
   "execution_count": null,
   "metadata": {},
   "outputs": [],
   "source": [
    "d1 >= d1"
   ]
  },
  {
   "cell_type": "markdown",
   "metadata": {},
   "source": [
    "## Implementation 1: Symboltabelle mittels verketteter Liste"
   ]
  },
  {
   "cell_type": "markdown",
   "metadata": {},
   "source": [
    "Wir kommen nun zur ersten einfachen Implementation einer Symboltabelle. Diese Implementation sollte in der Praxis nie verwendet werden und dient nur dazu, den ADT Symboltabelle auf möglichst einfache Weise umzusetzen, so dass wir erste Testclients schreiben können.\n"
   ]
  },
  {
   "cell_type": "markdown",
   "metadata": {},
   "source": [
    "\n",
    "Die Implementation basiert auf einer Verketteten Liste. In den Knoten (Klasse ```Node```) speichern wir sowohl den Schlüssel als auch den zugehörigen Wert. \n",
    "\n",
    "Die ```put``` Operation stellt fest, ob der Schlüssel bereits in der Liste vorhanden ist. Falls nicht wird er am Anfang eingefügt. Falls der Schlüssel bereits vorhanden ist, wird der Wert überschrieben. \n",
    "\n",
    "Bei der ```get``` Methode wird der zum Schlüssel gehörende Wert in der Liste gesucht und, falls dieser gefunden wird, zurückgegeben. Die Hauptarbeit wird hier von der Hilfsmethode ```_findNodeWithKey``` übernommen, die den Knoten mit dem entsprechenden Schlüssel zurückgibt (oder ```None``` falls kein entsprechender Eintrag gefunden wurde). Dieselbe Methode wird auch beim ```delete``` verwendet. Hier wird einfach der entsprechende Knoten gesucht und, wenn dieser gefunden wurde, aus der Liste entfernt. \n",
    "\n",
    "Die Methode ```keys``` gibt einen Iterator zurück, mit welchem wir über alle Schlüssel iterieren können. \n"
   ]
  },
  {
   "cell_type": "code",
   "execution_count": null,
   "metadata": {},
   "outputs": [],
   "source": [
    "class SequentialSearchST:\n",
    "    \n",
    "    class Node:\n",
    "        def __init__(self, key, value, next = None):\n",
    "            self.key = key\n",
    "            self.value = value\n",
    "            self.next = next;\n",
    "    \n",
    "    \n",
    "    def __init__(self):\n",
    "        self._first = None\n",
    "        self._numberOfNodesInList = 0\n",
    "    \n",
    "    \n",
    "    def put(self, key, value):\n",
    "        if self._first == None:\n",
    "            self._first = SequentialSearchST.Node(key, value)\n",
    "            self._numberOfNodesInList += 1\n",
    "        else:\n",
    "            nodeWithKey = self._findNodeWithKey(key)\n",
    "            if nodeWithKey == None:\n",
    "                self._first = SequentialSearchST.Node(key, value, self._first)\n",
    "                self._numberOfNodesInList += 1\n",
    "            else:\n",
    "                nodeWithKey.value = value\n",
    "    \n",
    "    def get(self, key):\n",
    "        nodeWithKey = self._findNodeWithKey(key)\n",
    "        if nodeWithKey == None:\n",
    "            return None\n",
    "        else:\n",
    "            return nodeWithKey.value\n",
    "    \n",
    "    def delete(self, key):\n",
    "        if self._first == None:\n",
    "            return\n",
    "        if (self._first.key == key):\n",
    "            self._numberOfNodesInList = 0\n",
    "            self._first = self._first.next\n",
    "            return\n",
    "            \n",
    "        current = self._first\n",
    "        while (current.next != None):\n",
    "            if current.next.key == key:\n",
    "                current.next = current.next.next\n",
    "                self._numberOfNodesInList -= 1    \n",
    "                \n",
    "            current = current.next\n",
    "        \n",
    "    \n",
    "    def contains(self, key):\n",
    "        return self._findNodeWithKey(key) != None\n",
    "    \n",
    "    def isEmpty(self):\n",
    "        return self.size() == 0\n",
    "    \n",
    "    def size(self):\n",
    "        return self._numberOfNodesInList\n",
    "    \n",
    "    def _findNodeWithKey(self, key):\n",
    "        current = self._first\n",
    "        while (current != None):\n",
    "            if current.key == key:\n",
    "                return current\n",
    "            current = current.next\n",
    "        \n",
    "        return None # not found\n",
    "    \n",
    "    def keys(self):\n",
    "        if (self._first == None):\n",
    "            yield current.key\n",
    "        current = self._first\n",
    "        while (current != None):\n",
    "            yield current.key\n",
    "            current = current.next"
   ]
  },
  {
   "cell_type": "markdown",
   "metadata": {},
   "source": [
    "### Clients"
   ]
  },
  {
   "cell_type": "markdown",
   "metadata": {},
   "source": [
    "Im folgenden zeigeln wir die Nutzung von einer Symboltabelle an zwei einfachen Beispielen:"
   ]
  },
  {
   "cell_type": "markdown",
   "metadata": {},
   "source": [
    "#### Testclient\n",
    "\n",
    "Unser erster Client nimmt jeden Buchstaben von einem String als Key und die Position des Buchstabens im String als Wert."
   ]
  },
  {
   "cell_type": "code",
   "execution_count": null,
   "metadata": {},
   "outputs": [],
   "source": [
    "string = \"SEARCHEXAMPLE\"\n",
    "st = SequentialSearchST()\n",
    "for (pos, char) in enumerate(string):\n",
    "    st.put(char, pos)"
   ]
  },
  {
   "cell_type": "markdown",
   "metadata": {},
   "source": [
    "Um alle Objekte auszugeben, gehen wir durch alle Schlüssel und geben die dazugehörigen Werte aus:"
   ]
  },
  {
   "cell_type": "code",
   "execution_count": null,
   "metadata": {},
   "outputs": [],
   "source": [
    "for k in st.keys():\n",
    "    print(\"key: \" +str(k) + \" Wert: \" +str(st.get(k)))"
   ]
  },
  {
   "cell_type": "markdown",
   "metadata": {},
   "source": [
    "##### Übung:\n",
    "\n",
    "* Ersetzen Sie einen bereits vorhandenen Schlüssel mit der Methode ```put```. Was passiert?"
   ]
  },
  {
   "cell_type": "code",
   "execution_count": null,
   "metadata": {},
   "outputs": [],
   "source": [
    "# Antwort - Er wird ersetzt\n",
    "st.put(\"L\", 12)\n",
    "print(st.get(\"L\"))"
   ]
  },
  {
   "cell_type": "code",
   "execution_count": null,
   "metadata": {},
   "outputs": [],
   "source": []
  },
  {
   "cell_type": "markdown",
   "metadata": {},
   "source": [
    "#### Frequency Client\n",
    "\n",
    "Unser zweiter Client zeigt eine eine erste sinnvolle Anwendung von Symboltabellen. Er zählt, wie oft ein bestimmes Wort in einem Text vorkommt."
   ]
  },
  {
   "cell_type": "markdown",
   "metadata": {},
   "source": [
    "Als erstes bereiten wir einen Text auf. Wir nutzen den folgenden Ausschnitt aus \"Alice's Adventures in Wonderland\". Damit wir nicht durch die Satzzeichen gestört werden, entfernen wir diese zuerst. "
   ]
  },
  {
   "cell_type": "code",
   "execution_count": null,
   "metadata": {},
   "outputs": [],
   "source": [
    "testdataRaw = \"\"\" Alice was beginning to get very tired of \n",
    "sitting by her sister on the bank, and of having nothing to \n",
    "do:  once or twice she had peeped into the book her sister \n",
    "was reading, but it had no pictures or conversations in it, `and what is the use of a book,'\n",
    "thought Alice `without pictures or conversation?'\n",
    "\n",
    "  So she was considering in her own mind (as well as she could,\n",
    "for the hot day made her feel very sleepy and stupid), whether\n",
    "the pleasure of making a daisy-chain would be worth the trouble\n",
    "of getting up and picking the daisies, when suddenly a White\n",
    "Rabbit with pink eyes ran close by her.\n",
    "\n",
    "  There was nothing so VERY remarkable in that; nor did Alice\n",
    "think it so VERY much out of the way to hear the Rabbit say to\n",
    "itself, `Oh dear!  Oh dear!  I shall be late!'  (when she thought\n",
    "it over afterwards, it occurred to her that she ought to have\n",
    "wondered at this, but at the time it all seemed quite natural);\n",
    "but when the Rabbit actually TOOK A WATCH OUT OF ITS WAISTCOAT-\n",
    "POCKET, and looked at it, and then hurried on, Alice started to\n",
    "her feet, for it flashed across her mind that she had never\n",
    "before seen a rabbit with either a waistcoat-pocket, or a watch to\n",
    "take out of it, and burning with curiosity, she ran across the\n",
    "field after it, and fortunately was just in time to see it pop\n",
    "down a large rabbit-hole under the hedge.\n",
    "\"\"\"\n",
    "import string\n",
    "translator = str.maketrans('', '', string.punctuation)\n",
    "testdata = testdataRaw.translate(translator).lower()"
   ]
  },
  {
   "cell_type": "markdown",
   "metadata": {},
   "source": [
    "##### Übung: \n",
    "\n",
    "* Was macht die Python Methode translate? Explorieren Sie.\n",
    "\n",
    "*Antwort:* Die Methode ersetzt jedes Zeichen im String, gemäss einer Übersetzungstabelle, welche mit ```maketrans``` kreiert wurde. Hier werden alle Satzzeichen ersetzt. \n"
   ]
  },
  {
   "cell_type": "markdown",
   "metadata": {},
   "source": [
    "Nun iterieren wir durch alle Wörter und nutzen das Wort jeweils als Schlüssel. Für jeden Schlüssel speichern wir dann, wie oft wir diesen Schlüssel (also das Wort) bereits im Text gesehen haben. "
   ]
  },
  {
   "cell_type": "code",
   "execution_count": null,
   "metadata": {},
   "outputs": [],
   "source": [
    "st = SequentialSearchST()\n",
    "for word in testdata.split():\n",
    "    if len(word) > 5:\n",
    "        if st.contains(word):\n",
    "            st.put(word, st.get(word) + 1)\n",
    "        else:\n",
    "            st.put(word, 1)"
   ]
  },
  {
   "cell_type": "markdown",
   "metadata": {},
   "source": [
    "Wir können nun das Wort, welches am meisten vorkommt, ganz einfach auslesen. Beachten Sie, dass wir uns dazu eine Variable max führen, die immer auf das wort mit den meisten Einträgen zeigt. Am Anfang wird dies auf ein nicht existierendes Wort, mit 0 Einträgen gesetzt."
   ]
  },
  {
   "cell_type": "code",
   "execution_count": null,
   "metadata": {},
   "outputs": [],
   "source": [
    "maximum = \"\"\n",
    "st.put(\"\", 0)\n",
    "for word in st.keys():\n",
    "    if st.get(word) > st.get(maximum):\n",
    "        maximum = word\n",
    "print(maximum, st.get(maximum))"
   ]
  },
  {
   "cell_type": "markdown",
   "metadata": {},
   "source": [
    "#### Übung:\n",
    "* Geben Sie alle im Text vorkommende Wörter, zusammen mit deren Häufigkeit aus"
   ]
  },
  {
   "cell_type": "code",
   "execution_count": null,
   "metadata": {},
   "outputs": [],
   "source": [
    "# Antwort\n",
    "for key in st.keys():\n",
    "    print(key, st.get(key))"
   ]
  },
  {
   "cell_type": "markdown",
   "metadata": {},
   "source": [
    "## Implementation 2: Geordnete Arrays\n",
    "\n",
    "In unserer zweiten Implementation nutzen wir eine binäre Suche. Die binäre Suche ist eine effiziente Methode um festzustellen, ob ein gegebner Schlüssel in einem geordneten Array vorkommt. Dabei wird der Schlüssel zuerst mit dem mittleren Element im Array verglichen. Falls der Schlüssel dem mittleren Element entspricht, wird die entsprechende position im Array zurückgegeben. Ansonsten wird die Suche auf die selbe Weise im unteren oder oberen Teilarray fortgesetzt. "
   ]
  },
  {
   "cell_type": "code",
   "execution_count": null,
   "metadata": {},
   "outputs": [],
   "source": [
    "def binarySearch(a , key ):\n",
    "    lo = 0\n",
    "    hi = len(a) - 1\n",
    "    while lo  <= hi:\n",
    "        mid = (lo + hi) // 2        \n",
    "        if  a[mid] < key:\n",
    "            lo = mid + 1\n",
    "        elif  key  < a[mid]:\n",
    "            hi = mid - 1\n",
    "        else:\n",
    "            return mid\n",
    "    return None"
   ]
  },
  {
   "cell_type": "markdown",
   "metadata": {},
   "source": [
    "Bei einer erfolgreichen wird also der Index auf das gefundene Element zurückgegeben:"
   ]
  },
  {
   "cell_type": "code",
   "execution_count": null,
   "metadata": {},
   "outputs": [],
   "source": [
    "binarySearch([1, 2, 3, 4, 7, 11, 12, 17, 29, 33, 35], 33)"
   ]
  },
  {
   "cell_type": "markdown",
   "metadata": {},
   "source": [
    "Falls das Element nicht vorhanden ist, wird hier ```None``` zurückgegeben."
   ]
  },
  {
   "cell_type": "code",
   "execution_count": null,
   "metadata": {},
   "outputs": [],
   "source": [
    "binarySearch([1, 3, 7, 11, 19], 18)"
   ]
  },
  {
   "cell_type": "markdown",
   "metadata": {},
   "source": [
    "#### Übung:\n",
    "* Experimentieren Sie mit Binary search. Geben sie ```lo```, ```mid``` und ```hi``` aus um zu verstehen wie die Suche vor sich geht. "
   ]
  },
  {
   "cell_type": "markdown",
   "metadata": {},
   "source": [
    "Eine ähnliche Funktion, genannt ```rank```, bildet das Rückgrat unserer nächsten Implementation. Die Implementation von ```rank``` entspricht genau der binären Suche. Der einzige Unterschied ist, dass bei einer erfolglosen Suche ```lo``` statt ```None``` zurückgegeben wird. Dies hat den Effekt, dass der Rückgabewert immer genau der anzahl Elemente entspricht, die kleiner als der gesuchte Schlüssel sind."
   ]
  },
  {
   "cell_type": "code",
   "execution_count": null,
   "metadata": {},
   "outputs": [],
   "source": [
    "def rank(a , key ):\n",
    "    lo = 0\n",
    "    hi = len(a) - 1\n",
    "    while lo  <= hi:\n",
    "        mid = (lo + hi) // 2        \n",
    "        if  a[mid] < key:\n",
    "            lo = mid + 1\n",
    "        elif  key  < a[mid]:\n",
    "            hi = mid - 1\n",
    "        else:\n",
    "            return mid\n",
    "    return lo"
   ]
  },
  {
   "cell_type": "markdown",
   "metadata": {},
   "source": [
    "#### Übung:\n",
    "\n",
    "* Machen Sie eine erfolgreiche und erfolglose Suchanfrage und vergewissern Sie sich, dass der Rückgabewert genau der Anzahl Elementen entspricht, die kleiner als der gesuchte Schlüssel sind. \n",
    "* Argumentieren Sie, weshalb alle Schlüssel, die am Ende im Teilarray ```a[0:lo]``` sind kleiner oder gleich dem gesuchten Schlüssel sein müssen. "
   ]
  },
  {
   "cell_type": "code",
   "execution_count": null,
   "metadata": {},
   "outputs": [],
   "source": [
    "# Antwort (Teil 1):\n",
    "print(rank([1,3, 7, 15, 18], 7))\n",
    "print(rank([1,3, 7, 15, 18], 8))"
   ]
  },
  {
   "cell_type": "markdown",
   "metadata": {},
   "source": [
    "*Antwort Teil2*: Beachte, dass ```hi``` immer grösser ist, als das Element, welches wir suchen. Aber am Ende ist ```lo >= hi```"
   ]
  },
  {
   "cell_type": "markdown",
   "metadata": {},
   "source": [
    "Dank der rank Methode ist nun die Implementation der Symboltabelle einfach. Die Idee ist, dass wir die Elemente in einem sortieren Array speichern. In der Implementation der Methoden ```get```, ```delete```, und ```put``` können wir damit effizient auf die richtige Stelle springen. "
   ]
  },
  {
   "cell_type": "code",
   "execution_count": null,
   "metadata": {},
   "outputs": [],
   "source": [
    "class BinarySearchST:\n",
    "    \n",
    "    def __init__(self):\n",
    "        self._keys = []\n",
    "        self._values = []\n",
    "    \n",
    "    \n",
    "    def _rank(self, value):\n",
    "        lo = 0\n",
    "        hi = len(self._keys) - 1\n",
    "        while lo  <= hi:\n",
    "            mid = (lo + hi) // 2\n",
    "            if  self._keys[mid] < value:\n",
    "                lo = mid + 1\n",
    "            elif  value  < self._keys[mid]:\n",
    "                hi = mid - 1\n",
    "            else:\n",
    "                return mid\n",
    "        return lo\n",
    "    \n",
    "    def get(self, key):\n",
    "        if self.isEmpty():\n",
    "            return None\n",
    "        \n",
    "        rank = self._rank(key)\n",
    "        if rank < len(self._keys) and self._keys[rank] == key:\n",
    "            return self._values[rank]\n",
    "        else:\n",
    "            return None\n",
    "        \n",
    "    def put(self, key, value):\n",
    "        rank = self._rank(key)\n",
    "        if rank < len(self._keys) and self._keys[rank] == key:\n",
    "            self._values[rank] = value\n",
    "        else:\n",
    "            self._keys.insert(rank, key)\n",
    "            self._values.insert(rank, value)\n",
    "             \n",
    "    def delete(self, key):\n",
    "        rank = self._rank(key)\n",
    "        if rank < len(self._keys) and self._keys[rank] == key:\n",
    "            del self._keys[rank] \n",
    "            del self._values[rank]\n",
    "            \n",
    "    \n",
    "    def contains(self, key):\n",
    "        rank = self._rank(key)\n",
    "        return rank < len(self._keys) and self._keys[rank] == key\n",
    "    \n",
    "    def isEmpty(self):\n",
    "        return self.size() == 0\n",
    "    \n",
    "    def size(self):\n",
    "        return len(self._keys)\n",
    "    \n",
    "    def keys(self):\n",
    "        return self._keys"
   ]
  },
  {
   "cell_type": "markdown",
   "metadata": {},
   "source": [
    "#### Übung:\n",
    "* Schauen Sie sich die Implementation genau an. Wie wird ```rank``` verwendet? Was muss jeweils zusätzlich noch gemacht werden?\n",
    "* Falls Sie bei einer der Funktionen unsicher sind, instrumentieren Sie den Code durch ```print``` statements und testen Sie die Symboltabelle mit einfachen Beispielen. \n",
    "\n"
   ]
  },
  {
   "cell_type": "markdown",
   "metadata": {},
   "source": [
    "## Implementation 3: Binäre Suchbäume"
   ]
  },
  {
   "cell_type": "markdown",
   "metadata": {},
   "source": [
    "## Repräsentation"
   ]
  },
  {
   "cell_type": "markdown",
   "metadata": {},
   "source": [
    "Wir definieren uns einen Binären Suchbaum als Klasse BST. Die Klasse arbeitet intern mit einer Repräsentation Node, welche die Knoten vom Baum repräsentiert. Der leere Baum wird durch das Symbol ```None``` definiert. \n",
    "Die grundlegenden Operationen einer Symboltabelle, ```size```, ```isEmpty```, ```put```, ```get```, ```contains```, ```keys``` sind einfach zu definieren.\n",
    "\n",
    "Um die Grösse effizient zu berechnen, speichern wir uns einen Knotenzähler\n",
    "```count```, welcher die Anzahl Knoten im jeweiligen Unterbaum speichert."
   ]
  },
  {
   "cell_type": "code",
   "execution_count": null,
   "metadata": {},
   "outputs": [],
   "source": [
    "class BST:\n",
    "    \n",
    "    class Node:\n",
    "        def __init__(self, key, value, count = 1):\n",
    "            self.key = key\n",
    "            self.value = value\n",
    "            self.count = count\n",
    "            self.left = None\n",
    "            self.right = None\n",
    "    \n",
    "    def __init__(self):\n",
    "        self._root = None\n",
    "    \n",
    "    def root(self):\n",
    "        return self._root\n",
    "    \n",
    "    def size(self):\n",
    "        return self._size(self._root)\n",
    "    \n",
    "    def _size(self, root):\n",
    "        if (root == None):\n",
    "            return 0\n",
    "        else:\n",
    "            return root.count\n",
    "    \n",
    "    def isEmpty(self):\n",
    "        return self.size() == 0\n",
    "    \n",
    "    def contains(self, key):\n",
    "        return self.get != None\n",
    "    \n",
    "    def get(self, key): \n",
    "        return self._get(key, self._root)\n",
    "    \n",
    "    def _get(self, key, node):\n",
    "        if node == None:\n",
    "            return None\n",
    "        elif key < node.key:\n",
    "            return self._get(key, node.left)\n",
    "        elif key > node.key:\n",
    "            return self._get(key, node.right)\n",
    "        elif key == node.key:\n",
    "            return node.value\n",
    "        else:\n",
    "            raise Exception(\"should never reach this line\")\n",
    "            \n",
    "    def put(self, key, value):\n",
    "        self._root = self._put(key, value, self._root)\n",
    "    \n",
    "    def _put(self, key, value, node):\n",
    "        if (node == None):\n",
    "            return BST.Node(key, value, 1)\n",
    "        elif key < node.key:\n",
    "            node.left = self._put(key, value, node.left)\n",
    "        elif key > node.key:\n",
    "            node.right = self._put(key, value, node.right)\n",
    "        elif key == node.key:\n",
    "            node.value = value\n",
    "        node.count = 1 + self._size(node.left) + self._size(node.right)\n",
    "        return node\n",
    "        \n",
    "    def keys(self):\n",
    "        return self._keys(self._root, [])\n",
    "        \n",
    "    def _keys(self, node, keylist):        \n",
    "        if node == None:\n",
    "            return keylist\n",
    "        else:\n",
    "            self._keys(node.left, keylist)\n",
    "            keylist.append(node.key)\n",
    "            self._keys(node.right, keylist)\n",
    "            return keylist\n",
    "        \n",
    "    def height(self):\n",
    "        return self._height(self._root)\n",
    "    \n",
    "    def _height(self, node):\n",
    "        if node == None:\n",
    "            return -1\n",
    "        else:\n",
    "            return 1 + max(self._height(node.left), self._height(node.right))"
   ]
  },
  {
   "cell_type": "markdown",
   "metadata": {},
   "source": [
    "##### Übung:\n",
    "* Schauen Sie sich die Methoden ```get``` und ```put``` genau an und stellen Sie sicher, dass Sie diese verstehen. \n",
    "    * Beachten Sie insbesondere wie beim put nach dem Einfügen jeweils wieder die Links richtig gesetzt werd und wie das Feld ```count``` aktualisiert wird. \n",
    "    * Falls Ihnen etwas unklar ist, instrumentieren Sie den Code mit ```print``` statements und testen Sie die Methoden an einfachen Beispielen. \n",
    "* Schauen Sie sich die Methode ```keys``` an. Welche Traversierungsstrategie (inorder, postorder, preorder) wird hier gewählt? Weshalb?\n",
    "\n",
    "    *Antwort* Es wird die inorder strategie gewählt. Diese gibt die Schlüssel in sortierter Reihenfolge zurück."
   ]
  },
  {
   "cell_type": "markdown",
   "metadata": {},
   "source": [
    "### Experimente mit Binärsuchbäumen"
   ]
  },
  {
   "cell_type": "markdown",
   "metadata": {},
   "source": [
    "Um die Funktionsweise von Binären Bäumen besser verstehen zu können ist es hilfreich, diese zu visualisieren. \n",
    "Dazu definieren wir uns folgende visualisierungsfunktion. Sie müssen die Details davon nicht verstehen. \n",
    "\n",
    "*Achtung: Beachten Sie, dass wir hier die leeren Teilbäume (als Schwarze Punkte) mitvisualisieren.*"
   ]
  },
  {
   "cell_type": "code",
   "execution_count": null,
   "metadata": {},
   "outputs": [],
   "source": [
    "from graphviz import Graph\n",
    "\n",
    "def plotTree(tree):\n",
    "    dot = Graph(comment='Tree')\n",
    "    _plotTree(tree.root(), dot)\n",
    "    display(dot)\n",
    "\n",
    "def nodeToString(node):\n",
    "    return str(node.key) +\":\" +str(node.value)\n",
    "    \n",
    "def _plotTree(node, dot):\n",
    "    \n",
    "    if node == None:        \n",
    "        return \n",
    "    dot.node(str(node), nodeToString(node))\n",
    "    if node.left != None:\n",
    "        dot.node(str(node.left), nodeToString(node.left))\n",
    "        dot.edge(str(node), str(node.left))\n",
    "    else:\n",
    "        dot.node(str(node) + \"left-none\", \"\",  **{'shape':'point'})\n",
    "        dot.edge(str(node), str(node) + \"left-none\")\n",
    "        \n",
    "    if node.right != None:\n",
    "        dot.node(str(node.right), nodeToString(node.right))\n",
    "        dot.edge(str(node), str(node.right))\n",
    "    else:\n",
    "        dot.node(str(node) + \"left-right\", \"\",  **{'shape':'point'})\n",
    "        dot.edge(str(node), str(node) + \"left-right\")\n",
    "\n",
    "    _plotTree(node.left, dot)\n",
    "    _plotTree(node.right, dot)\n",
    "    "
   ]
  },
  {
   "cell_type": "markdown",
   "metadata": {},
   "source": [
    "Nun können wir visualisieren, was passiert, wenn wir Schlüssel in einen Binärsuchbaum einfügen. Folgender Code gibt jeweils nach dem Einfügen den entstandenen Baum aus. "
   ]
  },
  {
   "cell_type": "code",
   "execution_count": null,
   "metadata": {},
   "outputs": [],
   "source": [
    "string = \"SEARCH\"\n",
    "bst = BST()\n",
    "for (pos, char) in enumerate(string):\n",
    "    bst.put(char, pos)\n",
    "    plotTree(bst)\n"
   ]
  },
  {
   "cell_type": "markdown",
   "metadata": {},
   "source": [
    "#### Übung\n",
    "\n",
    "Nun sind wir bereit erste Experiment mit dem Baum durchzuführen. \n",
    "\n",
    "Probieren Sie folgendes aus:\n",
    "* Was passiert, wenn Sie einen Schlüssel (mit unterschiedlichen Werten) zweimal einfügen?\n",
    "* Was passiert wenn Sie eine bereits sortiere Liste einfügen?\n",
    "* Können Sie einen perfekten Baum der Höhe 2 kreieren?\n",
    "* Erstellen Sie zufällige Sequenzen und schauen Sie wie hoch der Baum im Schnitt wird\n",
    "* Schreiben Sie einen Sortieralgorithmus, welcher den binären Baum nutzt (Hinweis, verwenden Sie die Methode ```keys```)"
   ]
  },
  {
   "cell_type": "code",
   "execution_count": null,
   "metadata": {},
   "outputs": [],
   "source": [
    "# Perfekter Baum Höhe 2:\n",
    "bst = BST()\n",
    "for k in [\"h\", \"c\", \"a\", \"d\", \"s\", \"r\", \"t\"]:\n",
    "    bst.put(k, 0)\n",
    "plotTree(bst)"
   ]
  },
  {
   "cell_type": "code",
   "execution_count": null,
   "metadata": {},
   "outputs": [],
   "source": [
    "# Antwort: Zufällige Sequenzen\n",
    "import random\n",
    "def heightOfRandomSeq(n):\n",
    "    bst = BST()\n",
    "    for _ in range(0, n):\n",
    "        bst.put(random.randint(0, 100 * n), \"0\")\n",
    "    return bst.height()\n",
    "\n",
    "print(heightOfRandomSeq(100000))"
   ]
  },
  {
   "cell_type": "code",
   "execution_count": null,
   "metadata": {},
   "outputs": [],
   "source": [
    "# Antwort: Sortieralgorithmus:\n",
    "def sort(a):\n",
    "    bst = BST()\n",
    "    for key in a:\n",
    "        bst.put(key, \"0\")\n",
    "    return bst.keys()\n",
    "\n",
    "sort([7, 1, 8, 9, 3, 4])"
   ]
  },
  {
   "cell_type": "markdown",
   "metadata": {},
   "source": [
    " ### Ordnungsbasierte Operationen"
   ]
  },
  {
   "cell_type": "markdown",
   "metadata": {},
   "source": [
    "Als nächsten zeigen wir einfache Implementation der Ordnungsbasierten Operationen, insbesondere ```min```, ```floor```, ```rank```, und ```select```. Um diese Methoden zu verstehen, visualisiert man am besten nochmals den Baum, und überlegt sich anhand der Datenstruktur, wie man diese implementieren sollte. Der Code folgt bei allen Methoden genau der Datenstruktur. \n",
    "\n",
    "*Anmerkung: Diese Klasse ```BSTWithOrderedOps``` erbt von der Klasse BST. Dies wurde hier so gemacht, damit wir die Implementation in zwei Teile aufteilen und separat diskutieren können. In der Praxis würde man diese Methoden natürlich alle in derselben Klasse implementieren.*"
   ]
  },
  {
   "cell_type": "code",
   "execution_count": null,
   "metadata": {},
   "outputs": [],
   "source": [
    "class BSTWithOrderedOps(BST):\n",
    "    def min(self):\n",
    "        return self._min(self._root).key\n",
    "    \n",
    "    def _min(self, node):\n",
    "        if node.left == None:\n",
    "            return node\n",
    "        else:\n",
    "            return self._min(node.left)\n",
    "    \n",
    "    def floor(self, key):\n",
    "        return self._floor(self._root, key).key\n",
    "    \n",
    "    def _floor(self, node, key):\n",
    "        if node == None:\n",
    "            return None;\n",
    "        \n",
    "        if key == node.key:\n",
    "            return node\n",
    "        elif key <  node.key:\n",
    "            return self._floor(node.left, key)\n",
    "        else:\n",
    "            t = self._floor(node.right, key)\n",
    "            if t != None:\n",
    "                return t\n",
    "            else: \n",
    "                return node\n",
    "            \n",
    "    def select(self, k):\n",
    "        return self._select(self._root, k).key\n",
    "\n",
    "    def _select(self, node, k):\n",
    "        if node == None:\n",
    "            return None\n",
    "        t = self._size(node.left);\n",
    "        if t > k: \n",
    "            return self._select(node.left,  k)\n",
    "        elif t < k:\n",
    "            return self._select(node.right, k - t - 1)\n",
    "        else:\n",
    "            return node;\n",
    "        \n",
    "    def rank(self, key):\n",
    "        return self._rank(self._root, key)\n",
    "    \n",
    "    def _rank(self, node, key):\n",
    "        if node == None:\n",
    "            return 0\n",
    "    \n",
    "        if key < node.key: \n",
    "            return self._rank(node.left, key)\n",
    "        elif key > node.key:\n",
    "            return 1 + self._size(node.left) + self._rank(node.right, key)\n",
    "        else:\n",
    "            return self._size(node.left)"
   ]
  },
  {
   "cell_type": "markdown",
   "metadata": {},
   "source": [
    "Die Klasse benutzt man genau wie die Klasse ```BST```. Nur diesmal können wir auch auf die ordnungsbasierten Operationen zugreifen:"
   ]
  },
  {
   "cell_type": "code",
   "execution_count": null,
   "metadata": {},
   "outputs": [],
   "source": [
    "bst = BSTWithOrderedOps()\n",
    "for key in list(\"MATHEMATICSANDCOMPUTERSCIENCE\"):\n",
    "    bst.put(key, \"value\")"
   ]
  },
  {
   "cell_type": "code",
   "execution_count": null,
   "metadata": {},
   "outputs": [],
   "source": [
    "print(\"min: \", bst.min())\n",
    "print(\"floor(G): \"+ bst.floor(\"G\"))\n",
    "print(\"rank(S): \" + str(bst.rank(\"S\")))\n",
    "print(\"select(7): \" + bst.select(11))\n"
   ]
  },
  {
   "cell_type": "markdown",
   "metadata": {},
   "source": [
    "#### Übung\n",
    "\n",
    "* Experimentieren Sie mit den Methoden, bis Sie genau verstehen, was diese machen.\n",
    "    * Testen Sie verschiedene Fälle aus (Schlüssel vorhanden, nicht vorhanden, ...)\n",
    "* Was macht die Methode select? Welche Eigenschaft der Bäume wird für die Implementation ausgenutzt?\n",
    "    * *Antwort* : Gibt den Knoten der dem n-ten Element in der geordneten Sequenz von Schlüsseln im Baum entspricht. Für die Implementation wird die symmetrische Ordnung ausgenutzt.\n",
    "* Fügen Sie print statements in den Code ein, damit Sie die Entscheidungen (also ob man in den linken oder rechten Teilbaum geht), nachvollziehen können und testen Sie die Methoden mit einfachen Inputdaten. "
   ]
  },
  {
   "cell_type": "markdown",
   "metadata": {
    "collapsed": true
   },
   "source": [
    "### Löschen von Knoten"
   ]
  },
  {
   "cell_type": "markdown",
   "metadata": {},
   "source": [
    "Als letztes zeigen wir noch eine Implementation der Löschoperationen nach Hibbard.\n",
    "Der Code ist etwas trickreich. Zum Verständnis sollte man sich nochmals die drei Spezialfälle in Erinnerung rufen, die in den Folien besprochen wurden. Ein weitere Schlüssel zum Verständnis ist zu beachten, dass die Verweise auf den linken und rechten Teilbaum jeweils auf dem \"Rückweg\" neu gesetzt werden (analog der ```put``` Methode). Um ein Blatt zu löschen genügt es also, beim entsprechenden Node ```None``` zurückzugeben. "
   ]
  },
  {
   "cell_type": "code",
   "execution_count": null,
   "metadata": {},
   "outputs": [],
   "source": [
    "class BSTWithDelete(BSTWithOrderedOps):\n",
    "    \n",
    "    def deleteMin(self):\n",
    "        self._deleteMin(self._root)\n",
    "\n",
    "    def _deleteMin(self, node): \n",
    "        if node.left == None:\n",
    "            return node.right;\n",
    "        node.left = self._deleteMin(node.left);\n",
    "        node.size = self._size(node.left) + self._size(node.right) + 1;\n",
    "        return node;\n",
    "    \n",
    "\n",
    "    \n",
    "    def delete(self, key):\n",
    "        self._root = self._delete(self._root, key)\n",
    "    \n",
    "    def _delete(self, node, key):\n",
    "        if node == None:\n",
    "            return None;\n",
    "        \n",
    "        if  key < node.key: \n",
    "            node.left = self._delete(node.left, key)\n",
    "        elif key > node.key:\n",
    "            node.right = self._delete(node.right, key);\n",
    "        else: # key == node.key (zu löschender Knoten)\n",
    "            if node.right == None:\n",
    "                return node.left\n",
    "            if node.left == None:\n",
    "                return node.right            \n",
    "            t = node;\n",
    "            node = self._min(t.right)\n",
    "            node.right = self._deleteMin(t.right)\n",
    "            node.left = t.left\n",
    "            \n",
    "        node.size = self._size(node.left) + self._size(node.right) + 1;\n",
    "        return node"
   ]
  },
  {
   "cell_type": "markdown",
   "metadata": {},
   "source": [
    "Der folgende Code illustriert, wie sich der Baum ändert, wenn wir einen Knoten löschen, welcher zwei Kinder hat. "
   ]
  },
  {
   "cell_type": "code",
   "execution_count": null,
   "metadata": {},
   "outputs": [],
   "source": [
    "import random\n",
    "bst = BSTWithDelete()\n",
    "for (num,key) in enumerate(\"SEARCH\"):\n",
    "    bst.put(key, num)\n",
    "plotTree(bst)\n",
    "\n",
    "bst.delete(\"E\")\n",
    "plotTree(bst)"
   ]
  },
  {
   "cell_type": "markdown",
   "metadata": {},
   "source": [
    "#### Übung\n",
    "* Probieren Sie verschiedenen Spezialfälle aus und versuchen Sie nachzuvollziehen, wie der Algorithmus funktioniert, indem Sie print Statements in den Code einfügen. "
   ]
  }
 ],
 "metadata": {
  "anaconda-cloud": {},
  "kernelspec": {
   "display_name": "Python 3",
   "language": "python",
   "name": "python3"
  },
  "language_info": {
   "codemirror_mode": {
    "name": "ipython",
    "version": 3
   },
   "file_extension": ".py",
   "mimetype": "text/x-python",
   "name": "python",
   "nbconvert_exporter": "python",
   "pygments_lexer": "ipython3",
   "version": "3.6.7"
  }
 },
 "nbformat": 4,
 "nbformat_minor": 1
}
