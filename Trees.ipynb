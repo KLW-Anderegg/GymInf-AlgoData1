{
 "cells": [
  {
   "cell_type": "markdown",
   "metadata": {},
   "source": [
    "# Rekursive Definition eines Binärbaums"
   ]
  },
  {
   "cell_type": "markdown",
   "metadata": {},
   "source": [
    "Wir führen als erstes die Grundlegende Datenstruktur ein. Wir repräsentieren einen Baum als Knoten ```Node``` mit jeweils einem linken und rechten Unterbaum. Der leere Baum wird duch ```None``` repräsentiert."
   ]
  },
  {
   "cell_type": "code",
   "execution_count": null,
   "metadata": {},
   "outputs": [],
   "source": [
    "class Node:\n",
    "    def __init__(self, item, left = None, right = None):\n",
    "        self.item = item\n",
    "        self.left = left\n",
    "        self.right = right"
   ]
  },
  {
   "cell_type": "markdown",
   "metadata": {},
   "source": [
    "### Visualisierung mit Graphviz"
   ]
  },
  {
   "cell_type": "markdown",
   "metadata": {},
   "source": [
    "Der folgende Code kann für die Visualisierung von Bäumen verwendet werden. Es ist nicht wichtig, dass Sie die Details von dieser Methode verstehen. Zusammengefasst kann man sagen, dass diese Methode den Baum pre-order traversiert und dabei die Knoten und Kanten zeichnet. "
   ]
  },
  {
   "cell_type": "code",
   "execution_count": null,
   "metadata": {},
   "outputs": [],
   "source": [
    "from graphviz import Graph\n",
    "def plotTree(node):\n",
    "    dot = Graph(comment='Tree')\n",
    "    _plotTree(node, dot)\n",
    "    display(dot)\n",
    "\n",
    "def _plotTree(node, dot):\n",
    "    \n",
    "    if node == None:\n",
    "        return \n",
    " \n",
    "    dot.node(str(node), node.item)\n",
    "    if node.left != None:\n",
    "        dot.node(str(node.left), str(node.left.item))\n",
    "        dot.edge(str(node), str(node.left))\n",
    "    if node.right != None:\n",
    "        dot.node(str(node.right), str(node.right.item))\n",
    "        dot.edge(str(node), str(node.right))\n",
    "    _plotTree(node.left, dot)\n",
    "    _plotTree(node.right, dot)\n",
    "    "
   ]
  },
  {
   "cell_type": "markdown",
   "metadata": {},
   "source": [
    "## Bäume konstruieren"
   ]
  },
  {
   "cell_type": "markdown",
   "metadata": {},
   "source": [
    "Es ist einfach, sich aus einzeilnen Teilbäumen einen komplexeren Baum zusammenzubauen"
   ]
  },
  {
   "cell_type": "code",
   "execution_count": null,
   "metadata": {},
   "outputs": [],
   "source": [
    "tree = Node(\"root\", \n",
    "            Node(\"l\",\n",
    "                 Node(\"ll\"), \n",
    "                 Node(\"lr\")\n",
    "            ),\n",
    "            Node(\"r\", \n",
    "                 Node(\"rl\"), \n",
    "                 Node(\"rr\")\n",
    "            )\n",
    "       )\n",
    "                         "
   ]
  },
  {
   "cell_type": "code",
   "execution_count": null,
   "metadata": {
    "scrolled": true
   },
   "outputs": [],
   "source": [
    "plotTree(tree)"
   ]
  },
  {
   "cell_type": "markdown",
   "metadata": {},
   "source": [
    "#### Übung\n",
    "\n",
    "Kreieren und visualisieren Sie einige Bäume"
   ]
  },
  {
   "cell_type": "markdown",
   "metadata": {
    "collapsed": true
   },
   "source": [
    "### Rekursive Operationen"
   ]
  },
  {
   "cell_type": "markdown",
   "metadata": {},
   "source": [
    "Bäume sind rekursive Datenstrukturen. Dies können wir für viele Operationen ausnutzen, indem wir das Problem auf die entsprechenden Unterbaum zurückführen. Beispielhaft sehen wir hier, wie wir die Methoden ```size``` und ```height``` implementieren können, die für einen gegebenen Baum die Anzahl Knoten, respektive die Höhe berechnet. "
   ]
  },
  {
   "cell_type": "code",
   "execution_count": null,
   "metadata": {},
   "outputs": [],
   "source": [
    "def size(node):\n",
    "    pass"
   ]
  },
  {
   "cell_type": "code",
   "execution_count": null,
   "metadata": {},
   "outputs": [],
   "source": [
    "def height(node):\n",
    "    pass"
   ]
  },
  {
   "cell_type": "markdown",
   "metadata": {},
   "source": [
    "#### Übung\n",
    "\n",
    "Implementieren Sie die zwei Methoden ```size``` und ```height```"
   ]
  },
  {
   "cell_type": "markdown",
   "metadata": {
    "collapsed": true
   },
   "source": [
    "### Traversierungsarten"
   ]
  },
  {
   "cell_type": "markdown",
   "metadata": {
    "collapsed": true
   },
   "source": [
    "Genau wie eine Liste, kann ein Baum als Sequenz von Elementen interpretiert werden. Dir Reihenfolge dieser Sequenz ist aber nicht eindeutig, sondern hängt davon ab, wie der Baum traversiert wird. "
   ]
  },
  {
   "cell_type": "markdown",
   "metadata": {},
   "source": [
    "### Depth-first traversal \n",
    "\n",
    "Eine Möglichkeit die Bäume zu traversieren ist indem wir zuerst in die Tiefe gehen.\n",
    "Wir unterscheiden hier zwischen preorder, postorder und inorder traversal, je nachdem ob der Wurzelknoten am Anfang, dazwischen oder am Ende ausgegeben wird."
   ]
  },
  {
   "cell_type": "code",
   "execution_count": null,
   "metadata": {},
   "outputs": [],
   "source": [
    "def printTreeInorder(t):\n",
    "    if (t == None):\n",
    "        return\n",
    "    else:\n",
    "        printTreeInorder(t.left)\n",
    "        print(t.item)\n",
    "        printTreeInorder(t.right)"
   ]
  },
  {
   "cell_type": "code",
   "execution_count": null,
   "metadata": {},
   "outputs": [],
   "source": [
    "printTreeInorder(tree)"
   ]
  },
  {
   "cell_type": "code",
   "execution_count": null,
   "metadata": {},
   "outputs": [],
   "source": [
    "def printTreePreorder(t):\n",
    "    if (t == None):\n",
    "        return\n",
    "    else:\n",
    "        print(t.item)\n",
    "        printTreePreorder(t.left)        \n",
    "        printTreePreorder(t.right)"
   ]
  },
  {
   "cell_type": "code",
   "execution_count": null,
   "metadata": {},
   "outputs": [],
   "source": [
    "printTreePreorder(tree)"
   ]
  },
  {
   "cell_type": "code",
   "execution_count": null,
   "metadata": {},
   "outputs": [],
   "source": [
    "def printTreePostorder(t):\n",
    "    if (t == None):\n",
    "        return\n",
    "    else:\n",
    "        printTreePostorder(t.left)        \n",
    "        printTreePostorder(t.right)\n",
    "        print(t.item)"
   ]
  },
  {
   "cell_type": "code",
   "execution_count": null,
   "metadata": {},
   "outputs": [],
   "source": [
    "printTreePostorder(tree)"
   ]
  },
  {
   "cell_type": "markdown",
   "metadata": {},
   "source": [
    "## Breadth-First-Traversal"
   ]
  },
  {
   "cell_type": "markdown",
   "metadata": {},
   "source": [
    "Manchmal wollen wir den Baum aber auch Ebene für Ebene ausgeben. Dies ist etwas komplizierter, da wir in gewissem Sinne gegen die \"natürliche Ordnung\" der Datenstruktur programmieren. "
   ]
  },
  {
   "cell_type": "code",
   "execution_count": null,
   "metadata": {},
   "outputs": [],
   "source": [
    "from collections import deque\n",
    "def breadthFirstTraversal(node):\n",
    "    queue = deque([])\n",
    "    if node != None:\n",
    "        queue.appendleft(node)\n",
    "    \n",
    "    while len(queue) > 0:\n",
    "        current = queue.pop()\n",
    "        print(current.item)\n",
    "        if current.left != None: \n",
    "            queue.appendleft(current.left)\n",
    "        if current.right != None:\n",
    "            queue.appendleft(current.right)\n",
    "    \n",
    "    "
   ]
  },
  {
   "cell_type": "code",
   "execution_count": null,
   "metadata": {},
   "outputs": [],
   "source": [
    "breadthFirstTraversal(tree)"
   ]
  },
  {
   "cell_type": "code",
   "execution_count": null,
   "metadata": {},
   "outputs": [],
   "source": []
  }
 ],
 "metadata": {
  "anaconda-cloud": {},
  "kernelspec": {
   "display_name": "Python 3",
   "language": "python",
   "name": "python3"
  }
 },
 "nbformat": 4,
 "nbformat_minor": 1
}
