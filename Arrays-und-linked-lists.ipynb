{
 "cells": [
  {
   "cell_type": "markdown",
   "metadata": {},
   "source": [
    "# Arrays und Verkettete Listen"
   ]
  },
  {
   "cell_type": "markdown",
   "metadata": {},
   "source": [
    "## Arrays"
   ]
  },
  {
   "cell_type": "markdown",
   "metadata": {},
   "source": [
    "### Arrays in Python"
   ]
  },
  {
   "cell_type": "markdown",
   "metadata": {},
   "source": [
    "Arrays in Python sind durch den Datentyp ```List``` implementiert. Im Gegensat zu den Java Arrays, die eine fixe Grösse haben, kann ```List``` dynamisch wachsen."
   ]
  },
  {
   "cell_type": "markdown",
   "metadata": {},
   "source": [
    "#### Erzeugen von Arrays"
   ]
  },
  {
   "cell_type": "markdown",
   "metadata": {},
   "source": [
    "Folgende Aufrufe illustrieren verschiedene Möglichkeiten ein Array in Python zu erzeugen."
   ]
  },
  {
   "cell_type": "markdown",
   "metadata": {},
   "source": [
    "Ein Array kann kreiert werden, indem die Elemente zwischen eckigen Klammern [] geschrieben werden. Hier wird ein leeres Array erstellt:"
   ]
  },
  {
   "cell_type": "code",
   "execution_count": null,
   "metadata": {},
   "outputs": [],
   "source": [
    "[]"
   ]
  },
  {
   "cell_type": "markdown",
   "metadata": {},
   "source": [
    "Und hier ein Array mit 4 Elementen:"
   ]
  },
  {
   "cell_type": "code",
   "execution_count": null,
   "metadata": {},
   "outputs": [],
   "source": [
    "[\"a\", \"list\", \"of\", \"strings\"]"
   ]
  },
  {
   "cell_type": "markdown",
   "metadata": {},
   "source": [
    "Zur Initialisierung ist es häufig nützlich, den Eintrag einer Liste $n$ mal wiederholen zu können."
   ]
  },
  {
   "cell_type": "code",
   "execution_count": null,
   "metadata": {},
   "outputs": [],
   "source": [
    "[None] * 10"
   ]
  },
  {
   "cell_type": "markdown",
   "metadata": {},
   "source": [
    "#### Elemente lesen und setzten"
   ]
  },
  {
   "cell_type": "code",
   "execution_count": null,
   "metadata": {},
   "outputs": [],
   "source": [
    "xs = [\"a\", \"b\", \"c\", \"d\"]"
   ]
  },
  {
   "cell_type": "markdown",
   "metadata": {},
   "source": [
    "Lesen und setzen von Elementen passiert via dem [] Operator. Hier lesen wir das erste Element:"
   ]
  },
  {
   "cell_type": "code",
   "execution_count": null,
   "metadata": {},
   "outputs": [],
   "source": [
    "print(xs[0])"
   ]
  },
  {
   "cell_type": "markdown",
   "metadata": {},
   "source": [
    "Wenn der Index negativ ist, wird vom Ende gezählt:"
   ]
  },
  {
   "cell_type": "code",
   "execution_count": null,
   "metadata": {},
   "outputs": [],
   "source": [
    "print(xs[-1])"
   ]
  },
  {
   "cell_type": "markdown",
   "metadata": {},
   "source": [
    "Hier wird dem dritte Element der Wert \"c'\" zugewiesen:"
   ]
  },
  {
   "cell_type": "code",
   "execution_count": null,
   "metadata": {},
   "outputs": [],
   "source": [
    "xs[2]=\"c'\"\n",
    "print(xs)"
   ]
  },
  {
   "cell_type": "markdown",
   "metadata": {},
   "source": [
    "### Einfügen und erweitern und löschen"
   ]
  },
  {
   "cell_type": "markdown",
   "metadata": {},
   "source": [
    "Mittels insert und append können neue Elemente zum Array hinzugefügt werden."
   ]
  },
  {
   "cell_type": "code",
   "execution_count": null,
   "metadata": {},
   "outputs": [],
   "source": [
    "xs.insert(2, \"bb\")\n",
    "print(xs)"
   ]
  },
  {
   "cell_type": "code",
   "execution_count": null,
   "metadata": {},
   "outputs": [],
   "source": [
    "xs.append(\"dd\")\n",
    "print(xs)"
   ]
  },
  {
   "cell_type": "markdown",
   "metadata": {},
   "source": [
    "Um ein Element vom Ende zu löschen, verwenden wir die Funktion ```pop```:"
   ]
  },
  {
   "cell_type": "code",
   "execution_count": null,
   "metadata": {},
   "outputs": [],
   "source": [
    "xs.pop()\n",
    "print(xs)"
   ]
  },
  {
   "cell_type": "markdown",
   "metadata": {},
   "source": [
    " Um ein Element an einer beliebigen Position zu löschen, kann der Methode ```pop``` der Index mitgegegeben werden:"
   ]
  },
  {
   "cell_type": "code",
   "execution_count": null,
   "metadata": {},
   "outputs": [],
   "source": [
    "xs.pop(1)\n",
    "print(xs)"
   ]
  },
  {
   "cell_type": "markdown",
   "metadata": {},
   "source": [
    "### Elemente finden"
   ]
  },
  {
   "cell_type": "markdown",
   "metadata": {},
   "source": [
    "Ob ein Element existiert kann mittels dem \"in\" operator ermittelt werden. Den Index eines Elements erhält man via der Methode Index. "
   ]
  },
  {
   "cell_type": "code",
   "execution_count": null,
   "metadata": {},
   "outputs": [],
   "source": [
    "\"a\" in xs"
   ]
  },
  {
   "cell_type": "code",
   "execution_count": null,
   "metadata": {},
   "outputs": [],
   "source": [
    "\"b\" in xs"
   ]
  },
  {
   "cell_type": "code",
   "execution_count": null,
   "metadata": {},
   "outputs": [],
   "source": [
    "xs.index(\"a\")"
   ]
  },
  {
   "cell_type": "markdown",
   "metadata": {},
   "source": [
    "### Laufzeit Versuche"
   ]
  },
  {
   "cell_type": "markdown",
   "metadata": {},
   "source": [
    "Im folgenden messen wir die Laufzeit der verschiedenen Operationen für Arrays von wachsender Grösse"
   ]
  },
  {
   "cell_type": "code",
   "execution_count": 65,
   "metadata": {},
   "outputs": [],
   "source": [
    "import timeit\n",
    "import random"
   ]
  },
  {
   "cell_type": "code",
   "execution_count": 67,
   "metadata": {},
   "outputs": [],
   "source": [
    "def createArrays():\n",
    "    return [ [0]*(10**i) for i in range(1, 8)]"
   ]
  },
  {
   "cell_type": "code",
   "execution_count": 68,
   "metadata": {},
   "outputs": [],
   "source": [
    "def accessArray(a):\n",
    "    r = random.randint(0, len(a)-1)\n",
    "    a[r] = 10\n",
    "    "
   ]
  },
  {
   "cell_type": "code",
   "execution_count": 69,
   "metadata": {},
   "outputs": [],
   "source": [
    "def findInArray(a):\n",
    "   c = \"you wont find me\" in a"
   ]
  },
  {
   "cell_type": "code",
   "execution_count": null,
   "metadata": {},
   "outputs": [],
   "source": [
    "def appendToArray(a):\n",
    "    for i in range(0, 10000):\n",
    "        a.append(1)"
   ]
  },
  {
   "cell_type": "code",
   "execution_count": 79,
   "metadata": {},
   "outputs": [],
   "source": [
    "def insertIntoArray(a):\n",
    "    a.insert(0, \"newElement\")"
   ]
  },
  {
   "cell_type": "code",
   "execution_count": 86,
   "metadata": {},
   "outputs": [],
   "source": [
    "def popFromArray(a):\n",
    "    a.pop()\n",
    "    "
   ]
  },
  {
   "cell_type": "code",
   "execution_count": 92,
   "metadata": {},
   "outputs": [],
   "source": [
    "def removeFromArray(a):\n",
    "    a.pop(0)"
   ]
  },
  {
   "cell_type": "code",
   "execution_count": 72,
   "metadata": {},
   "outputs": [
    {
     "name": "stdout",
     "output_type": "stream",
     "text": [
      "0.2045425000032992\n",
      "0.19479739999951562\n",
      "0.23800179999670945\n",
      "0.2200105000010808\n",
      "0.21480959999462357\n",
      "0.24226110000017798\n",
      "0.22669589999713935\n"
     ]
    }
   ],
   "source": [
    "for array in createArrays():\n",
    "    print(timeit.timeit(lambda: accessArray(array), number=100000))"
   ]
  },
  {
   "cell_type": "code",
   "execution_count": 73,
   "metadata": {},
   "outputs": [
    {
     "name": "stdout",
     "output_type": "stream",
     "text": [
      "4.850000550504774e-05\n",
      "0.0002708999963942915\n",
      "0.0035904000033042394\n",
      "0.018157699996663723\n",
      "0.1664818000062951\n",
      "1.670984699994733\n",
      "16.433639900002163\n"
     ]
    }
   ],
   "source": [
    "for array in createArrays():\n",
    "    print(timeit.timeit(lambda: findInArray(array), number=100))"
   ]
  },
  {
   "cell_type": "code",
   "execution_count": 74,
   "metadata": {},
   "outputs": [
    {
     "name": "stdout",
     "output_type": "stream",
     "text": [
      "0.11949740000272868\n",
      "0.10536649999994552\n",
      "0.10508310000295751\n",
      "0.11271039999701316\n",
      "0.10646300000371411\n",
      "0.11653620000288356\n",
      "0.11900649999734014\n"
     ]
    }
   ],
   "source": [
    "for array in createArrays():\n",
    "    print(timeit.timeit(lambda: appendToArray(array), number=100))"
   ]
  },
  {
   "cell_type": "code",
   "execution_count": 75,
   "metadata": {},
   "outputs": [
    {
     "name": "stdout",
     "output_type": "stream",
     "text": [
      "0.0007184999994933605\n",
      "0.0005376999979489483\n",
      "0.0007882999998400919\n",
      "0.004325999994762242\n",
      "0.04282390000298619\n",
      "0.5916209999995772\n",
      "8.96853949999786\n"
     ]
    }
   ],
   "source": [
    "for array in createArrays():\n",
    "    print(timeit.timeit(lambda: insertIntoArray(array), number=1000))"
   ]
  },
  {
   "cell_type": "code",
   "execution_count": 100,
   "metadata": {},
   "outputs": [
    {
     "name": "stdout",
     "output_type": "stream",
     "text": [
      "3.51999988197349e-05\n",
      "2.970000059576705e-05\n",
      "2.9299997549969703e-05\n",
      "3.0000002880115062e-05\n",
      "3.0099996365606785e-05\n",
      "3.0099996365606785e-05\n"
     ]
    }
   ],
   "source": [
    "for array in createArrays():\n",
    "    if len(array) >= 100:\n",
    "        print(timeit.timeit(lambda: popFromArray(array), number=100))"
   ]
  },
  {
   "cell_type": "code",
   "execution_count": 99,
   "metadata": {},
   "outputs": [
    {
     "name": "stdout",
     "output_type": "stream",
     "text": [
      "4.9299997044727206e-05\n",
      "4.579999949783087e-05\n",
      "0.00020729999960167333\n",
      "0.003238899997086264\n",
      "0.05313910000404576\n",
      "0.716756699999678\n"
     ]
    }
   ],
   "source": [
    "for array in createArrays():\n",
    "    if len(array) >= 100:\n",
    "        print(timeit.timeit(lambda: removeFromArray(array), number=100))"
   ]
  },
  {
   "cell_type": "markdown",
   "metadata": {
    "collapsed": true
   },
   "source": [
    "#### Speicherkomplexität"
   ]
  },
  {
   "cell_type": "markdown",
   "metadata": {},
   "source": [
    "*Achtung*: Der Befehl getsizeof funktioniert nur für primitive Datentypen (int, ...)"
   ]
  },
  {
   "cell_type": "code",
   "execution_count": 78,
   "metadata": {},
   "outputs": [
    {
     "name": "stdout",
     "output_type": "stream",
     "text": [
      "144\n",
      "864\n",
      "8064\n",
      "80064\n",
      "800064\n",
      "8000064\n",
      "80000064\n"
     ]
    }
   ],
   "source": [
    "import sys\n",
    "for array in createArrays():\n",
    "    print(sys.getsizeof(array))"
   ]
  },
  {
   "cell_type": "markdown",
   "metadata": {},
   "source": [
    "### Ammortisierte Analyse: Array resizing"
   ]
  },
  {
   "cell_type": "markdown",
   "metadata": {},
   "source": [
    "Der folgende Code dient zum Illustrieren der Ammortisierten Komplexität der resize Operation. Wir simulieren ein Array in Python, mit den Operationen append und resize. Wenn immer wir append aufrufen, müssen wir Tokens bezahlen. Von diesen Tokens können wir dann die resize Operation \"bezahlen\"."
   ]
  },
  {
   "cell_type": "markdown",
   "metadata": {},
   "source": [
    "#### Übung:\n",
    "\n",
    "Instrumentieren Sie den Code wie folgt: Für jeden Array Zugriff in der Methode resize muss ein Token bezahlt werden. Für jeden ```append``` call müssen Sie eine Anzahl Tokens \"auf die Seite legen\".  Wieviele Tokens müssen wir pro append \"auf die Seite legen\", dass wir immer für die resize Operation bezahlen können (also die Anzahl Tokens immer positiv ist?)"
   ]
  },
  {
   "cell_type": "code",
   "execution_count": 169,
   "metadata": {},
   "outputs": [],
   "source": [
    "class  Array:\n",
    "\n",
    "    def __init__(self):\n",
    "        self.data = [None] # list  simulates  block  of  memory\n",
    "        self.lastIdx = 0\n",
    "        self.tokens = 0\n",
    "        \n",
    "    def append(self, elem):\n",
    "        self.tokens += 8\n",
    "        if self.lastIdx == len(self.data):            \n",
    "            self.resize(len(self.data) * 2)\n",
    "        self.data[self.lastIdx] = elem\n",
    "        self.lastIdx  += 1        \n",
    "    \n",
    "    def  resize(self, numElements ):\n",
    "        print(\"resizing from %d to %d\"%(len(self.data), numElements))\n",
    "        print(\"number of tokens before resizing \" + str(self.tokens))\n",
    "        newArray = [None] * numElements\n",
    "        self.tokens -= 1 * numElements\n",
    "        for i in  range(0, len(self.data )):            \n",
    "            newArray[i] = self.data[i]\n",
    "            self.tokens -= 2\n",
    "        self.data = newArray\n",
    "        print(\"number of tokens after resize \" +str(self.tokens))\n",
    "        \n",
    "    \n",
    "    def __str__(self):\n",
    "        return str(self.data)\n",
    "    \n",
    "    def length(self):\n",
    "        return self.lastIdx\n"
   ]
  },
  {
   "cell_type": "markdown",
   "metadata": {},
   "source": [
    "Wir testen die Methode durch wiederholtes Aufrufen der append Funktion. "
   ]
  },
  {
   "cell_type": "code",
   "execution_count": 168,
   "metadata": {},
   "outputs": [
    {
     "name": "stdout",
     "output_type": "stream",
     "text": [
      "resizing from 1 to 2\n",
      "number of tokens before resizing 16\n",
      "number of tokens after resize 12\n",
      "resizing from 2 to 4\n",
      "number of tokens before resizing 20\n",
      "number of tokens after resize 12\n",
      "resizing from 4 to 8\n",
      "number of tokens before resizing 28\n",
      "number of tokens after resize 12\n",
      "resizing from 8 to 16\n",
      "number of tokens before resizing 44\n",
      "number of tokens after resize 12\n",
      "resizing from 16 to 32\n",
      "number of tokens before resizing 76\n",
      "number of tokens after resize 12\n",
      "resizing from 32 to 64\n",
      "number of tokens before resizing 140\n",
      "number of tokens after resize 12\n",
      "resizing from 64 to 128\n",
      "number of tokens before resizing 268\n",
      "number of tokens after resize 12\n",
      "128\n"
     ]
    }
   ],
   "source": [
    "a = Array()\n",
    "for i in range(0, 128):\n",
    "    a.append(i)\n",
    "print(a.length())"
   ]
  },
  {
   "cell_type": "markdown",
   "metadata": {
    "collapsed": true
   },
   "source": [
    "# Verkettete Listen"
   ]
  },
  {
   "cell_type": "markdown",
   "metadata": {},
   "source": [
    "### Interne Implementation mit der Klasse Node\n",
    "\n",
    "Die Grundlage für die Implementation ist ein Node. Ein Node enthält ein Datum (hier item genannt) und eine Referenz auf das nächste Element (oder None, falls es kein nächstes Element gibt)"
   ]
  },
  {
   "cell_type": "code",
   "execution_count": null,
   "metadata": {},
   "outputs": [],
   "source": [
    "class Node:\n",
    "    def __init__(self, item, next=None):\n",
    "        self.item = item\n",
    "        self.next = next    "
   ]
  },
  {
   "cell_type": "markdown",
   "metadata": {},
   "source": [
    "Bevor wir mit dieser Datenstruktur experimentieren, brauchen wir eine Methode, die uns die Liste anzeigt. "
   ]
  },
  {
   "cell_type": "code",
   "execution_count": null,
   "metadata": {},
   "outputs": [],
   "source": [
    "def printList(n):\n",
    "    currentNode = n\n",
    "    while (currentNode != None):\n",
    "        print(currentNode.item)\n",
    "        currentNode = currentNode.next"
   ]
  },
  {
   "cell_type": "markdown",
   "metadata": {},
   "source": [
    "Ale erstes erzeugen wir 3 Knoten "
   ]
  },
  {
   "cell_type": "code",
   "execution_count": null,
   "metadata": {},
   "outputs": [],
   "source": [
    "n1 = Node(\"first\")\n",
    "n2 = Node(\"second\")\n",
    "n3 = Node(\"third\")"
   ]
  },
  {
   "cell_type": "markdown",
   "metadata": {},
   "source": [
    "Wie wir mit printList sehen, ist jedes Element noch einzeln."
   ]
  },
  {
   "cell_type": "code",
   "execution_count": null,
   "metadata": {},
   "outputs": [],
   "source": [
    "printList(n1)"
   ]
  },
  {
   "cell_type": "markdown",
   "metadata": {},
   "source": [
    "Um eine Liste von 3 Elementen zu erhalten müssen wir diese noch verketten."
   ]
  },
  {
   "cell_type": "code",
   "execution_count": null,
   "metadata": {},
   "outputs": [],
   "source": [
    "n1.next = n2; n2.next = n3\n",
    "printList(n1)"
   ]
  },
  {
   "cell_type": "markdown",
   "metadata": {},
   "source": [
    "Wir können jetzt weitere Funktionen schreiben um mit der Liste zu arbeiten, wie zum Beispiel ein Element am Anfang hinzuzufügen"
   ]
  },
  {
   "cell_type": "code",
   "execution_count": null,
   "metadata": {},
   "outputs": [],
   "source": [
    "def addItemToBegin(item, node):\n",
    "    newNode = Node(item, node)\n",
    "    return newNode"
   ]
  },
  {
   "cell_type": "code",
   "execution_count": null,
   "metadata": {},
   "outputs": [],
   "source": [
    "printList(addItemToBegin(\"before first\", n1))"
   ]
  },
  {
   "cell_type": "markdown",
   "metadata": {},
   "source": [
    "## Implementieren eines Listen ADTs\n",
    "\n",
    "Direkt mit der Klasse Node zu arbeiten funktiont für interne Implementationen, wäre aber für einen Endbenutzer zu Mühsam. Eine bessere Strategie ist es, einen Listen ADT zu designen, und diesen dann, zum Beispiel mit einer verketteten Liste zu implementieren. \n",
    "Wir zeigen hier schematisch, wie so eine Implementation aussehen kann."
   ]
  },
  {
   "cell_type": "code",
   "execution_count": null,
   "metadata": {},
   "outputs": [],
   "source": [
    "class LinkedList:\n",
    "    \n",
    "    \n",
    "    class Iterator:        \n",
    "        def __init__(self, linkedList):\n",
    "            self._currentItem = linkedList.head\n",
    "            self.linkedList = linkedList\n",
    "        \n",
    "        def hasNext(self):    \n",
    "            return (self._currentItem != None)\n",
    "    \n",
    "        def next(self):            \n",
    "            item = self._currentItem.item\n",
    "            self._currentItem = self._currentItem.next\n",
    "            return item\n",
    "\n",
    "        \n",
    "    def iterator(self):\n",
    "        return LinkedList.Iterator(self)   \n",
    "    \n",
    "    def __init__(self):\n",
    "        self.head = None\n",
    "  \n",
    "    def addFirst(self, item):         \n",
    "        newNode = Node(item, self.head)        \n",
    "        self.head = newNode\n",
    "        \n",
    "    def append(self, item):\n",
    "        raise NotImplementedError()\n",
    "    \n",
    "    def removeFirst(self):\n",
    "        raise NotImplementedError()\n",
    "    \n",
    "    def print(self):        \n",
    "        currentNode = self.head\n",
    "        while (currentNode != None):\n",
    "            print(currentNode.item, end=\" \")\n",
    "            currentNode = currentNode.next\n"
   ]
  },
  {
   "cell_type": "markdown",
   "metadata": {},
   "source": [
    "*Übung: Implementieren Sie die fehlenden Methoden!*"
   ]
  },
  {
   "cell_type": "markdown",
   "metadata": {},
   "source": [
    "Dank dieses ADTs ist es nun sehr einfach die Liste zu benutzen."
   ]
  },
  {
   "cell_type": "code",
   "execution_count": null,
   "metadata": {},
   "outputs": [],
   "source": [
    "l = LinkedList()\n",
    "l.addFirst(\"last\")\n",
    "l.addFirst(\"second\")\n",
    "l.addFirst(\"first\")\n",
    "l.print()"
   ]
  },
  {
   "cell_type": "code",
   "execution_count": null,
   "metadata": {},
   "outputs": [],
   "source": [
    "it =l.iterator()"
   ]
  },
  {
   "cell_type": "code",
   "execution_count": null,
   "metadata": {},
   "outputs": [],
   "source": [
    "while (it.hasNext()):    \n",
    "    print(it.next())"
   ]
  },
  {
   "cell_type": "markdown",
   "metadata": {},
   "source": [
    "### Rekursive Implementation"
   ]
  },
  {
   "cell_type": "markdown",
   "metadata": {},
   "source": [
    "Wir können eine Liste auch als rekursive Datenstruktur interpretieren. Die Definition ist grundsätzlich dieselbe wie bei der Klasse Node. Um die rekursive Struktur klarer zu machen, führen wir hier jedoch eine neue Klasse ein, die die Intention klarer macht. "
   ]
  },
  {
   "cell_type": "code",
   "execution_count": null,
   "metadata": {},
   "outputs": [],
   "source": [
    "class LList:\n",
    "    def __init__(self, head, tail):\n",
    "        self.head = head\n",
    "        self.tail = tail       "
   ]
  },
  {
   "cell_type": "markdown",
   "metadata": {},
   "source": [
    "Die einfachste Instanz der rekursiven Liste ist die Leere Liste, die wir wir folgte definieren"
   ]
  },
  {
   "cell_type": "code",
   "execution_count": null,
   "metadata": {},
   "outputs": [],
   "source": [
    "emptyList = LList(None, None)"
   ]
  },
  {
   "cell_type": "markdown",
   "metadata": {},
   "source": [
    "Eine etwas kompliziertere Liste lässt sich einfach durch Schachtelung konstruieren."
   ]
  },
  {
   "cell_type": "code",
   "execution_count": null,
   "metadata": {},
   "outputs": [],
   "source": [
    "l = LList(\"first\", LList(\"second\", LList(\"third\", emptyList)))"
   ]
  },
  {
   "cell_type": "markdown",
   "metadata": {},
   "source": [
    "Die rekursive Definitionführt zu einer sehr natürlichen, rekursiven, Implementation der Operationen. Der Code folgt einfach der Struktur die durch die Datenstruktur vorgegeben ist. "
   ]
  },
  {
   "cell_type": "markdown",
   "metadata": {},
   "source": [
    "#### Übung: \n",
    "Implementieren Sie rekursive Operationen für ```printList``` und ```append``` (am Ende einfügen). Die ```append``` operation soll eine neue Liste mit einem neuen Element zurückgeben."
   ]
  },
  {
   "cell_type": "code",
   "execution_count": null,
   "metadata": {},
   "outputs": [],
   "source": []
  },
  {
   "cell_type": "code",
   "execution_count": null,
   "metadata": {},
   "outputs": [],
   "source": []
  }
 ],
 "metadata": {
  "anaconda-cloud": {},
  "kernelspec": {
   "display_name": "Python 3",
   "language": "python",
   "name": "python3"
  },
  "language_info": {
   "codemirror_mode": {
    "name": "ipython",
    "version": 3
   },
   "file_extension": ".py",
   "mimetype": "text/x-python",
   "name": "python",
   "nbconvert_exporter": "python",
   "pygments_lexer": "ipython3",
   "version": "3.6.7"
  }
 },
 "nbformat": 4,
 "nbformat_minor": 1
}
