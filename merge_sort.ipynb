{
 "cells": [
  {
   "cell_type": "markdown",
   "metadata": {},
   "source": [
    "# Mergesort"
   ]
  },
  {
   "cell_type": "markdown",
   "metadata": {},
   "source": [
    "In diesem Notebook schauen wir uns Mergesort an und vergleichen diesen mit einem naiven Sortieralgorithmus, nämlich Insertionsort."
   ]
  },
  {
   "cell_type": "markdown",
   "metadata": {},
   "source": [
    "### Insertionsort"
   ]
  },
  {
   "cell_type": "markdown",
   "metadata": {},
   "source": [
    "Der folgende Algorithmus entspricht der klassischen Variante von Insertionsort."
   ]
  },
  {
   "cell_type": "code",
   "execution_count": 38,
   "metadata": {},
   "outputs": [],
   "source": [
    "def insertion_sort(array):\n",
    "      n = len(array)\n",
    "      for i in range(1, n):  # i = 1, ..., n - 1\n",
    "          # move array[i] to the left unxtil it is\n",
    "          # at the correct position.\n",
    "          for j in range(i, 0, -1):  # j = i, ..., 1\n",
    "              if array[j] < array[j-1]:\n",
    "                  # not yet at final position.\n",
    "                  # swap array[j] and array[j-1]\n",
    "                  array[j], array[j-1] = array[j-1], array[j]\n",
    "              else:\n",
    "                  break  # continue with next i"
   ]
  },
  {
   "cell_type": "markdown",
   "metadata": {},
   "source": [
    "#### Laufzeit\n",
    "\n",
    "Im Folgenden messen wir die Laufzeit vom Algorithmus für zufällige Arrays der Grösse 10, 100, 1000 und 10000. "
   ]
  },
  {
   "cell_type": "code",
   "execution_count": 39,
   "metadata": {},
   "outputs": [],
   "source": [
    "import timeit\n",
    "import random"
   ]
  },
  {
   "cell_type": "code",
   "execution_count": 40,
   "metadata": {},
   "outputs": [],
   "source": [
    "def createRandArray(n):\n",
    "    a = [0]*n\n",
    "    for i in range(0, n):\n",
    "        a[i] = random.randint(0, n)\n",
    "    return a"
   ]
  },
  {
   "cell_type": "code",
   "execution_count": 42,
   "metadata": {},
   "outputs": [
    {
     "name": "stdout",
     "output_type": "stream",
     "text": [
      "insertion sort auf 10 Elementen: 1.4700000065204222e-05\n",
      "insertion sort auf 100 Elementen: 0.0008894000000054803\n",
      "insertion sort auf 1000 Elementen: 0.1437650999998823\n",
      "insertion sort auf 10000 Elementen: 16.427507399999968\n"
     ]
    }
   ],
   "source": [
    "for i in range (1, 5):\n",
    "    a = createRandArray(10**i)\n",
    "    t = timeit.timeit(lambda: insertion_sort(a), number=1)\n",
    "    print(\"insertion sort auf \" +str(10**i) + \" Elementen: \" + str(t))"
   ]
  },
  {
   "cell_type": "markdown",
   "metadata": {},
   "source": [
    "Wir sehen hier die typische quadratische Laufzeit. Wenn wir 10 mal mehr Elemente sortieren brauchen wir ca. 100 mal länger. "
   ]
  },
  {
   "cell_type": "markdown",
   "metadata": {},
   "source": [
    "### Merge Sort"
   ]
  },
  {
   "cell_type": "markdown",
   "metadata": {},
   "source": [
    "Der Kern der Merge-Sort-Algorithmus ist die Mergefunktion, die zwei benachbarte bereits sortierte Bereiche einer Sequenz zusammenführt.\n",
    "\n",
    "Der erste Bereich geht dabei von Position `lo` bis einschliesslich Position `mid`, der zweite Bereich von Position `mid+1` bis einschliesslich Position `hi`. Array `tmp` dient als \"Zwischenspeicher\" und muss die gleiche Länge wie `array` haben."
   ]
  },
  {
   "cell_type": "code",
   "execution_count": 2,
   "metadata": {},
   "outputs": [],
   "source": [
    "def merge(array, tmp, lo, mid, hi):\n",
    "    i = lo\n",
    "    j = mid + 1\n",
    "    for k in range(lo, hi + 1):  # k = lo,...,hi\n",
    "        if j > hi or (i <= mid and array[i] <= array[j]):\n",
    "            tmp[k] = array[i]\n",
    "            i += 1\n",
    "        else:\n",
    "            tmp[k] = array[j]\n",
    "            j += 1\n",
    "    for k in range(lo, hi + 1):  # k = lo,...,hi\n",
    "        array[k] = tmp[k]"
   ]
  },
  {
   "cell_type": "code",
   "execution_count": 3,
   "metadata": {},
   "outputs": [
    {
     "name": "stdout",
     "output_type": "stream",
     "text": [
      "[8, 7, 2, 3, 5, 5, 6, 7, 2, 8]\n"
     ]
    }
   ],
   "source": [
    "array = [8, 7, 3, 5, 7, 2, 5, 6, 2, 8]\n",
    "tmp = [0] * len(array)\n",
    "merge(array, tmp, 2, 4, 7)\n",
    "print(array)"
   ]
  },
  {
   "cell_type": "markdown",
   "metadata": {},
   "source": [
    "Die Top-Down-Variante von Mergesort teilt den sortierenden Bereich in zwei etwa gleich grosse Teilbereiche auf, sortiert sie jeweils mit einem rekursiven Aufruf und führt die dann sortierten Teilbereiche wieder mit `merge` zusammen."
   ]
  },
  {
   "cell_type": "code",
   "execution_count": 34,
   "metadata": {},
   "outputs": [],
   "source": [
    "def mergesort(array):\n",
    "    tmp = [0] * len(array)  # [0,...,0] with same size as array\n",
    "    sort_aux(array, tmp, 0, len(array) - 1)\n",
    "\n",
    "def sort_aux(array, tmp, lo, hi):\n",
    "    # print(\"start sorting positions\", lo, \"to\", hi)\n",
    "    if hi <= lo:\n",
    "        return\n",
    "    mid = lo + (hi - lo) // 2\n",
    "    # //: Division mit Abrunden\n",
    "    sort_aux(array, tmp, lo, mid)\n",
    "    sort_aux(array, tmp, mid + 1, hi)\n",
    "    merge(array, tmp, lo, mid, hi)\n",
    "    # print(\"merged\", lo, \"-\", mid, \"and\", mid+1, \"-\", hi)"
   ]
  },
  {
   "cell_type": "code",
   "execution_count": 36,
   "metadata": {},
   "outputs": [
    {
     "name": "stdout",
     "output_type": "stream",
     "text": [
      "[1, 2, 4, 4, 5, 6, 7, 9]\n"
     ]
    }
   ],
   "source": [
    "array = [4, 2, 5, 7, 9, 6, 4, 1]\n",
    "mergesort(array)\n",
    "print(array)"
   ]
  },
  {
   "cell_type": "markdown",
   "metadata": {},
   "source": [
    "Die Bottom-Up-Variante von Mergesort arbeitet iterativ und sortiert erst alle hintereinanerliegenden Teilbereiche der Grösse 2, dann der Grösse 4, dann 8, etc."
   ]
  },
  {
   "cell_type": "code",
   "execution_count": 23,
   "metadata": {},
   "outputs": [],
   "source": [
    "def bottom_up_mergesort(array):\n",
    "    n = len(array)\n",
    "    tmp = [0] * n\n",
    "    length = 1\n",
    "    while length < n:\n",
    "        lo = 0\n",
    "        while lo < n - length:\n",
    "            mid = lo + length - 1\n",
    "            hi = min(lo + 2 * length - 1, n - 1)\n",
    "            merge(array, tmp, lo, mid, hi)\n",
    "            # print(\"merged\", lo, \"-\", mid, \"and\", mid+1, \"-\", hi)\n",
    "            lo += 2 * length\n",
    "        length *= 2"
   ]
  },
  {
   "cell_type": "code",
   "execution_count": 24,
   "metadata": {},
   "outputs": [
    {
     "name": "stdout",
     "output_type": "stream",
     "text": [
      "[1, 2, 4, 4, 5, 5, 6, 7, 9]\n"
     ]
    }
   ],
   "source": [
    "array = [4, 2, 5, 7, 9, 6, 4, 1, 5]\n",
    "bottom_up_mergesort(array)\n",
    "print(array)"
   ]
  },
  {
   "cell_type": "markdown",
   "metadata": {},
   "source": [
    "### Laufzeit Mergesort"
   ]
  },
  {
   "cell_type": "markdown",
   "metadata": {},
   "source": [
    "Auch hier wollen wir nun die Laufzeit vergleichen. "
   ]
  },
  {
   "cell_type": "code",
   "execution_count": 9,
   "metadata": {},
   "outputs": [],
   "source": [
    "import timeit\n",
    "import random"
   ]
  },
  {
   "cell_type": "code",
   "execution_count": 18,
   "metadata": {},
   "outputs": [],
   "source": [
    "def createRandArray(n):\n",
    "    a = [0]*n\n",
    "    for i in range(0, n):\n",
    "        a[i] = random.randint(0, n)\n",
    "    return a"
   ]
  },
  {
   "cell_type": "code",
   "execution_count": 35,
   "metadata": {},
   "outputs": [
    {
     "name": "stdout",
     "output_type": "stream",
     "text": [
      "merge sort auf 10 Elementen: 5.5400000064764754e-05\n",
      "merge sort auf 100 Elementen: 0.0006929999999556458\n",
      "merge sort auf 1000 Elementen: 0.013963800000055926\n",
      "merge sort auf 10000 Elementen: 0.10026650000008885\n",
      "merge sort auf 100000 Elementen: 1.6216406999999435\n",
      "merge sort auf 1000000 Elementen: 17.80090270000005\n"
     ]
    }
   ],
   "source": [
    "for i in range (1, 7):\n",
    "    a = createRandArray(10**i)\n",
    "    t = timeit.timeit(lambda: mergesort(a), number=1)\n",
    "    print(\"merge sort auf \" +str(10**i) + \" Elementen: \" + str(t))"
   ]
  },
  {
   "cell_type": "markdown",
   "metadata": {},
   "source": [
    "Im Gegensatz zu Insertionsort sehen wir nun ein sehr viel besseres Laufzeitverhalten. Die Laufzeit steigt nur leicht überlinear. Im Gegensatz zu insertionsort können wir somit auch sehr grosse Sequenzen effizient sortieren. "
   ]
  },
  {
   "cell_type": "code",
   "execution_count": null,
   "metadata": {},
   "outputs": [],
   "source": []
  }
 ],
 "metadata": {
  "kernelspec": {
   "display_name": "Python 3",
   "language": "python",
   "name": "python3"
  },
  "language_info": {
   "codemirror_mode": {
    "name": "ipython",
    "version": 3
   },
   "file_extension": ".py",
   "mimetype": "text/x-python",
   "name": "python",
   "nbconvert_exporter": "python",
   "pygments_lexer": "ipython3",
   "version": "3.7.4"
  }
 },
 "nbformat": 4,
 "nbformat_minor": 2
}
