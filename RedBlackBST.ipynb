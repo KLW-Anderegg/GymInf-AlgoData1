{
 "cells": [
  {
   "cell_type": "markdown",
   "metadata": {},
   "source": [
    "# Rot-Schwarz Bäume"
   ]
  },
  {
   "cell_type": "markdown",
   "metadata": {},
   "source": [
    "## Implementation"
   ]
  },
  {
   "cell_type": "markdown",
   "metadata": {},
   "source": [
    "Die Datenstruktur die wir nutzen um einen Rot-Schwarz Baum zu implementieren ist sehr ähnlich zu der Implementation von einem klassischen Binären Suchbaum. Im Vergleich zum Binärbaum benötigen wir aber das zusätzliches Feld ```color``` in jedem Knoten um die Farbe zu speichern. Wir definieren uns dafür den Datentyp ```Color```, der die Farbe Rot und Schwarz repräsentieren kann. "
   ]
  },
  {
   "cell_type": "code",
   "execution_count": 64,
   "metadata": {},
   "outputs": [],
   "source": [
    "from enum import Enum\n",
    "class Color(Enum):\n",
    "        RED = 1\n",
    "        BLACK = 2\n",
    "        \n",
    "        @staticmethod\n",
    "        def flipColor(color):\n",
    "            if color == Color.RED:\n",
    "                return Color.BLACK\n",
    "            else:\n",
    "                return Color.RED"
   ]
  },
  {
   "cell_type": "markdown",
   "metadata": {},
   "source": [
    "Die Methoden ```size```, ```isEmpty```, ```contains``` und ```get``` können wir direkt vom vom binären Suchbaum übernehmen. Die Unterschiede kommen nur zum Tragen, wenn wir den Baum verändern, d.h. Knoten einfügen oder löschen. Wir zeigen hier nur die Methode ```put```. Beachten Sie, wie nach dem Einfügen eines Knotens die Methoden ```rotateLeft```, ```rotateRight```und ```flipColors``` verwendet werden, um sicherzustellen, dass wir wieder einen gültigen Rot-Schwarz Baum bekommen. *Diese Operationen werden durch die Rekursion auf jedem Elternknoten durchgeführt*."
   ]
  },
  {
   "cell_type": "code",
   "execution_count": 65,
   "metadata": {},
   "outputs": [],
   "source": [
    "class RedBlackBST:\n",
    "\n",
    "    class Node:\n",
    "        def __init__(self, key, value, color, count = 1):\n",
    "            self.key = key\n",
    "            self.value = value\n",
    "            self.count = count\n",
    "            self.left = None\n",
    "            self.right = None\n",
    "            self.color = color # color of parent link\n",
    "    \n",
    "    def __init__(self):\n",
    "        self._root = None\n",
    "\n",
    "  \n",
    "    def root(self) : return self._root;\n",
    "    \n",
    "    def size(self):\n",
    "        return self._size(self._root)\n",
    "    \n",
    "    def _size(self, root):\n",
    "        if (root == None):\n",
    "            return 0\n",
    "        else:\n",
    "            return root.count\n",
    "    \n",
    "    def isEmpty(self):\n",
    "        return self.size() == 0\n",
    "    \n",
    "    def contains(self, key):\n",
    "        return self.get(key) != None\n",
    "    \n",
    "    def get(self, key): \n",
    "        return self._get(key, self._root)\n",
    "    \n",
    "    def _get(self, key, node):\n",
    "        if node == None:\n",
    "            return None\n",
    "        elif key < node.key:\n",
    "            return self._get(key, node.left)\n",
    "        elif key > node.key:\n",
    "            return self._get(key, node.right)\n",
    "        elif key == node.key:\n",
    "            return node.value\n",
    "        else:\n",
    "            raise Exception(\"should never reach this line\")\n",
    "            \n",
    "    def put(self, key, value):\n",
    "        self._root = self._put(key, value, self._root)\n",
    "        self._root.color  = Color.BLACK;\n",
    "    \n",
    "    def _put(self, key, value, node):\n",
    "        if (node == None):\n",
    "            return RedBlackBST.Node(key, value, Color.RED, 1)\n",
    "        elif key < node.key:\n",
    "            node.left = self._put(key, value, node.left)\n",
    "        elif key > node.key:\n",
    "            node.right = self._put(key, value, node.right)\n",
    "        elif key == node.key:\n",
    "            node.value = value\n",
    "      \n",
    "        if self._isRed(node.right) and not self._isRed(node.left):\n",
    "            node = self._rotateLeft(node)\n",
    "        if self._isRed(node.left) and self._isRed(node.left.left):\n",
    "            node = self._rotateRight(node)\n",
    "        if self._isRed(node.left) and self._isRed(node.right):\n",
    "            self._flipColors(node)\n",
    " \n",
    "        node.count = 1 + self._size(node.left) + self._size(node.right)\n",
    " \n",
    "        return node\n",
    "         \n",
    "    def _rotateRight(self, node):\n",
    "        t = node.left;\n",
    "        node.left = t.right;\n",
    "        t.right = node;\n",
    "        t.color = t.right.color;\n",
    "        t.right.color = Color.RED;\n",
    "        t.count = node.count;\n",
    "        node.count = self._size(node.left) + self._size(node.right) + 1;\n",
    "        return t;\n",
    "\n",
    "    \n",
    "    def _rotateLeft(self, node):\n",
    "        t = node.right;\n",
    "        node.right = t.left;\n",
    "        t.left = node;\n",
    "        t.color = t.left.color;\n",
    "        t.left.color = Color.RED;\n",
    "        t.count = node.count;\n",
    "        node.count = self._size(node.left) + self._size(node.right) + 1;\n",
    "        return t;\n",
    " \n",
    "        \n",
    "        \n",
    "    def _flipColors(self, node):\n",
    "        \n",
    "        node.color = Color.flipColor(node.color);\n",
    "        node.left.color = Color.flipColor(node.left.color);\n",
    "        node.right.color = Color.flipColor(node.right.color);\n",
    "        return node\n",
    " \n",
    "    \n",
    "    def keys(self):\n",
    "        return self._keys(self._root)\n",
    "        \n",
    "    def _keys(self, node):        \n",
    "        if node == None:\n",
    "            return []\n",
    "        else:\n",
    "            nodesLeft = self._keys(node.left)            \n",
    "            nodesRight = self._keys(node.right)\n",
    "            return nodesLeft +[node.key] + nodesRight\n",
    "\n",
    "    def _isRed(self, node):\n",
    "        \n",
    "        if node == None:\n",
    "            return False\n",
    "        else:\n",
    "            return node.color == Color.RED\n",
    "        \n",
    "    def height(self):\n",
    "        return self._height(self._root)\n",
    "    \n",
    "    def _height(self, node):\n",
    "        if node == None:\n",
    "            return -1\n",
    "        else:\n",
    "            return 1 + max(self._height(node.left), self._height(node.right))   "
   ]
  },
  {
   "cell_type": "markdown",
   "metadata": {},
   "source": [
    "## Visualisierung"
   ]
  },
  {
   "cell_type": "markdown",
   "metadata": {},
   "source": [
    "Wie bereits beim Binärbaum definieren wir uns die Methode ```plotTree``` um den Baum (diesmal inklusive Farben) zu visualisieren. Die Details der Implementation sind für das Verständnis vom Algorithmus nicht relevant. "
   ]
  },
  {
   "cell_type": "code",
   "execution_count": 66,
   "metadata": {},
   "outputs": [],
   "source": [
    "import networkx as nx\n",
    "import matplotlib\n",
    "import matplotlib.pyplot as plt\n",
    "\n",
    "class NodeWithId:\n",
    "    def __init__(self, key, value, color, id, left, right):\n",
    "        self.key = key\n",
    "        self.value = value\n",
    "        self.id = id\n",
    "        self.color = color\n",
    "        self.left = left\n",
    "        self.right = right\n",
    "        \n",
    "def _augmentTreeWithId( t, n):\n",
    "    if t == None:\n",
    "        return (None, n)\n",
    "    else:        \n",
    "        (leftNode, newN) = _augmentTreeWithId(t.left, n)\n",
    "        (rightNode, rightN) = _augmentTreeWithId(t.right, newN + 1)\n",
    "        return (NodeWithId(t.key, t.value, t.color, newN + 1, leftNode, rightNode), rightN )\n",
    "\n",
    "def _buildTreeGraph(g, t, parentNode, depth, showValues):\n",
    "    if t == None:\n",
    "        return\n",
    "    _buildTreeGraph(g, t.left, t, depth + 1, showValues)\n",
    "    label = \"\" \n",
    "    if showValues:\n",
    "        label = str((t.key, t.value))\n",
    "    else:\n",
    "        label = str(t.key)\n",
    "    g.add_node(t.id, pos=(t.id, -depth), label=label)\n",
    "    if (parentNode != None):\n",
    "        if t.color == Color.RED:\n",
    "            g.add_edge(t.id, parentNode.id, color='r')\n",
    "        else:\n",
    "            g.add_edge(t.id, parentNode.id, color='black')\n",
    "    _buildTreeGraph(g, t.right, t, depth + 1, showValues)\n",
    "\n",
    "def showTree(bst, showValues = False):\n",
    "    g = nx.Graph()\n",
    "    (tt, _) = _augmentTreeWithId(bst.root(), 0)\n",
    "    _buildTreeGraph(g, tt, None, 0,  showValues)\n",
    "    pos=nx.get_node_attributes(g,'pos')\n",
    "    labels = nx.get_node_attributes(g, 'label')\n",
    "    \n",
    "    edges = g.edges()\n",
    "    colors = [g[u][v]['color'] for u,v in edges]\n",
    "    nx.draw_networkx_nodes(g, pos, node_size=500, node_color='#00b4d9')\n",
    "    nx.draw_networkx_labels(g, pos, labels)\n",
    "    nx.draw_networkx_edges(g, pos, edge_color = colors, width=5.0,alpha=1.0)\n",
    "    plt.axis('off')\n",
    "    plt.show()\n",
    "    "
   ]
  },
  {
   "cell_type": "markdown",
   "metadata": {},
   "source": [
    "## Experimente"
   ]
  },
  {
   "cell_type": "markdown",
   "metadata": {
    "scrolled": true
   },
   "source": [
    "Als erstes zeigen wir wieder wie der Baum für verschiedene Sequenzen von Schlüsseln aussieht. "
   ]
  },
  {
   "cell_type": "markdown",
   "metadata": {},
   "source": [
    "Wir beginnen mit unserem Standardbeispiel:"
   ]
  },
  {
   "cell_type": "code",
   "execution_count": 82,
   "metadata": {},
   "outputs": [
    {
     "data": {
      "image/png": "[encoded data removed]",
      "text/plain": [
       "<Figure size 432x288 with 1 Axes>"
      ]
     },
     "metadata": {},
     "output_type": "display_data"
    }
   ],
   "source": [
    "rbt = RedBlackBST()\n",
    "for (value, key) in enumerate(sorted(list(\"REDBLACKTREEFUN\"))):\n",
    "    rbt.put(key, value)\n",
    "showTree(rbt)"
   ]
  },
  {
   "cell_type": "markdown",
   "metadata": {},
   "source": [
    "Wie wir sehen, ist dies ein gültiger Rot-Schwarz  Baum, der einem 2-3 Baum der Höhe 2 entspricht (Rote Kanten werden zu 3-Knoten). "
   ]
  },
  {
   "cell_type": "markdown",
   "metadata": {},
   "source": [
    "Als nächstes testen wir was passiert, wenn wir bereits sortierte Inputs einfügen."
   ]
  },
  {
   "cell_type": "code",
   "execution_count": 70,
   "metadata": {},
   "outputs": [
    {
     "data": {
      "image/png": "[encoded data removed]",
      "text/plain": [
       "<Figure size 432x288 with 1 Axes>"
      ]
     },
     "metadata": {},
     "output_type": "display_data"
    }
   ],
   "source": [
    "rbt = RedBlackBST()\n",
    "for (value, key) in enumerate(list(\"ABCDEFGHIJKLMN\")):\n",
    "    rbt.put(key, value)\n",
    "showTree(rbt)    "
   ]
  },
  {
   "cell_type": "code",
   "execution_count": 71,
   "metadata": {},
   "outputs": [
    {
     "data": {
      "image/png": "[encoded data removed]",
      "text/plain": [
       "<Figure size 432x288 with 1 Axes>"
      ]
     },
     "metadata": {},
     "output_type": "display_data"
    }
   ],
   "source": [
    "rbt = RedBlackBST()\n",
    "for (value, key) in enumerate(list(\"NMLKJIHGFEDCBA\")):\n",
    "    rbt.put(key, value)\n",
    "showTree(rbt)"
   ]
  },
  {
   "cell_type": "markdown",
   "metadata": {},
   "source": [
    "Auch hier erhalten wir in beiden Fällen wieder einen gültigen Rot Schwarz Baum. Im Gegensatz zum Binären Suchbaum degeneriert dieser nicht zur Liste. \n",
    "\n",
    "#### Übung: \n",
    "\n",
    "* Erstellen Sie einen Baum, der nur Rote Kanten hat\n",
    "* Erstellen Sie einen Baum, der nur schwarze Kanten hat\n",
    "* Was passiert wenn sie als erstes Element zusätlich noch den Buchstaben O einfügen?"
   ]
  },
  {
   "cell_type": "markdown",
   "metadata": {},
   "source": [
    "Als letztes schauen wir uns noch an, wie sich die Höhe verändert, wenn wir immer mehr Schlüssel in den Baum einfügen. "
   ]
  },
  {
   "cell_type": "code",
   "execution_count": null,
   "metadata": {},
   "outputs": [],
   "source": [
    "import random\n",
    "def randomlyFilledRedBlackBST(num):\n",
    "    bst = RedBlackBST()\n",
    "    keys = list(range(0, num))\n",
    "    random.shuffle(keys)\n",
    "    for key in keys:\n",
    "        bst.put(key, \"value\")\n",
    "    return bst"
   ]
  },
  {
   "cell_type": "code",
   "execution_count": 73,
   "metadata": {},
   "outputs": [],
   "source": [
    "import numpy\n",
    "\n",
    "Ns = [100, 1000, 5000, 10000, 20000, 50000, 100000]\n",
    "\n",
    "numRuns = 5\n",
    "heights = []\n",
    "\n",
    "for N in Ns:    \n",
    "    avgHeight = 0    \n",
    "    for i in range(0, numRuns):\n",
    "        bst = randomlyFilledRedBlackBST(num=N)\n",
    "        avgHeight += bst.height()\n",
    "    heights.append(avgHeight / numRuns)"
   ]
  },
  {
   "cell_type": "code",
   "execution_count": 77,
   "metadata": {},
   "outputs": [
    {
     "data": {
      "image/png": "[encoded data removed]",
      "text/plain": [
       "<Figure size 432x288 with 1 Axes>"
      ]
     },
     "metadata": {
      "needs_background": "light"
     },
     "output_type": "display_data"
    }
   ],
   "source": [
    "import pylab as plt\n",
    "fig, ax = plt.subplots()\n",
    "ax.plot(Ns, heights)\n",
    "ax.plot(Ns, 2 * numpy.log2(Ns))\n",
    "plt.legend(['Höhe Rot-Schwarz Baum', '2log2(N)'])\n",
    "plt.show(fig)"
   ]
  },
  {
   "cell_type": "markdown",
   "metadata": {
    "collapsed": true
   },
   "source": [
    "Wie erwartet wächst die Höhe logarithmisch und bleibt weit unter des theoretischen Worst-case Bound von $2 \\log_2(N)$."
   ]
  },
  {
   "cell_type": "code",
   "execution_count": null,
   "metadata": {},
   "outputs": [],
   "source": []
  }
 ],
 "metadata": {
  "anaconda-cloud": {},
  "kernelspec": {
   "display_name": "Python 3",
   "language": "python",
   "name": "python3"
  },
  "language_info": {
   "codemirror_mode": {
    "name": "ipython",
    "version": 3
   },
   "file_extension": ".py",
   "mimetype": "text/x-python",
   "name": "python",
   "nbconvert_exporter": "python",
   "pygments_lexer": "ipython3",
   "version": "3.7.4"
  }
 },
 "nbformat": 4,
 "nbformat_minor": 1
}
