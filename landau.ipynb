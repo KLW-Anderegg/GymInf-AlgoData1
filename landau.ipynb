{
 "cells": [
  {
   "cell_type": "markdown",
   "metadata": {},
   "source": [
    "# Landau-Symbole"
   ]
  },
  {
   "cell_type": "markdown",
   "metadata": {},
   "source": [
    "$\\Theta(g)$ ist die Menge aller Funktionen, die genauso schnell wachsen wie g. Formal:\n",
    "\n",
    "$$\\Theta(g) = \\{f\\mid{} \\exists c>0,\\exists c'> 0,\\exists n_0> 0 \\text{, so dass } \\forall\n",
    "       n \\geq n_0: c\\cdot g(n)\\leq f(n) \\leq c'\\cdot g(n)\\}$$"
   ]
  },
  {
   "cell_type": "markdown",
   "metadata": {},
   "source": [
    "Bei der Analyse interessiert nur der Term höchster Ordnung (= am schnellsten wachsender Summand) einer Funktion.\n",
    "\n",
    "Illustration für $f(x) = 2x^3 - 3x^2 + 100x\\log_2(x) + 50000$:"
   ]
  },
  {
   "cell_type": "code",
   "execution_count": null,
   "metadata": {},
   "outputs": [],
   "source": [
    "%matplotlib inline\n",
    "\n",
    "import matplotlib\n",
    "import matplotlib.pyplot as plt\n",
    "import numpy as np"
   ]
  },
  {
   "cell_type": "code",
   "execution_count": null,
   "metadata": {},
   "outputs": [],
   "source": [
    "x = np.linspace(0.01, 50, 500)\n",
    "plt.plot(x, 2*x**3 - 3*x**2 + 100*x*np.log2(x) + 50000, label=r'$2x^3 - 3x^2 + 100x\\log_2(x) + 50000$')\n",
    "plt.plot(x, x**3, label=r'$x^3$')\n",
    "\n",
    "c1 = 0 # TODO\n",
    "c2 = 0 # TODO\n",
    "n0 = 0 # TODO\n",
    "# plt.plot(x, c1*x**3, label=r'$%sx^3$' % c1)\n",
    "# plt.plot(x, c2*x**3, label=r'$%sx^3$' % c2)\n",
    "# plt.axvline(x=n0)\n",
    "legend = plt.legend()"
   ]
  }
 ],
 "metadata": {
  "kernelspec": {
   "display_name": "Python 3",
   "language": "python",
   "name": "python3"
  },
  "language_info": {
   "codemirror_mode": {
    "name": "ipython",
    "version": 3
   },
   "file_extension": ".py",
   "mimetype": "text/x-python",
   "name": "python",
   "nbconvert_exporter": "python",
   "pygments_lexer": "ipython3",
   "version": "3.6.7"
  }
 },
 "nbformat": 4,
 "nbformat_minor": 2
}
