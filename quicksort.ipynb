{
 "cells": [
  {
   "cell_type": "markdown",
   "metadata": {},
   "source": [
    "# Quicksort"
   ]
  },
  {
   "cell_type": "markdown",
   "metadata": {},
   "source": [
    "In diesem Notebook schauen wir uns den Quicksort Algorithmus an."
   ]
  },
  {
   "cell_type": "markdown",
   "metadata": {},
   "source": [
    "### Quicksort"
   ]
  },
  {
   "cell_type": "markdown",
   "metadata": {},
   "source": [
    "Der Kern vom Quicksort-Algorithmus ist die Partitionsfunktion, die die Elemente in einem Array so aufteilt, dass alle Elemente links von einem gewählten Pivotelement kleiner oder gleich diesem Element sind, und alle Elemente rechts davon grösser oder gleich dem Pivotelement. "
   ]
  },
  {
   "cell_type": "code",
   "execution_count": 31,
   "metadata": {},
   "outputs": [],
   "source": [
    "def partition(array, lo, hi):\n",
    "    pivot = array[lo]\n",
    "    i = lo + 1\n",
    "    j = hi\n",
    "    \n",
    "    while (True):\n",
    "        while i < hi and array[i] < pivot:\n",
    "            i += 1\n",
    "        \n",
    "        while array[j] > pivot:\n",
    "            j -= 1\n",
    "        if i >= j:\n",
    "            break\n",
    "            \n",
    "        array[i], array[j] = array[j], array[i]\n",
    "        i, j = i + 1, j - 1\n",
    "\n",
    "    array[lo], array[j] = array[j], array[lo]\n",
    "    return j"
   ]
  },
  {
   "cell_type": "code",
   "execution_count": 35,
   "metadata": {},
   "outputs": [
    {
     "name": "stdout",
     "output_type": "stream",
     "text": [
      "[5, 3, 5, 2, 6, 2, 7, 8, 7, 8]\n"
     ]
    }
   ],
   "source": [
    "array = [7, 3, 5, 7, 8, 2, 5, 6, 2, 8]\n",
    "pivot_pos = partition(array, 0, len(array) -1)\n",
    "\n",
    "print(array)"
   ]
  },
  {
   "cell_type": "markdown",
   "metadata": {},
   "source": [
    "Die eigentlich Sortierfunktion ist dann sehr einfach zu implementieren:"
   ]
  },
  {
   "cell_type": "code",
   "execution_count": 36,
   "metadata": {},
   "outputs": [],
   "source": [
    "def quicksort(array):\n",
    "    sort_aux(array, 0, len(array)-1)\n",
    "    \n",
    "def sort_aux(array, lo, hi):\n",
    "    if hi <= lo:\n",
    "        return\n",
    "    # choose_pivot_and_swap_it_to_lo(array, lo, hi)\n",
    "    pivot_pos = partition(array, lo, hi)\n",
    "    sort_aux(array, lo, pivot_pos - 1)\n",
    "    sort_aux(array, pivot_pos + 1, hi)"
   ]
  },
  {
   "cell_type": "code",
   "execution_count": 41,
   "metadata": {},
   "outputs": [
    {
     "name": "stdout",
     "output_type": "stream",
     "text": [
      "[1, 2, 4, 4, 5, 6, 7, 9]\n"
     ]
    }
   ],
   "source": [
    "array = [4, 2, 5, 7, 9, 6, 4, 1]\n",
    "quicksort(array)\n",
    "print(array)"
   ]
  },
  {
   "cell_type": "markdown",
   "metadata": {},
   "source": [
    "### Laufzeit Quicksort"
   ]
  },
  {
   "cell_type": "markdown",
   "metadata": {},
   "source": [
    "Auch hier wollen wir nun die Laufzeit vergleichen. "
   ]
  },
  {
   "cell_type": "code",
   "execution_count": 38,
   "metadata": {},
   "outputs": [],
   "source": [
    "import timeit\n",
    "import random"
   ]
  },
  {
   "cell_type": "code",
   "execution_count": 39,
   "metadata": {},
   "outputs": [],
   "source": [
    "def createRandArray(n):\n",
    "    a = [0]*n\n",
    "    for i in range(0, n):\n",
    "        a[i] = random.randint(0, n)\n",
    "    return a"
   ]
  },
  {
   "cell_type": "code",
   "execution_count": 42,
   "metadata": {},
   "outputs": [
    {
     "name": "stdout",
     "output_type": "stream",
     "text": [
      "quicksort auf 10 Elementen: 2.570000015111873e-05\n",
      "quicksort auf 100 Elementen: 0.00011619999986578478\n",
      "quicksort auf 1000 Elementen: 0.0013020999999753258\n",
      "quicksort auf 10000 Elementen: 0.021390099999734957\n",
      "quicksort auf 100000 Elementen: 0.24863669999967897\n",
      "quicksort auf 1000000 Elementen: 3.742725099999916\n"
     ]
    }
   ],
   "source": [
    "for i in range (1, 7):\n",
    "    a = createRandArray(10**i)\n",
    "    t = timeit.timeit(lambda: quicksort(a), number=1)\n",
    "    print(\"quicksort auf \" +str(10**i) + \" Elementen: \" + str(t))"
   ]
  },
  {
   "cell_type": "markdown",
   "metadata": {},
   "source": [
    "Auch hier sehen wir, dass die Laufzeit nur leicht überlinear ansteigt. Wir können mit quicksort sehr grosse Sequenzen effizient sortieren. "
   ]
  }
 ],
 "metadata": {
  "kernelspec": {
   "display_name": "Python 3",
   "language": "python",
   "name": "python3"
  },
  "language_info": {
   "codemirror_mode": {
    "name": "ipython",
    "version": 3
   },
   "file_extension": ".py",
   "mimetype": "text/x-python",
   "name": "python",
   "nbconvert_exporter": "python",
   "pygments_lexer": "ipython3",
   "version": "3.7.4"
  },
  "toc": {
   "base_numbering": 1,
   "nav_menu": {},
   "number_sections": false,
   "sideBar": false,
   "skip_h1_title": false,
   "title_cell": "Table of Contents",
   "title_sidebar": "Contents",
   "toc_cell": false,
   "toc_position": {},
   "toc_section_display": false,
   "toc_window_display": false
  }
 },
 "nbformat": 4,
 "nbformat_minor": 4
}
