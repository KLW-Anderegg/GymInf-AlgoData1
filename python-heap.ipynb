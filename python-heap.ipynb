{
 "cells": [
  {
   "cell_type": "markdown",
   "metadata": {},
   "source": [
    "# Heap basiertes sortieren mit Python's heapq"
   ]
  },
  {
   "cell_type": "markdown",
   "metadata": {},
   "source": [
    "Python verfügt bereits standardmässig über eine Implementation von Heaps. Diese kann mittels ```import heapq``` importiert werden. "
   ]
  },
  {
   "cell_type": "code",
   "execution_count": null,
   "metadata": {},
   "outputs": [],
   "source": [
    "import heapq"
   ]
  },
  {
   "cell_type": "markdown",
   "metadata": {},
   "source": [
    "In Python ist ein Heap einfach als normale Liste implementiert. Um ein neues Heap zu erstellen, erstellen wir einfach eine neue, leere Liste."
   ]
  },
  {
   "cell_type": "code",
   "execution_count": null,
   "metadata": {},
   "outputs": [],
   "source": [
    "heap = []"
   ]
  },
  {
   "cell_type": "markdown",
   "metadata": {},
   "source": [
    "Mittels der Operation ```heappush``` können wir nun Elemente zum Heap hinzufügen. Die Operation stellt sicher, dass die Heapbedingung erfüllt ist.  Hier fügen wir das Element 7 zum Heap hinzu. "
   ]
  },
  {
   "cell_type": "code",
   "execution_count": null,
   "metadata": {},
   "outputs": [],
   "source": [
    "heapq.heappush(heap, 7)\n",
    "print(heap)"
   ]
  },
  {
   "cell_type": "markdown",
   "metadata": {},
   "source": [
    "Um das kleinste Element zu entfernen, steht die Operation ```heappop``` zur Verfügung. Auch diese garantiert, dass im heap die Heapbedinung erfüllt bleibt. "
   ]
  },
  {
   "cell_type": "code",
   "execution_count": null,
   "metadata": {},
   "outputs": [],
   "source": [
    "smallestElement = heapq.heappop(heap)\n",
    "print(smallestElement)"
   ]
  },
  {
   "cell_type": "markdown",
   "metadata": {},
   "source": [
    "## Übung"
   ]
  },
  {
   "cell_type": "markdown",
   "metadata": {},
   "source": [
    "Implementieren Sie einen Sortieralgorithmus, der mittels ```heapq.heappush``` und ```heapq.heappop``` eine neue Liste\n",
    "erstellt und zurückgibt. "
   ]
  },
  {
   "cell_type": "code",
   "execution_count": null,
   "metadata": {},
   "outputs": [],
   "source": [
    "def sortList(xs):\n",
    "    heap = []\n",
    "    sortedList = []\n",
    "\n",
    "    # IHR CODE\n",
    "    \n",
    "    return sortedList"
   ]
  },
  {
   "cell_type": "markdown",
   "metadata": {},
   "source": [
    "Testen Sie ihre Implementation: Folgendes sollte ```true``` ergeben"
   ]
  },
  {
   "cell_type": "code",
   "execution_count": null,
   "metadata": {},
   "outputs": [],
   "source": [
    "sortList([7, 3, 5, 12, 1]) == [1, 3, 5, 7, 12]"
   ]
  },
  {
   "cell_type": "markdown",
   "metadata": {},
   "source": [
    "## Laufzeit"
   ]
  },
  {
   "cell_type": "markdown",
   "metadata": {},
   "source": [
    "Im folgenden schauen wir uns die Laufzeit des Algorithmus an.  \n",
    "\n",
    "Als erstes schreiben wir uns eine Funktion, die uns zufällige Listen der Grösse $n$ erstellt"
   ]
  },
  {
   "cell_type": "code",
   "execution_count": null,
   "metadata": {},
   "outputs": [],
   "source": [
    "import random\n",
    "\n",
    "random.seed(a=42)\n",
    "\n",
    "def generateData(n, min=0, max=int(10e8)):\n",
    "    return random.sample(range(min, max), n)"
   ]
  },
  {
   "cell_type": "markdown",
   "metadata": {},
   "source": [
    "Wie wir sehen, führt jeder Aufruf zu einer neuen, unsortierten  Liste:"
   ]
  },
  {
   "cell_type": "code",
   "execution_count": null,
   "metadata": {},
   "outputs": [],
   "source": [
    "print(generateData(5))\n",
    "print(generateData(5))"
   ]
  },
  {
   "cell_type": "markdown",
   "metadata": {},
   "source": [
    "Um die Laufzeit zu messen, nutzen wir das timing Utility ```timeit``` von Python"
   ]
  },
  {
   "cell_type": "code",
   "execution_count": null,
   "metadata": {},
   "outputs": [],
   "source": [
    "from timeit import timeit"
   ]
  },
  {
   "cell_type": "markdown",
   "metadata": {},
   "source": [
    "Wir erstellen zufällige Listen der grösse $10^3, 10^4, ..., 10^7$ und merken uns die Laufzeit"
   ]
  },
  {
   "cell_type": "code",
   "execution_count": null,
   "metadata": {},
   "outputs": [],
   "source": [
    "runTime = []\n",
    "\n",
    "ns = [10**n for n in range(3, 7)]\n",
    "for n in ns:\n",
    "    xs  = generateData(n)\n",
    "    runTime.append(timeit(lambda: sortList(xs), number = 10))\n",
    "    "
   ]
  },
  {
   "cell_type": "markdown",
   "metadata": {},
   "source": [
    "Nun plotten wir die Laufzeit, und vergleichen diese jeweils mit einer Funktion der Ordnung $O(n)$ und einer mit Ordnung $O(n \\log_2 n)$."
   ]
  },
  {
   "cell_type": "code",
   "execution_count": null,
   "metadata": {},
   "outputs": [],
   "source": [
    "import matplotlib\n",
    "import matplotlib.pyplot as plt\n",
    "import math"
   ]
  },
  {
   "cell_type": "code",
   "execution_count": null,
   "metadata": {},
   "outputs": [],
   "source": [
    "plt.plot(ns, runTime, label = 'our sort')\n",
    "logValues = [ 0.0000015 * n * math.log(n, 2)  for n in ns]\n",
    "plt.plot(ns, logValues, label = 'O(n log n)')\n",
    "linValues = [ 0.0000015 * n  for n in ns]\n",
    "plt.plot(ns, linValues, label = 'O(n)')\n",
    "plt.legend()"
   ]
  },
  {
   "cell_type": "markdown",
   "metadata": {},
   "source": [
    "Wir sehen empirisch, dass die Laufzeit unseres Algorithmus $O(n \\log_2 n)$ ist."
   ]
  }
 ],
 "metadata": {
  "kernelspec": {
   "display_name": "Python 3",
   "language": "python",
   "name": "python3"
  },
  "language_info": {
   "codemirror_mode": {
    "name": "ipython",
    "version": 3
   },
   "file_extension": ".py",
   "mimetype": "text/x-python",
   "name": "python",
   "nbconvert_exporter": "python",
   "pygments_lexer": "ipython3",
   "version": "3.6.7"
  }
 },
 "nbformat": 4,
 "nbformat_minor": 2
}
