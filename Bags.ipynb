{
 "cells": [
  {
   "cell_type": "markdown",
   "metadata": {},
   "source": [
    "# Bags"
   ]
  },
  {
   "cell_type": "markdown",
   "metadata": {},
   "source": [
    "## Implementation"
   ]
  },
  {
   "cell_type": "markdown",
   "metadata": {},
   "source": [
    "Die folgende Klasse zeigt die einfachste Implementation einer Multimengen (Bag). Zur Datenhaltung wir eine Python Liste, die einem dynamischen (vergrösser/verkleinerbarem) Array entspricht."
   ]
  },
  {
   "cell_type": "code",
   "execution_count": 9,
   "metadata": {
    "collapsed": false
   },
   "outputs": [],
   "source": [
    "class Bag:\n",
    "        \n",
    "    def __init__(self):\n",
    "        self._data = []\n",
    "    \n",
    "        \n",
    "    def add(self, item):\n",
    "        self._data.append(item)\n",
    "        \n",
    "    def size(self):\n",
    "        return len(self._data)\n",
    "    \n",
    "    def isEmpty(self):\n",
    "        return self.size() == 0\n",
    "    \n",
    "    class Iterator:\n",
    "        \n",
    "        def __init__(self, bag):\n",
    "            self._currentItem = 0\n",
    "            self.bag = bag\n",
    "        \n",
    "        def hasNext(self):    \n",
    "            return (self._currentItem < self.bag.size())\n",
    "    \n",
    "        def next(self):\n",
    "            item = self.bag._data[self._currentItem]\n",
    "            self._currentItem += 1\n",
    "            return item        \n",
    "\n",
    "        \n",
    "    def iterator(self):\n",
    "        return Bag.Iterator(self)        \n"
   ]
  },
  {
   "cell_type": "markdown",
   "metadata": {},
   "source": [
    "## Client"
   ]
  },
  {
   "cell_type": "markdown",
   "metadata": {},
   "source": [
    "Bags sind immer dann sinnvoll, wenn die Reihenfolge der Elemente für eine Berechnung nicht relevant sind. Ein typisches Beispiel ist die Berechnung von Mittelwert und Varianz in einem Datensatz."
   ]
  },
  {
   "cell_type": "markdown",
   "metadata": {},
   "source": [
    "Damit wir auch wissen ob unsere Berechnungen funktionieren, kreieren wir Testdaten mit einem bekanntem Mittelwert und Varianz. Die einfachste Variante ist, diese einfach zufällig von der Normalverteilung zu samplen."
   ]
  },
  {
   "cell_type": "code",
   "execution_count": 31,
   "metadata": {
    "collapsed": false
   },
   "outputs": [],
   "source": [
    "from random import gauss\n",
    "rng = testdata = [gauss(1.0, 4) for _ in range(1000)]\n"
   ]
  },
  {
   "cell_type": "markdown",
   "metadata": {},
   "source": [
    "Als erstes fügen wir die Testdaten ein:"
   ]
  },
  {
   "cell_type": "code",
   "execution_count": 32,
   "metadata": {
    "collapsed": false
   },
   "outputs": [],
   "source": [
    "b = Bag()\n",
    "for t in testdata:\n",
    "    b.add(t)\n"
   ]
  },
  {
   "cell_type": "markdown",
   "metadata": {},
   "source": [
    "Dann berechnen wir den mean. Wie benutzen dazu den Iterator."
   ]
  },
  {
   "cell_type": "code",
   "execution_count": 33,
   "metadata": {
    "collapsed": false
   },
   "outputs": [],
   "source": [
    "sum = 0.0\n",
    "it = b.iterator()\n",
    "while it.hasNext():\n",
    "   sum += it.next()\n",
    "mean = sum / b.size()"
   ]
  },
  {
   "cell_type": "markdown",
   "metadata": {},
   "source": [
    "Und schlussendlich können wir die Varianz berechnen. Beachten Sie, dass wir dazu einen neuen Iterator erstellen müssen, damit wir wieder durch den ganzen Bag durchlaufen. "
   ]
  },
  {
   "cell_type": "code",
   "execution_count": 34,
   "metadata": {
    "collapsed": false
   },
   "outputs": [],
   "source": [
    "\n",
    "from math import sqrt\n",
    "\n",
    "squaredDeviation = 0.0\n",
    "it = b.iterator()\n",
    "while (it.hasNext()):\n",
    "    v = it.next();\n",
    "    squaredDeviation += (v - mean) * (v - mean)\n",
    "var = sqrt(squaredDeviation / b.size())\n"
   ]
  },
  {
   "cell_type": "code",
   "execution_count": 35,
   "metadata": {
    "collapsed": false
   },
   "outputs": [
    {
     "name": "stdout",
     "output_type": "stream",
     "text": [
      "mean 1.041776, variance : 4.112281\n"
     ]
    }
   ],
   "source": [
    "print(\"mean %f, variance : %f\"%(mean, var))"
   ]
  },
  {
   "cell_type": "code",
   "execution_count": null,
   "metadata": {
    "collapsed": true
   },
   "outputs": [],
   "source": []
  }
 ],
 "metadata": {
  "anaconda-cloud": {},
  "kernelspec": {
   "display_name": "Python [Root]",
   "language": "python",
   "name": "Python [Root]"
  },
  "language_info": {
   "codemirror_mode": {
    "name": "ipython",
    "version": 3
   },
   "file_extension": ".py",
   "mimetype": "text/x-python",
   "name": "python",
   "nbconvert_exporter": "python",
   "pygments_lexer": "ipython3",
   "version": "3.5.2"
  }
 },
 "nbformat": 4,
 "nbformat_minor": 0
}
