{
 "cells": [
  {
   "cell_type": "markdown",
   "metadata": {
    "nbpresent": {
     "id": "8246d602-1db9-4794-b0fa-38d464de48c5"
    }
   },
   "source": [
    "# Kompression"
   ]
  },
  {
   "cell_type": "markdown",
   "metadata": {},
   "source": [
    "## Utility Klassen"
   ]
  },
  {
   "cell_type": "markdown",
   "metadata": {},
   "source": [
    "Wir beginnen mit einigen Klassen, die wir in früheren Notebooks eingeführt haben, in diesem Zusammenhang aber wieder brauchen. "
   ]
  },
  {
   "cell_type": "code",
   "execution_count": null,
   "metadata": {},
   "outputs": [],
   "source": [
    "class Alphabet:\n",
    "    \n",
    "    def __init__(self, chars):\n",
    "        self._inverse = [None]*len(chars)\n",
    "        \n",
    "        self._alphabet=dict()\n",
    "        for (i, c) in enumerate(chars):\n",
    "            self._alphabet[c] = i\n",
    "            self._inverse[i] = c\n",
    "    \n",
    "    def toChar(self, index):\n",
    "        return self._inverse[index]\n",
    "        \n",
    "    def toIndex(self, char):\n",
    "        return self._alphabet[char]\n",
    "    \n",
    "    def contains(self, char):\n",
    "        return self._alphabet.contains(char)\n",
    "        \n",
    "    def radix(self):\n",
    "        return len(self._inverse)\n",
    "    \n",
    "lowercase = Alphabet(\"abcdefghijklmnopqrstuvwxyz\")\n",
    "uppercase = Alphabet(\"ABCDEFGHIJKLMNOPQRSTUVWXYZ\")\n",
    "ascii = Alphabet([chr(i) for i in range(0, 128)])\n",
    "extendedAscii = Alphabet([chr(i) for i in range(0, 256)])\n",
    "DNA = Alphabet(\"ACGT\")  "
   ]
  },
  {
   "cell_type": "code",
   "execution_count": null,
   "metadata": {},
   "outputs": [],
   "source": [
    "from graphviz import Graph\n",
    "\n",
    "def plotTrie(root):\n",
    "    dot = Graph(comment='Tree')\n",
    "    _plotTrie(root, None, dot, '')\n",
    "    display(dot)\n",
    "\n",
    "def _plotTrie(node, parent, dot, edgeLabel):                         \n",
    "    if node == None:        \n",
    "        return \n",
    "\n",
    "    if node.char != None:\n",
    "        dot.node(str(id(node)), str(node.char))\n",
    "    else:\n",
    "        dot.node(str(id(node)), \"\")\n",
    "        \n",
    "    if parent != None:\n",
    "        dot.edge(str(id(parent)), str(id(node)), edgeLabel)    \n",
    "    \n",
    "    _plotTrie(node.left, node, dot, '0')\n",
    "    _plotTrie(node.right, node, dot, '1')\n",
    "\n",
    "        "
   ]
  },
  {
   "cell_type": "markdown",
   "metadata": {
    "nbpresent": {
     "id": "3c87e639-1e29-4d10-9214-6458eb9f301e"
    }
   },
   "source": [
    "\n",
    "## Binärer Input  / Output"
   ]
  },
  {
   "cell_type": "markdown",
   "metadata": {},
   "source": [
    "Als nächstes führen wir die Klasse ```BinaryStream``` ein, die uns erlaubt Zeichen und Zahlen als Binärstream zu schreiben. Intern verwenden wir dafür eine Queue (deque in Python) von Booleans. "
   ]
  },
  {
   "cell_type": "code",
   "execution_count": null,
   "metadata": {
    "nbpresent": {
     "id": "ddfc179f-0d31-4c59-b0fd-3f61d5ad803b"
    }
   },
   "outputs": [],
   "source": [
    "from collections import deque\n",
    "class BinaryStream:\n",
    "    def __init__(self):\n",
    "        self._data = deque()\n",
    "        self._alphabet = extendedAscii\n",
    "    \n",
    "    def writeBit(self, b):\n",
    "        if bool(b):\n",
    "            self._data.append(\"1\")\n",
    "        else:\n",
    "            self._data.append(\"0\")\n",
    "        \n",
    "    def writeChar(self, c):\n",
    "        self.writeNBitNumber(self._alphabet.toIndex(c), 8)\n",
    "        \n",
    "    def writeString(self, s):\n",
    "        for c in s:\n",
    "            self.writeChar(c)\n",
    "      \n",
    "    def writeNBitNumber(self, number, numBits):\n",
    "        bitString = '{0:0>{n}b}'.format(number, n = numBits)\n",
    "        for b in bitString:\n",
    "            self.writeBit(b == \"1\")\n",
    "\n",
    "    def writeInt(self, number):\n",
    "        self.writeNBitNumber(number, 32)\n",
    "\n",
    "    def readBit(self):\n",
    "        return self._data.popleft() == \"1\"\n",
    "    \n",
    "      \n",
    "    def readChar(self):\n",
    "        return self._alphabet.toChar(self.readNBitNumber(8))\n",
    "    \n",
    "    \n",
    "    def readString(self, nChars = -1):\n",
    "        s = \"\"\n",
    "        numRead = nChars if nChars != -1 else len(self._data)\n",
    "        while numRead < nChars and not self.isEmpty():\n",
    "            s += self.readChar()\n",
    "            numRead += 1\n",
    "        return s\n",
    "          \n",
    "    def readNBitNumber(self, numBits):\n",
    "        number = 0\n",
    "        for i in range(numBits, 0, -1):\n",
    "            if self.readBit() == True:\n",
    "                number += 2**(i-1)\n",
    "        return number\n",
    "    \n",
    "    def readInt(self):\n",
    "        return self.readNBitNumber(32)\n",
    "    \n",
    "    def isEmpty(self):\n",
    "        return self.length() == 0\n",
    "    \n",
    "    def length(self):\n",
    "        return len(self._data)\n",
    "    \n",
    "    def __str__(self):\n",
    "        s = \"\"\n",
    "        for c in self._data:\n",
    "            s += c        \n",
    "        return s\n",
    "    \n",
    "    def asHexString(self):\n",
    "        if self.isEmpty():\n",
    "            return \"\"\n",
    "        else:\n",
    "            return hex(int(str(self), 2))\n",
    "    \n",
    "    def __iter__(self):\n",
    "        for b in self._data:\n",
    "            yield b == \"1\"\n"
   ]
  },
  {
   "cell_type": "markdown",
   "metadata": {},
   "source": [
    "## Beispiel: Codieren des Datums"
   ]
  },
  {
   "cell_type": "markdown",
   "metadata": {},
   "source": [
    "Im Folgenden codieren wir ein Datum auf drei verschiedene Arten. Wir verwenden dabei unsere Bitstream Klasse. Dabei sehen wir auch, wie sich der verwendete Code auf die Länge eines Bitstreams auswirkt."
   ]
  },
  {
   "cell_type": "markdown",
   "metadata": {},
   "source": [
    "Als erstes codieren wir das Datum als String."
   ]
  },
  {
   "cell_type": "code",
   "execution_count": null,
   "metadata": {
    "nbpresent": {
     "id": "fe8c2b84-ddb6-457f-9c07-12ef7bc79b8c"
    }
   },
   "outputs": [],
   "source": [
    "b = BinaryStream()\n",
    "\n",
    "# codieren\n",
    "for c in \"09.12.2018\":\n",
    "    b.writeChar(c)\n",
    "print(\"Bitstream: \", b)\n",
    "print(\"Länge: \", b.length())\n",
    "\n",
    "# decodieren\n",
    "while not b.isEmpty():\n",
    "    print(b.readChar(), end=\"\")\n",
    "print()\n"
   ]
  },
  {
   "cell_type": "markdown",
   "metadata": {},
   "source": [
    "Eine weitere Variante wäre, Tag, Monat und Jahr jeweils als Integer zu speichern. "
   ]
  },
  {
   "cell_type": "code",
   "execution_count": null,
   "metadata": {
    "nbpresent": {
     "id": "b5fac886-128d-4985-8f86-639eb2da890e"
    }
   },
   "outputs": [],
   "source": [
    "b = BinaryStream()\n",
    "\n",
    "# codieren\n",
    "b.writeInt(9)\n",
    "b.writeInt(12)\n",
    "b.writeInt(2018)\n",
    "\n",
    "print(\"Bitstream\", b)\n",
    "print(\"Länge\", b.length())\n",
    "\n",
    "# decodieren\n",
    "print(b.readInt(), b.readInt(), b.readInt())"
   ]
  },
  {
   "cell_type": "markdown",
   "metadata": {},
   "source": [
    "In der letzten Variante, die auch die effizienteste ist, codieren wir Tag/Monat/Jahr mit nur jeweils sovielen Bits wie dafür benötigt werden."
   ]
  },
  {
   "cell_type": "code",
   "execution_count": null,
   "metadata": {},
   "outputs": [],
   "source": [
    "b = BinaryStream()\n",
    "\n",
    "# codieren\n",
    "b.writeNBitNumber(9, 5)\n",
    "b.writeNBitNumber(12, 4)\n",
    "b.writeNBitNumber(2018, 11)\n",
    "\n",
    "print(\"Bitstream: \", b)\n",
    "print(\"Länge: \", b.length())\n",
    "\n",
    "# decodieren\n",
    "print(b.readNBitNumber(5), b.readNBitNumber(4), b.readNBitNumber(11))\n"
   ]
  },
  {
   "cell_type": "markdown",
   "metadata": {
    "nbpresent": {
     "id": "32dd7c32-585b-4d11-a1c1-4d11337df120"
    }
   },
   "source": [
    "## Lauflängen Codierung"
   ]
  },
  {
   "cell_type": "markdown",
   "metadata": {},
   "source": [
    "Die erste, einfachste Art der Komprimierung ist die Lauflängen Codierung. \n",
    "Dieser Code ist vor allem dann nützlich, wenn wir lange Sequenzen von aufeinanderfolgenden 0 oder 1 haben. \n",
    "Als Testbeispiel generieren wir einen Bitstring, der aus 100 0 gefolgt von 50 1 besteht. "
   ]
  },
  {
   "cell_type": "code",
   "execution_count": null,
   "metadata": {
    "nbpresent": {
     "id": "9ad9e470-cbd1-47a2-a55a-a7d4d0ec262b"
    }
   },
   "outputs": [],
   "source": [
    "testStream = BinaryStream()\n",
    "for _ in range(0, 100):\n",
    "    testStream.writeBit(False)\n",
    "for _ in range(0, 50):\n",
    "    testStream.writeBit(True)\n",
    "print(testStream)"
   ]
  },
  {
   "cell_type": "markdown",
   "metadata": {},
   "source": [
    "Die Kompressionsfunktion ersetzt dann jede Sequenz von 0 und 1 durch die entsprende Anzahl."
   ]
  },
  {
   "cell_type": "code",
   "execution_count": null,
   "metadata": {
    "nbpresent": {
     "id": "62dc1e04-fbed-4525-898e-b76508c7d84b"
    }
   },
   "outputs": [],
   "source": [
    "def compress(stream):\n",
    "    compressedStream = BinaryStream()\n",
    "    old = False\n",
    "    count = 0 \n",
    "    for b in stream:\n",
    "        if b != old:\n",
    "            compressedStream.writeNBitNumber(count, 8)\n",
    "            count = 0\n",
    "            old = not old\n",
    "        else:\n",
    "            if count == 255:\n",
    "                compressedStream.writeNBitNumber(255, 8)\n",
    "                count = 0\n",
    "                compressedStream.writeNBitNumber(0, 8) # dummy count of length 0 to indicate bit switch\n",
    "        count += 1\n",
    "    compressedStream.writeNBitNumber(count, 8) \n",
    "    return compressedStream\n",
    "        "
   ]
  },
  {
   "cell_type": "markdown",
   "metadata": {},
   "source": [
    "Wenn wir diese Funktion auf unseren Bitstring aufrufen, sehen wir, dass dieser stark komprimiert ist. "
   ]
  },
  {
   "cell_type": "code",
   "execution_count": null,
   "metadata": {
    "nbpresent": {
     "id": "862a38dc-c823-4a06-8290-c478f8df01ab"
    }
   },
   "outputs": [],
   "source": [
    "compressedStream = compress(testStream)\n",
    "print(compressedStream)\n",
    "print(\"Länge: \", compressedStream.length())"
   ]
  },
  {
   "cell_type": "markdown",
   "metadata": {},
   "source": [
    "Natürlich können wir diesen auch wieder entpacken. "
   ]
  },
  {
   "cell_type": "code",
   "execution_count": null,
   "metadata": {
    "nbpresent": {
     "id": "4416d298-0c15-46cc-a28e-b46f625c15bd"
    }
   },
   "outputs": [],
   "source": [
    "def expand(compressedStream):\n",
    "    stream = BinaryStream()\n",
    "    b = False\n",
    "    while not compressedStream.isEmpty():\n",
    "        c = compressedStream.readNBitNumber(8)\n",
    "        for i in range(0, c):\n",
    "            stream.writeBit(b)\n",
    "        b = not b\n",
    "    return stream\n",
    "            "
   ]
  },
  {
   "cell_type": "code",
   "execution_count": null,
   "metadata": {},
   "outputs": [],
   "source": [
    "print(expand(compressedStream))"
   ]
  },
  {
   "cell_type": "markdown",
   "metadata": {
    "collapsed": true
   },
   "source": [
    "# Huffman"
   ]
  },
  {
   "cell_type": "markdown",
   "metadata": {},
   "source": [
    "Bei der Huffman Codierung wird der Code dynamisch, basierend auf der Häufigkeit der einzelnen Buchstaben, aufgebaut. Dies passiert mit Hilfe eines binären Tries. Da wir diesen nur intern verwenden, implementieren wir diesen direkt als verkettete Datenstruktur von Nodes, die wie folgt definiert sind:"
   ]
  },
  {
   "cell_type": "code",
   "execution_count": null,
   "metadata": {},
   "outputs": [],
   "source": [
    "class Node:\n",
    "    def __init__(self, char, frequency, left, right):\n",
    "        self.left = left\n",
    "        self.right = right\n",
    "        self.char = char\n",
    "        self.frequency = frequency\n",
    "        \n",
    "    # Vergleichsmethode, wird gebraucht da wir die Nodes in einer \n",
    "    # Priorityqueue, basierend auf der Frequenz, speichern wollen.\n",
    "    def __lt__(self, rhs):\n",
    "        return self.frequency < rhs.frequency\n",
    "        \n",
    "    def __str__(self):\n",
    "        return str((self.char, self.frequency))"
   ]
  },
  {
   "cell_type": "markdown",
   "metadata": {},
   "source": [
    "Die Funktion buildTrie bestimmt die Auftrittshäufigkeit von jedem Buchstaben und baut basierend darauf den Trie auf."
   ]
  },
  {
   "cell_type": "code",
   "execution_count": null,
   "metadata": {},
   "outputs": [],
   "source": [
    "import heapq \n",
    "\n",
    "def buildTrie(alphabet, message):\n",
    "    freqs = [0] * alphabet.radix()\n",
    "    \n",
    "    for c in message:\n",
    "        freqs[alphabet.toIndex(c)] += 1\n",
    "\n",
    "    pq = []\n",
    "    for i in range(0, alphabet.radix()):\n",
    "        if freqs[i] > 0:\n",
    "            heapq.heappush(pq, Node(alphabet.toChar(i), freqs[i], None, None))\n",
    "    heapq.heapify(pq)\n",
    "    while len(pq) > 1:    \n",
    "        n1 = heapq.heappop(pq)\n",
    "        n2 = heapq.heappop(pq)\n",
    "        \n",
    "        heapq.heappush(pq, Node(None, n1.frequency + n2.frequency, n1, n2))\n",
    "    return pq[0]\n"
   ]
  },
  {
   "cell_type": "code",
   "execution_count": null,
   "metadata": {},
   "outputs": [],
   "source": [
    "codeTrie = buildTrie(ascii, \"she sells sea shells by the sea\")\n",
    "plotTrie(codeTrie)"
   ]
  },
  {
   "cell_type": "markdown",
   "metadata": {},
   "source": [
    "Basierend auf dem Trie erhalten wir nun einfach den Code für jeden Buchstaben."
   ]
  },
  {
   "cell_type": "code",
   "execution_count": null,
   "metadata": {},
   "outputs": [],
   "source": [
    "def buildCode(root):\n",
    "    st = dict(); \n",
    "    _buildCode(st, root, \"\")\n",
    "    return st;\n",
    "\n",
    "def _buildCode(st, node, code):\n",
    "    if node.left == None and node.right == None: # Wir sind an einem Blatt\n",
    "        st[node.char] = code\n",
    "        return; \n",
    "    \n",
    "    _buildCode(st, node.left,  code + '0') \n",
    "    _buildCode(st, node.right, code + '1')\n"
   ]
  },
  {
   "cell_type": "code",
   "execution_count": null,
   "metadata": {},
   "outputs": [],
   "source": [
    "codeTable = buildCode(codeTrie)\n",
    "print(codeTable)"
   ]
  },
  {
   "cell_type": "markdown",
   "metadata": {},
   "source": [
    "Nachdem wir nun die Codetabelle haben, ist es auch kein Problem mehr eine Nachricht zu codieren. "
   ]
  },
  {
   "cell_type": "code",
   "execution_count": null,
   "metadata": {},
   "outputs": [],
   "source": [
    "def compressWithCode(codeTable, message, bitstream):\n",
    "    for c in message:\n",
    "        code = codeTable[c]\n",
    "        for b in code:\n",
    "            bitstream.writeBit(True if b == '1' else False)\n",
    "    return\n",
    "        "
   ]
  },
  {
   "cell_type": "code",
   "execution_count": null,
   "metadata": {},
   "outputs": [],
   "source": [
    "bitString = BinaryStream()\n",
    "compressWithCode(codeTable, \"she sells sea shells by the sea\", bitString)\n",
    "print(bitString)"
   ]
  },
  {
   "cell_type": "markdown",
   "metadata": {},
   "source": [
    "Gleich einfach ist es, diesen Code wieder zu entpacken. Wir folgen einfach den Zeichen im Trie"
   ]
  },
  {
   "cell_type": "code",
   "execution_count": null,
   "metadata": {},
   "outputs": [],
   "source": [
    "def expandWithCode(codeTrie, bitstring):\n",
    "    s = \"\"\n",
    "    while not bitstring.isEmpty():\n",
    "        x = codeTrie;       \n",
    "        while x.left != None or x.right != None: # noch nicht am Blatt\n",
    "            b = bitstring.readBit()\n",
    "            if b == True:\n",
    "                x = x.right;          \n",
    "            else:\n",
    "                x = x.left;       \n",
    "        # an Blatt\n",
    "        s = s + x.char\n",
    "    return s"
   ]
  },
  {
   "cell_type": "code",
   "execution_count": null,
   "metadata": {},
   "outputs": [],
   "source": [
    "expandWithCode(codeTrie, bitString)"
   ]
  },
  {
   "cell_type": "markdown",
   "metadata": {},
   "source": [
    "#### Trie schreiben und lesen"
   ]
  },
  {
   "cell_type": "markdown",
   "metadata": {},
   "source": [
    "Nachdem wir nun einen String komprimieren und dekomprimieren können, gibt es nur noch ein Problem zu lösen. Wie kommt der Trie mit den Codes zum Empfänger."
   ]
  },
  {
   "cell_type": "markdown",
   "metadata": {},
   "source": [
    "Die folgende Methode schreibt einen Trie als Bitstream"
   ]
  },
  {
   "cell_type": "code",
   "execution_count": null,
   "metadata": {},
   "outputs": [],
   "source": [
    "def writeTrie(node, bitstream):\n",
    "    \n",
    "    if node.left == None and node.right == None:\n",
    "        bitstream.writeBit(True)\n",
    "        bitstream.writeChar(node.char)\n",
    "        return; \n",
    "    \n",
    "    bitstream.writeBit(False) \n",
    "    writeTrie(node.left, bitstream) \n",
    "    writeTrie(node.right, bitstream)"
   ]
  },
  {
   "cell_type": "code",
   "execution_count": null,
   "metadata": {},
   "outputs": [],
   "source": [
    "bsForTrie = BinaryStream()\n",
    "writeTrie(codeTrie, bsForTrie)\n",
    "print(bsForTrie)\n"
   ]
  },
  {
   "cell_type": "markdown",
   "metadata": {},
   "source": [
    "Die Methode zum lesen ist sogar noch einfacher (*zu schreiben, aber nicht zu verstehen*)."
   ]
  },
  {
   "cell_type": "code",
   "execution_count": null,
   "metadata": {},
   "outputs": [],
   "source": [
    "def readTrie(bitstream): \n",
    "    if bitstream.readBit() == True:\n",
    "        c = bitstream.readChar()\n",
    "        return Node(c, 0, None, None); \n",
    "    return Node(None, 0, readTrie(bitstream), readTrie(bitstream))"
   ]
  },
  {
   "cell_type": "code",
   "execution_count": null,
   "metadata": {},
   "outputs": [],
   "source": [
    "plotTrie(readTrie(bsForTrie))"
   ]
  },
  {
   "cell_type": "markdown",
   "metadata": {},
   "source": [
    "Zusammenfassend, kann man die Methode zum Komprimieren und Dekomprimieren eines Strings wie folgt schreiben"
   ]
  },
  {
   "cell_type": "code",
   "execution_count": null,
   "metadata": {},
   "outputs": [],
   "source": [
    "def compress(message):\n",
    "    bs = BinaryStream()\n",
    "    codeTrie = buildTrie(ascii, message)\n",
    "    codeST = buildCode(codeTrie)\n",
    "    writeTrie(codeTrie, bs)\n",
    "    compressWithCode(codeST, message, bs)\n",
    "    return bs"
   ]
  },
  {
   "cell_type": "code",
   "execution_count": null,
   "metadata": {},
   "outputs": [],
   "source": [
    "def expand(bs):\n",
    "    codeTrie = readTrie(bs)\n",
    "    return expandWithCode(codeTrie, bs)"
   ]
  },
  {
   "cell_type": "code",
   "execution_count": null,
   "metadata": {},
   "outputs": [],
   "source": [
    "bs = compress(\"she sells sea shells by the sea\")\n",
    "print(\"Bitstream: \", bs)\n",
    "print(\"Länge\", bs.length())\n",
    "print(\"dekomprimiert: \", expand(bs))"
   ]
  }
 ],
 "metadata": {
  "anaconda-cloud": {},
  "kernelspec": {
   "display_name": "Python 3",
   "language": "python",
   "name": "python3"
  },
  "language_info": {
   "codemirror_mode": {
    "name": "ipython",
    "version": 3
   },
   "file_extension": ".py",
   "mimetype": "text/x-python",
   "name": "python",
   "nbconvert_exporter": "python",
   "pygments_lexer": "ipython3",
   "version": "3.6.7"
  },
  "nbpresent": {
   "slides": {
    "16e765a7-c417-4f31-ba22-d4ee0697d817": {
     "id": "16e765a7-c417-4f31-ba22-d4ee0697d817",
     "prev": "56e8865d-4965-410d-9cd9-21b353347394",
     "regions": {
      "cab0b402-96ad-40b4-9a21-c5c9427483e3": {
       "attrs": {
        "height": 0.4,
        "width": 0.8,
        "x": 0.1,
        "y": 0.5
       },
       "content": {
        "cell": "4e2f4020-c9bd-4121-8a81-90fc7b03313e",
        "part": "whole"
       },
       "id": "cab0b402-96ad-40b4-9a21-c5c9427483e3"
      },
      "fc4e86e3-972f-4208-a3d0-2bb330aea762": {
       "attrs": {
        "height": 0.8,
        "width": 0.8,
        "x": 0.1,
        "y": 0.1
       },
       "content": {
        "cell": "3eac9401-d57d-49e0-8cf0-7df5b2c004f4",
        "part": "whole"
       },
       "id": "fc4e86e3-972f-4208-a3d0-2bb330aea762"
      }
     }
    },
    "56e8865d-4965-410d-9cd9-21b353347394": {
     "id": "56e8865d-4965-410d-9cd9-21b353347394",
     "prev": "9260c278-ac7d-4fb4-a771-9d0867b58d73",
     "regions": {
      "2279f202-5c89-42a5-bba0-0ffeab692f4f": {
       "attrs": {
        "height": 0.8,
        "width": 0.45,
        "x": 0.5,
        "y": 0.1
       },
       "id": "2279f202-5c89-42a5-bba0-0ffeab692f4f"
      },
      "ff4398f0-5afa-4bd1-868b-9176da2a36c5": {
       "attrs": {
        "height": 0.8,
        "width": 0.45,
        "x": 0.05,
        "y": 0.1
       },
       "id": "ff4398f0-5afa-4bd1-868b-9176da2a36c5"
      }
     }
    },
    "59278b8f-bf67-4d3f-a43a-76c9a436b604": {
     "id": "59278b8f-bf67-4d3f-a43a-76c9a436b604",
     "prev": "16e765a7-c417-4f31-ba22-d4ee0697d817",
     "regions": {
      "267bf344-d39d-4d57-a0a5-9bbe6b6f1009": {
       "attrs": {
        "height": 0.8,
        "width": 0.45,
        "x": 0.5,
        "y": 0.1
       },
       "content": {
        "cell": "50435706-ccdf-46d8-a24a-d5b35ec77c8b",
        "part": "whole"
       },
       "id": "267bf344-d39d-4d57-a0a5-9bbe6b6f1009"
      },
      "5cc40c13-63d6-40c8-b79d-49471531d71b": {
       "attrs": {
        "height": 0.8,
        "width": 0.45,
        "x": 0.05,
        "y": 0.1
       },
       "content": {
        "cell": "50435706-ccdf-46d8-a24a-d5b35ec77c8b",
        "part": "outputs"
       },
       "id": "5cc40c13-63d6-40c8-b79d-49471531d71b"
      }
     }
    },
    "9260c278-ac7d-4fb4-a771-9d0867b58d73": {
     "id": "9260c278-ac7d-4fb4-a771-9d0867b58d73",
     "prev": null,
     "regions": {
      "02fc47e1-7de3-4336-a3b8-a60ddd571d6a": {
       "attrs": {
        "height": 0.4,
        "width": 0.8,
        "x": 0.1,
        "y": 0.5
       },
       "content": {
        "cell": "862a38dc-c823-4a06-8290-c478f8df01ab",
        "part": "whole"
       },
       "id": "02fc47e1-7de3-4336-a3b8-a60ddd571d6a"
      },
      "2a0eac24-1c87-4487-92d3-8c251aae0dff": {
       "attrs": {
        "height": 0.4,
        "width": 0.8,
        "x": 0.1,
        "y": 0.5
       },
       "content": {
        "cell": "3c87e639-1e29-4d10-9214-6458eb9f301e",
        "part": "whole"
       },
       "id": "2a0eac24-1c87-4487-92d3-8c251aae0dff"
      },
      "47f9a3fb-6c55-4ba8-92b6-b5e155f62a2e": {
       "attrs": {
        "height": 0.4,
        "width": 0.8,
        "x": 0.1,
        "y": 0.5
       },
       "content": {
        "cell": "32dd7c32-585b-4d11-a1c1-4d11337df120",
        "part": "whole"
       },
       "id": "47f9a3fb-6c55-4ba8-92b6-b5e155f62a2e"
      },
      "48959fe8-1c4b-4da2-8ce4-b3a44ab26c28": {
       "attrs": {
        "height": 0.4,
        "width": 0.8,
        "x": 0.1,
        "y": 0.5
       },
       "content": {
        "cell": "fe8c2b84-ddb6-457f-9c07-12ef7bc79b8c",
        "part": "whole"
       },
       "id": "48959fe8-1c4b-4da2-8ce4-b3a44ab26c28"
      },
      "4f94d69a-a2bb-40a4-8ad2-f0163e24dae6": {
       "attrs": {
        "height": 0.4,
        "width": 0.8,
        "x": 0.1,
        "y": 0.5
       },
       "content": {
        "cell": "62dc1e04-fbed-4525-898e-b76508c7d84b",
        "part": "whole"
       },
       "id": "4f94d69a-a2bb-40a4-8ad2-f0163e24dae6"
      },
      "5c06ac69-7771-4390-ab98-2f58d315c446": {
       "attrs": {
        "height": 0.4,
        "width": 0.8,
        "x": 0.1,
        "y": 0.5
       },
       "content": {
        "cell": "4416d298-0c15-46cc-a28e-b46f625c15bd",
        "part": "whole"
       },
       "id": "5c06ac69-7771-4390-ab98-2f58d315c446"
      },
      "62ebed76-84af-4b64-b0cc-a51af40fb3dd": {
       "attrs": {
        "height": 0.8,
        "width": 0.8,
        "x": 0.1,
        "y": 0.1
       },
       "content": {
        "cell": "8246d602-1db9-4794-b0fa-38d464de48c5",
        "part": "whole"
       },
       "id": "62ebed76-84af-4b64-b0cc-a51af40fb3dd"
      },
      "649d8ad0-f086-41ba-8056-27b4f4e69e18": {
       "attrs": {
        "height": 0.4,
        "width": 0.8,
        "x": 0.1,
        "y": 0.5
       },
       "content": {
        "cell": "50435706-ccdf-46d8-a24a-d5b35ec77c8b",
        "part": "whole"
       },
       "id": "649d8ad0-f086-41ba-8056-27b4f4e69e18"
      },
      "85a99dc1-14dd-4cb6-be72-3763cac120f4": {
       "attrs": {
        "height": 0.4,
        "width": 0.8,
        "x": 0.1,
        "y": 0.5
       },
       "content": {
        "cell": "ddfc179f-0d31-4c59-b0fd-3f61d5ad803b",
        "part": "whole"
       },
       "id": "85a99dc1-14dd-4cb6-be72-3763cac120f4"
      },
      "c4845a67-24b6-4e94-9e3f-df042bc2f031": {
       "attrs": {
        "height": 0.4,
        "width": 0.8,
        "x": 0.1,
        "y": 0.5
       },
       "content": {
        "cell": "c9e7ba8d-93b8-4786-bd00-62facd5f6ada",
        "part": "whole"
       },
       "id": "c4845a67-24b6-4e94-9e3f-df042bc2f031"
      },
      "ca268813-b594-49ec-8675-5f7f59ef4ec0": {
       "attrs": {
        "height": 0.4,
        "width": 0.8,
        "x": 0.1,
        "y": 0.5
       },
       "content": {
        "cell": "bd9c6448-632e-4746-bcfd-6f98a53697af",
        "part": "whole"
       },
       "id": "ca268813-b594-49ec-8675-5f7f59ef4ec0"
      },
      "d02fdf96-bb66-4020-8f0a-c4e918630b34": {
       "attrs": {
        "height": 0.4,
        "width": 0.8,
        "x": 0.1,
        "y": 0.5
       },
       "content": {
        "cell": "b5fac886-128d-4985-8f86-639eb2da890e",
        "part": "whole"
       },
       "id": "d02fdf96-bb66-4020-8f0a-c4e918630b34"
      },
      "dfe9dfe1-3f02-42b1-a44b-5701f7ef2542": {
       "attrs": {
        "height": 0.4,
        "width": 0.8,
        "x": 0.1,
        "y": 0.5
       },
       "content": {
        "cell": "9ad9e470-cbd1-47a2-a55a-a7d4d0ec262b",
        "part": "whole"
       },
       "id": "dfe9dfe1-3f02-42b1-a44b-5701f7ef2542"
      }
     }
    }
   },
   "themes": {}
  }
 },
 "nbformat": 4,
 "nbformat_minor": 1
}
