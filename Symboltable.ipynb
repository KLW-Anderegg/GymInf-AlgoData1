{
 "cells": [
  {
   "cell_type": "markdown",
   "metadata": {},
   "source": [
    "# Symboltabellen"
   ]
  },
  {
   "cell_type": "markdown",
   "metadata": {},
   "source": [
    "In diesem Notebook schauen wir uns Symboltabellen an. Wir diskutieren verschiedene Implementationen mit unterschiedlichen, zugrunde liegenden Datenstrukturen. Wir werden uns im folgende 3 verschiedene Implementationen besprechen:\n",
    "\n",
    "1. Implementation mit verketteter Liste\n",
    "2. Implementation mittel geordnetem Array\n",
    "3. Implementation mittels binären Suchbäumen. \n",
    "\n",
    "Die wichtigste Operation in Symboltabellen ist das Suchen von zu einem zu einem Schlüssel dazugehörenden Wert. Diese Operation liefert den Wert in der Symboltabelle zuück, der unter dem Schlüssel in der Symboltabelle gespeichert ist, der *gleich* dem Anfrageschlüssel ist. Die *Gleichheit* von Schlüsseln spielt hier also eine wichtige Rolle. Deshalb werden wir uns, bevor wir zu den Implementationen kommen, zuerst Objektgleichheit in Python genauer anschauen. "
   ]
  },
  {
   "cell_type": "markdown",
   "metadata": {},
   "source": [
    "## Objektgleichheit"
   ]
  },
  {
   "cell_type": "markdown",
   "metadata": {},
   "source": [
    "Intuitiv ist uns klar, was es bedeutet, dass zwei Objekte gleich sind. Zum Beispiel wissen wir, dass wenn"
   ]
  },
  {
   "cell_type": "code",
   "execution_count": 4,
   "metadata": {},
   "outputs": [],
   "source": [
    "s1 = \"Hallo\"\n",
    "s2 = \"Hallo\""
   ]
  },
  {
   "cell_type": "markdown",
   "metadata": {},
   "source": [
    "dann sollte auch s1 und s2 gleich sein. Also möchten wir, dass folgender Ausdruck ```true``` ergibt:"
   ]
  },
  {
   "cell_type": "code",
   "execution_count": 5,
   "metadata": {},
   "outputs": [
    {
     "data": {
      "text/plain": [
       "True"
      ]
     },
     "execution_count": 5,
     "metadata": {},
     "output_type": "execute_result"
    }
   ],
   "source": [
    "s1 == s2"
   ]
  },
  {
   "cell_type": "markdown",
   "metadata": {},
   "source": [
    "Für die von Python vordefinierten Typen wie Strings, Int, Float, etc. stimmt dies auch tatsächlich. Wenn wir aber unsere eigenen Typen definieren, wird die Sache etwas schwieriger. Wir veranschaulichen dies am Beispiel der Klasse Datum, die wie folgt definieren:"
   ]
  },
  {
   "cell_type": "code",
   "execution_count": 6,
   "metadata": {},
   "outputs": [],
   "source": [
    "class Date:\n",
    "    def __init__(self, day, month, year):\n",
    "        self.day = day\n",
    "        self.month = month\n",
    "        self.year = year"
   ]
  },
  {
   "cell_type": "markdown",
   "metadata": {},
   "source": [
    "Jetzt beobachten wir, was passiert, wenn wir zwei Objekte vom Typ Datum vergleichen:"
   ]
  },
  {
   "cell_type": "code",
   "execution_count": 7,
   "metadata": {},
   "outputs": [
    {
     "data": {
      "text/plain": [
       "False"
      ]
     },
     "execution_count": 7,
     "metadata": {},
     "output_type": "execute_result"
    }
   ],
   "source": [
    "d1 = Date(1, 1, 2018)\n",
    "d2 = Date(1, 1, 2018)\n",
    "d1 == d2"
   ]
  },
  {
   "cell_type": "markdown",
   "metadata": {},
   "source": [
    "Wir sehen, dass die Objekte ```d1``` und ```d2``` von Python als ungleich erachtet werden. Der Grund ist, dass per default die Gleichheit nur auf Objektidentitäten definiert ist. Das bedeutet, es wird nur verglichen ob es sich um das gleiche Objekt handelt, aber nicht ob der Inhalt gleich ist. Wenn wir Objekte als Schlüssel für Symboltabellen verwenden wollen, reicht diese Definition von Gleichheit nicht aus."
   ]
  },
  {
   "cell_type": "markdown",
   "metadata": {},
   "source": [
    "Damit wir auch für benutzerdefinierte Typen, richtige Objektgleichheit haben, müssen wir die Methode ```__eq__``` implementieren. Diese Methode muss eine Äquivalenzrelation definieren, also folgende Anforderungen erfüllen:\n",
    "\n",
    "* Reflexivität: $x == x$ ist wahr\n",
    "* Symmetrie: $x == y$ genau dann wenn $y == x$\n",
    "* Transitivät: $x ==y $ und $y == z$ dann $x == z$"
   ]
  },
  {
   "cell_type": "markdown",
   "metadata": {},
   "source": [
    "In der Praxis ist die Implementation der Methode ```__eq__``` meist sehr einfach, da wir diese direkt über die Felder der Klasse definieren können. "
   ]
  },
  {
   "cell_type": "code",
   "execution_count": 8,
   "metadata": {},
   "outputs": [],
   "source": [
    "class Date:\n",
    "    def __init__(self, day, month, year):\n",
    "        self.day = day\n",
    "        self.month = month\n",
    "        self.year = year\n",
    "        \n",
    "    def __eq__(self, rhs):\n",
    "        return self.day == rhs.day \\\n",
    "            and self.month == rhs.month \\\n",
    "            and self.year == rhs.year"
   ]
  },
  {
   "cell_type": "markdown",
   "metadata": {},
   "source": [
    "Wenn wir jetzt nochmals zwei Objekte vom Typ ```Date``` definieren, sollte alles richtig funktionieren:"
   ]
  },
  {
   "cell_type": "code",
   "execution_count": 9,
   "metadata": {},
   "outputs": [
    {
     "name": "stdout",
     "output_type": "stream",
     "text": [
      "d1==d2:  True\n",
      "d1==d3:  False\n",
      "d1!=d3:  True\n"
     ]
    }
   ],
   "source": [
    "d1 = Date(1, 1, 2018)\n",
    "d2 = Date(1, 1, 2018)\n",
    "d3 = Date (2, 2, 2018)\n",
    "print(\"d1==d2: \", d1 == d2)\n",
    "print(\"d1==d3: \", d1 == d3)\n",
    "print(\"d1!=d3: \", d1 != d3)\n"
   ]
  },
  {
   "cell_type": "markdown",
   "metadata": {},
   "source": [
    "### Ordnungsrelationen"
   ]
  },
  {
   "cell_type": "markdown",
   "metadata": {},
   "source": [
    "Manchmal wollen wir nicht nur feststellen können, ob zwei Objekte gleich sind, sondern diese auch Ordnen können. Wie bei Gleichheit von Objekten kümmert sich Python / Java um die Ordnung von den vordefinierten Typen."
   ]
  },
  {
   "cell_type": "code",
   "execution_count": 10,
   "metadata": {},
   "outputs": [
    {
     "data": {
      "text/plain": [
       "True"
      ]
     },
     "execution_count": 10,
     "metadata": {},
     "output_type": "execute_result"
    }
   ],
   "source": [
    "\"AA\" < \"AB\""
   ]
  },
  {
   "cell_type": "code",
   "execution_count": 11,
   "metadata": {},
   "outputs": [
    {
     "data": {
      "text/plain": [
       "True"
      ]
     },
     "execution_count": 11,
     "metadata": {},
     "output_type": "execute_result"
    }
   ],
   "source": [
    "\"AB\" > \"AA\""
   ]
  },
  {
   "cell_type": "markdown",
   "metadata": {},
   "source": [
    "Für benutzerdefinierte Typen, die ja nicht immer eine Ordnung haben, sind diese Operationen nicht definiert. "
   ]
  },
  {
   "cell_type": "code",
   "execution_count": 12,
   "metadata": {},
   "outputs": [
    {
     "ename": "TypeError",
     "evalue": "'>' not supported between instances of 'Date' and 'Date'",
     "output_type": "error",
     "traceback": [
      "\u001b[0;31m---------------------------------------------------------------------------\u001b[0m",
      "\u001b[0;31mTypeError\u001b[0m                                 Traceback (most recent call last)",
      "\u001b[0;32m<ipython-input-12-7c69d4392a97>\u001b[0m in \u001b[0;36m<module>\u001b[0;34m\u001b[0m\n\u001b[1;32m      1\u001b[0m \u001b[0md1\u001b[0m \u001b[0;34m=\u001b[0m \u001b[0mDate\u001b[0m\u001b[0;34m(\u001b[0m\u001b[0;36m1\u001b[0m\u001b[0;34m,\u001b[0m \u001b[0;36m1\u001b[0m\u001b[0;34m,\u001b[0m \u001b[0;36m1970\u001b[0m\u001b[0;34m)\u001b[0m\u001b[0;34m\u001b[0m\u001b[0;34m\u001b[0m\u001b[0m\n\u001b[1;32m      2\u001b[0m \u001b[0md2\u001b[0m \u001b[0;34m=\u001b[0m \u001b[0mDate\u001b[0m\u001b[0;34m(\u001b[0m\u001b[0;36m1\u001b[0m\u001b[0;34m,\u001b[0m \u001b[0;36m1\u001b[0m\u001b[0;34m,\u001b[0m \u001b[0;36m2018\u001b[0m\u001b[0;34m)\u001b[0m\u001b[0;34m\u001b[0m\u001b[0;34m\u001b[0m\u001b[0m\n\u001b[0;32m----> 3\u001b[0;31m \u001b[0md1\u001b[0m \u001b[0;34m>\u001b[0m \u001b[0md2\u001b[0m\u001b[0;34m\u001b[0m\u001b[0;34m\u001b[0m\u001b[0m\n\u001b[0m",
      "\u001b[0;31mTypeError\u001b[0m: '>' not supported between instances of 'Date' and 'Date'"
     ]
    }
   ],
   "source": [
    "d1 = Date(1, 1, 1970)\n",
    "d2 = Date(1, 1, 2018)\n",
    "d1 > d2"
   ]
  },
  {
   "cell_type": "markdown",
   "metadata": {},
   "source": [
    "Um diese Operation zu unterstützen, müssen wir die Python Methode ```__lt__``` implementieren und die Klasse mittels einer Annotation als geordnet kennzeichnen. \n",
    "\n",
    "*(Alternativ können wir auch alle funktionen ```__lt__```, ```__le__```, ```__gt__``` und ```__ge__``` implementieren)*"
   ]
  },
  {
   "cell_type": "code",
   "execution_count": 13,
   "metadata": {},
   "outputs": [],
   "source": [
    "from functools import total_ordering\n",
    "\n",
    "@total_ordering\n",
    "class Date:\n",
    "    def __init__(self, day, month, year):\n",
    "        self.day = day\n",
    "        self.month = month\n",
    "        self.year = year\n",
    "        \n",
    "    def __eq__(self, rhs):\n",
    "        return self.day == rhs.day \\\n",
    "            and self.month == rhs.month \\\n",
    "            and self.year == rhs.year\n",
    "    def __lt__(self, rhs):\n",
    "        return self.year < rhs.year \\\n",
    "            or (self.year == rhs.year and self.month < rhs.month) \\\n",
    "            or (self.year == rhs.year and self.month == rhs.month) \\\n",
    "            and self.day < rhs.day"
   ]
  },
  {
   "cell_type": "code",
   "execution_count": 14,
   "metadata": {},
   "outputs": [
    {
     "data": {
      "text/plain": [
       "True"
      ]
     },
     "execution_count": 14,
     "metadata": {},
     "output_type": "execute_result"
    }
   ],
   "source": [
    "d1 = Date(1, 1, 1970)\n",
    "d2 = Date(1, 1, 2018)\n",
    "d1 < d2"
   ]
  },
  {
   "cell_type": "code",
   "execution_count": 15,
   "metadata": {},
   "outputs": [
    {
     "data": {
      "text/plain": [
       "True"
      ]
     },
     "execution_count": 15,
     "metadata": {},
     "output_type": "execute_result"
    }
   ],
   "source": [
    "d1 >= d1"
   ]
  },
  {
   "cell_type": "markdown",
   "metadata": {},
   "source": [
    "## Implementation 1: Symboltabelle mittels verketteter Liste"
   ]
  },
  {
   "cell_type": "markdown",
   "metadata": {},
   "source": [
    "Wir kommen nun zur ersten einfachen Implementation einer Symboltabelle. Diese Implementation sollte in der Praxis nie verwendet werden und dient nur dazu, den ADT Symboltabelle auf möglichst einfache Weise umzusetzen, so dass wir erste Testclients schreiben können.\n"
   ]
  },
  {
   "cell_type": "markdown",
   "metadata": {},
   "source": [
    "\n",
    "Die Implementation basiert auf einer Verketteten Liste. In den Knoten (Klasse ```Node```) speichern wir sowohl den Schlüssel als auch den zugehörigen Wert. \n",
    "\n",
    "Die ```put``` Operation stellt fest, ob der Schlüssel bereits in der Liste vorhanden ist. Falls nicht wird er am Anfang eingefügt. Falls der Schlüssel bereits vorhanden ist, wird der Wert überschrieben. \n",
    "\n",
    "Bei der ```get``` Methode wird der zum Schlüssel gehörende Wert in der Liste gesucht und, falls dieser gefunden wird, zurückgegeben. Die Hauptarbeit wird hier von der Hilfsmethode ```_findNodeWithKey``` übernommen, die den Knoten mit dem entsprechenden Schlüssel zurückgibt (oder ```None``` falls kein entsprechender Eintrag gefunden wurde). Dieselbe Methode wird auch beim ```delete``` verwendet. Hier wird einfach der entsprechende Knoten gesucht und, wenn dieser gefunden wurde, aus der Liste entfernt. \n",
    "\n",
    "Die Methode ```keys``` gibt einen Iterator zurück, mit welchem wir über alle Schlüssel iterieren können. \n"
   ]
  },
  {
   "cell_type": "code",
   "execution_count": 16,
   "metadata": {},
   "outputs": [],
   "source": [
    "class SequentialSearchST:\n",
    "    \n",
    "    class Node:\n",
    "        def __init__(self, key, value, next = None):\n",
    "            self.key = key\n",
    "            self.value = value\n",
    "            self.next = next;\n",
    "    \n",
    "    \n",
    "    def __init__(self):\n",
    "        self._first = None\n",
    "        self._numberOfNodesInList = 0\n",
    "    \n",
    "    \n",
    "    def put(self, key, value):\n",
    "        if self._first == None:\n",
    "            self._first = SequentialSearchST.Node(key, value)\n",
    "            self._numberOfNodesInList += 1\n",
    "        else:\n",
    "            nodeWithKey = self._findNodeWithKey(key)\n",
    "            if nodeWithKey == None:\n",
    "                self._first = SequentialSearchST.Node(key, value, self._first)\n",
    "                self._numberOfNodesInList += 1\n",
    "            else:\n",
    "                nodeWithKey.value = value\n",
    "    \n",
    "    def get(self, key):\n",
    "        nodeWithKey = self._findNodeWithKey(key)\n",
    "        if nodeWithKey == None:\n",
    "            return None\n",
    "        else:\n",
    "            return nodeWithKey.value\n",
    "    \n",
    "    def delete(self, key):\n",
    "        if self._first == None:\n",
    "            return\n",
    "        if (self._first.key == key):\n",
    "            self._numberOfNodesInList = 0\n",
    "            self._first = self._first.next\n",
    "            return\n",
    "            \n",
    "        current = self._first\n",
    "        while (current.next != None):\n",
    "            if current.next.key == key:\n",
    "                current.next = current.next.next\n",
    "                self._numberOfNodesInList -= 1    \n",
    "                \n",
    "            current = current.next\n",
    "        \n",
    "    \n",
    "    def contains(self, key):\n",
    "        return self._findNodeWithKey(key) != None\n",
    "    \n",
    "    def isEmpty(self):\n",
    "        return self.size() == 0\n",
    "    \n",
    "    def size(self):\n",
    "        return self._numberOfNodesInList\n",
    "    \n",
    "    def _findNodeWithKey(self, key):\n",
    "        current = self._first\n",
    "        while (current != None):\n",
    "            if current.key == key:\n",
    "                return current\n",
    "            current = current.next\n",
    "        \n",
    "        return None # not found\n",
    "    \n",
    "    def keys(self):\n",
    "        if (self._first == None):\n",
    "            yield current.key\n",
    "        current = self._first\n",
    "        while (current != None):\n",
    "            yield current.key\n",
    "            current = current.next"
   ]
  },
  {
   "cell_type": "markdown",
   "metadata": {},
   "source": [
    "### Clients"
   ]
  },
  {
   "cell_type": "markdown",
   "metadata": {},
   "source": [
    "Im folgenden zeigeln wir die Nutzung von einer Symboltabelle an zwei einfachen Beispielen:"
   ]
  },
  {
   "cell_type": "markdown",
   "metadata": {},
   "source": [
    "#### Testclient\n",
    "\n",
    "Unser erster Client nimmt jeden Buchstaben von einem String als Key und die Position des Buchstabens im String als Wert."
   ]
  },
  {
   "cell_type": "code",
   "execution_count": 17,
   "metadata": {},
   "outputs": [],
   "source": [
    "string = \"SEARCHEXAMPLE\"\n",
    "st = SequentialSearchST()\n",
    "for (pos, char) in enumerate(string):\n",
    "    st.put(char, pos)"
   ]
  },
  {
   "cell_type": "markdown",
   "metadata": {},
   "source": [
    "Um alle Objekte auszugeben, gehen wir durch alle Schlüssel und geben die dazugehörigen Werte aus:"
   ]
  },
  {
   "cell_type": "code",
   "execution_count": 18,
   "metadata": {},
   "outputs": [
    {
     "name": "stdout",
     "output_type": "stream",
     "text": [
      "key: L Wert: 11\n",
      "key: P Wert: 10\n",
      "key: M Wert: 9\n",
      "key: X Wert: 7\n",
      "key: H Wert: 5\n",
      "key: C Wert: 4\n",
      "key: R Wert: 3\n",
      "key: A Wert: 8\n",
      "key: E Wert: 12\n",
      "key: S Wert: 0\n"
     ]
    }
   ],
   "source": [
    "for k in st.keys():\n",
    "    print(\"key: \" +str(k) + \" Wert: \" +str(st.get(k)))"
   ]
  },
  {
   "cell_type": "markdown",
   "metadata": {},
   "source": [
    "##### Übung:\n",
    "\n",
    "* Ersetzen Sie einen bereits vorhandenen Schlüssel mit der Methode ```put```. Was passiert?"
   ]
  },
  {
   "cell_type": "code",
   "execution_count": null,
   "metadata": {},
   "outputs": [],
   "source": []
  },
  {
   "cell_type": "markdown",
   "metadata": {},
   "source": [
    "#### Frequency Client\n",
    "\n",
    "Unser zweiter Client zeigt eine eine erste sinnvolle Anwendung von Symboltabellen. Er zählt, wie oft ein bestimmes Wort in einem Text vorkommt."
   ]
  },
  {
   "cell_type": "markdown",
   "metadata": {},
   "source": [
    "Als erstes bereiten wir einen Text auf. Wir nutzen den folgenden Ausschnitt aus \"Alice's Adventures in Wonderland\". Damit wir nicht durch die Satzzeichen gestört werden, entfernen wir diese zuerst. "
   ]
  },
  {
   "cell_type": "code",
   "execution_count": 19,
   "metadata": {},
   "outputs": [],
   "source": [
    "testdataRaw = \"\"\" Alice was beginning to get very tired of \n",
    "sitting by her sister on the bank, and of having nothing to \n",
    "do:  once or twice she had peeped into the book her sister \n",
    "was reading, but it had no pictures or conversations in it, `and what is the use of a book,'\n",
    "thought Alice `without pictures or conversation?'\n",
    "\n",
    "  So she was considering in her own mind (as well as she could,\n",
    "for the hot day made her feel very sleepy and stupid), whether\n",
    "the pleasure of making a daisy-chain would be worth the trouble\n",
    "of getting up and picking the daisies, when suddenly a White\n",
    "Rabbit with pink eyes ran close by her.\n",
    "\n",
    "  There was nothing so VERY remarkable in that; nor did Alice\n",
    "think it so VERY much out of the way to hear the Rabbit say to\n",
    "itself, `Oh dear!  Oh dear!  I shall be late!'  (when she thought\n",
    "it over afterwards, it occurred to her that she ought to have\n",
    "wondered at this, but at the time it all seemed quite natural);\n",
    "but when the Rabbit actually TOOK A WATCH OUT OF ITS WAISTCOAT-\n",
    "POCKET, and looked at it, and then hurried on, Alice started to\n",
    "her feet, for it flashed across her mind that she had never\n",
    "before seen a rabbit with either a waistcoat-pocket, or a watch to\n",
    "take out of it, and burning with curiosity, she ran across the\n",
    "field after it, and fortunately was just in time to see it pop\n",
    "down a large rabbit-hole under the hedge.\n",
    "\"\"\"\n",
    "import string\n",
    "translator = str.maketrans('', '', string.punctuation)\n",
    "testdata = testdataRaw.translate(translator).lower()"
   ]
  },
  {
   "cell_type": "markdown",
   "metadata": {},
   "source": [
    "##### Übung: \n",
    "\n",
    "* Was macht die Python Methode translate? Explorieren Sie.\n"
   ]
  },
  {
   "cell_type": "markdown",
   "metadata": {},
   "source": [
    "Nun iterieren wir durch alle Wörter und nutzen das Wort jeweils als Schlüssel. Für jeden Schlüssel speichern wir dann, wie oft wir diesen Schlüssel (also das Wort) bereits im Text gesehen haben. "
   ]
  },
  {
   "cell_type": "code",
   "execution_count": 20,
   "metadata": {},
   "outputs": [],
   "source": [
    "st = SequentialSearchST()\n",
    "for word in testdata.split():\n",
    "    if len(word) > 5:\n",
    "        if st.contains(word):\n",
    "            st.put(word, st.get(word) + 1)\n",
    "        else:\n",
    "            st.put(word, 1)"
   ]
  },
  {
   "cell_type": "markdown",
   "metadata": {},
   "source": [
    "Wir können nun das Wort, welches am meisten vorkommt, ganz einfach auslesen. Beachten Sie, dass wir uns dazu eine Variable max führen, die immer auf das wort mit den meisten Einträgen zeigt. Am Anfang wird dies auf ein nicht existierendes Wort, mit 0 Einträgen gesetzt."
   ]
  },
  {
   "cell_type": "code",
   "execution_count": 21,
   "metadata": {},
   "outputs": [
    {
     "name": "stdout",
     "output_type": "stream",
     "text": [
      "rabbit 4\n"
     ]
    }
   ],
   "source": [
    "max = \"\"\n",
    "st.put(\"\", 0)\n",
    "for word in st.keys():\n",
    "    if st.get(word) > st.get(max):\n",
    "        max = word\n",
    "print(max, st.get(max))"
   ]
  },
  {
   "cell_type": "markdown",
   "metadata": {},
   "source": [
    "#### Übung:\n",
    "* Geben Sie alle im Text vorkommende Wörter, zusammen mit deren Häufigkeit aus"
   ]
  },
  {
   "cell_type": "markdown",
   "metadata": {},
   "source": [
    "## Implementation 2: Geordnete Arrays\n",
    "\n",
    "In unserer zweiten Implementation nutzen wir eine binäre Suche. Die binäre Suche ist eine effiziente Methode um festzustellen, ob ein gegebner Schlüssel in einem geordneten Array vorkommt. Dabei wird der Schlüssel zuerst mit dem mittleren Element im Array verglichen. Falls der Schlüssel dem mittleren Element entspricht, wird die entsprechende position im Array zurückgegeben. Ansonsten wird die Suche auf die selbe Weise im unteren oder oberen Teilarray fortgesetzt. "
   ]
  },
  {
   "cell_type": "code",
   "execution_count": 22,
   "metadata": {},
   "outputs": [],
   "source": [
    "def binarySearch(a , key ):\n",
    "    lo = 0\n",
    "    hi = len(a) - 1\n",
    "    while lo  <= hi:\n",
    "        mid = (lo + hi) // 2        \n",
    "        if  a[mid] < key:\n",
    "            lo = mid + 1\n",
    "        elif  key  < a[mid]:\n",
    "            hi = mid - 1\n",
    "        else:\n",
    "            return mid\n",
    "    return None"
   ]
  },
  {
   "cell_type": "markdown",
   "metadata": {},
   "source": [
    "Bei einer erfolgreichen wird also der Index auf das gefundene Element zurückgegeben:"
   ]
  },
  {
   "cell_type": "code",
   "execution_count": 24,
   "metadata": {},
   "outputs": [
    {
     "data": {
      "text/plain": [
       "9"
      ]
     },
     "execution_count": 24,
     "metadata": {},
     "output_type": "execute_result"
    }
   ],
   "source": [
    "binarySearch([1, 2, 3, 4, 7, 11, 12, 17, 29, 33, 35], 33)"
   ]
  },
  {
   "cell_type": "markdown",
   "metadata": {},
   "source": [
    "Falls das Element nicht vorhanden ist, wird hier ```None``` zurückgegeben."
   ]
  },
  {
   "cell_type": "code",
   "execution_count": 25,
   "metadata": {},
   "outputs": [],
   "source": [
    "binarySearch([1, 3, 7, 11, 19], 18)"
   ]
  },
  {
   "cell_type": "markdown",
   "metadata": {},
   "source": [
    "#### Übung:\n",
    "* Experimentieren Sie mit Binary search. Geben sie ```lo```, ```mid``` und ```hi``` aus um zu verstehen wie die Suche vor sich geht. "
   ]
  },
  {
   "cell_type": "markdown",
   "metadata": {},
   "source": [
    "Eine ähnliche Funktion, genannt ```rank```, bildet das Rückgrat unserer nächsten Implementation. Die Implementation von ```rank``` entspricht genau der binären Suche. Der einzige Unterschied ist, dass bei einer erfolglosen Suche ```lo``` statt ```None``` zurückgegeben wird. Dies hat den Effekt, dass der Rückgabewert immer genau der anzahl Elemente entspricht, die kleiner als der gesuchte Schlüssel sind."
   ]
  },
  {
   "cell_type": "code",
   "execution_count": 88,
   "metadata": {},
   "outputs": [],
   "source": [
    "def rank(a , key ):\n",
    "    lo = 0\n",
    "    hi = len(a) - 1\n",
    "    while lo  <= hi:\n",
    "        mid = (lo + hi) // 2        \n",
    "        if  a[mid] < key:\n",
    "            lo = mid + 1\n",
    "        elif  key  < a[mid]:\n",
    "            hi = mid - 1\n",
    "        else:\n",
    "            return mid\n",
    "    return lo"
   ]
  },
  {
   "cell_type": "markdown",
   "metadata": {},
   "source": [
    "#### Übung:\n",
    "\n",
    "* Machen Sie eine erfolgreiche und erfolglose Suchanfrage und vergewissern Sie sich, dass der Rückgabewert genau der Anzahl Elementen entspricht, die kleiner als der gesuchte Schlüssel sind. \n",
    "* Argumentieren Sie, weshalb alle Schlüssel, die am Ende im Teilarray ```a[0:lo]``` sind kleiner oder gleich dem gesuchten Schlüssel sein müssen. "
   ]
  },
  {
   "cell_type": "markdown",
   "metadata": {},
   "source": [
    "Dank der rank Methode ist nun die Implementation der Symboltabelle einfach. Die Idee ist, dass wir die Elemente in einem sortieren Array speichern. In der Implementation der Methoden ```get```, ```delete```, und ```put``` können wir damit effizient auf die richtige Stelle springen. "
   ]
  },
  {
   "cell_type": "code",
   "execution_count": 93,
   "metadata": {},
   "outputs": [],
   "source": [
    "class BinarySearchST:\n",
    "    \n",
    "    def __init__(self):\n",
    "        self._keys = []\n",
    "        self._values = []\n",
    "    \n",
    "    \n",
    "    def _rank(self, value):\n",
    "        lo = 0\n",
    "        hi = len(self._keys) - 1\n",
    "        while lo  <= hi:\n",
    "            mid = (lo + hi) // 2\n",
    "            if  self._keys[mid] < value:\n",
    "                lo = mid + 1\n",
    "            elif  value  < self._keys[mid]:\n",
    "                hi = mid - 1\n",
    "            else:\n",
    "                return mid\n",
    "        return lo\n",
    "    \n",
    "    def get(self, key):\n",
    "        if self.isEmpty():\n",
    "            return None\n",
    "        \n",
    "        rank = self._rank(key)\n",
    "        if rank < len(self._keys) and self._keys[rank] == key:\n",
    "            return self._values[rank]\n",
    "        else:\n",
    "            return None\n",
    "        \n",
    "    def put(self, key, value):\n",
    "        rank = self._rank(key)\n",
    "        if rank < len(self._keys) and self._keys[rank] == key:\n",
    "            self._values[rank] = value\n",
    "        else:\n",
    "            self._keys.insert(rank, key)\n",
    "            self._values.insert(rank, value)\n",
    "             \n",
    "    def delete(self, key):\n",
    "        rank = self._rank(key)\n",
    "        if rank < len(self._keys) and self._keys[rank] == key:\n",
    "            del self._keys[rank] \n",
    "            del self._values[rank]\n",
    "            \n",
    "    \n",
    "    def contains(self, key):\n",
    "        rank = self._rank(key)\n",
    "        return rank < len(self._keys) and self._keys[rank] == key\n",
    "    \n",
    "    def isEmpty(self):\n",
    "        return self.size() == 0\n",
    "    \n",
    "    def size(self):\n",
    "        return len(self._keys)\n",
    "    \n",
    "    def keys(self):\n",
    "        return self._keys"
   ]
  },
  {
   "cell_type": "markdown",
   "metadata": {},
   "source": [
    "#### Übung:\n",
    "* Schauen Sie sich die Implementation genau an. Wie wird ```rank``` verwendet? Was muss jeweils zusätzlich noch gemacht werden?\n",
    "* Falls Sie bei einer der Funktionen unsicher sind, instrumentieren Sie den Code durch ```print``` statements und testen Sie die Symboltabelle mit einfachen Beispielen. \n",
    "\n"
   ]
  },
  {
   "cell_type": "markdown",
   "metadata": {},
   "source": [
    "## Implementation 3: Binäre Suchbäume"
   ]
  },
  {
   "cell_type": "markdown",
   "metadata": {},
   "source": [
    "## Repräsentation"
   ]
  },
  {
   "cell_type": "markdown",
   "metadata": {},
   "source": [
    "Wir definieren uns einen Binären Suchbaum als Klasse BST. Die Klasse arbeitet intern mit einer Repräsentation Node, welche die Knoten vom Baum repräsentiert. Der leere Baum wird durch das Symbol ```None``` definiert. \n",
    "Die grundlegenden Operationen einer Symboltabelle, ```size```, ```isEmpty```, ```put```, ```get```, ```contains```, ```keys``` sind einfach zu definieren.\n",
    "\n",
    "Um die Grösse effizient zu berechnen, speichern wir uns einen Knotenzähler\n",
    "```count```, welcher die Anzahl Knoten im jeweiligen Unterbaum speichert."
   ]
  },
  {
   "cell_type": "code",
   "execution_count": 29,
   "metadata": {},
   "outputs": [],
   "source": [
    "class BST:\n",
    "    \n",
    "    class Node:\n",
    "        def __init__(self, key, value, count = 1):\n",
    "            self.key = key\n",
    "            self.value = value\n",
    "            self.count = count\n",
    "            self.left = None\n",
    "            self.right = None\n",
    "    \n",
    "    def __init__(self):\n",
    "        self._root = None\n",
    "    \n",
    "    def root(self):\n",
    "        return self._root\n",
    "    \n",
    "    def size(self):\n",
    "        return self._size(self._root)\n",
    "    \n",
    "    def _size(self, root):\n",
    "        if (root == None):\n",
    "            return 0\n",
    "        else:\n",
    "            return root.count\n",
    "    \n",
    "    def isEmpty(self):\n",
    "        return self.size() == 0\n",
    "    \n",
    "    def contains(self, key):\n",
    "        return self.get != None\n",
    "    \n",
    "    def get(self, key): \n",
    "        return self._get(key, self._root)\n",
    "    \n",
    "    def _get(self, key, node):\n",
    "        if node == None:\n",
    "            return None\n",
    "        elif key < node.key:\n",
    "            return self._get(key, node.left)\n",
    "        elif key > node.key:\n",
    "            return self._get(key, node.right)\n",
    "        elif key == node.key:\n",
    "            return node.value\n",
    "        else:\n",
    "            raise Exception(\"should never reach this line\")\n",
    "            \n",
    "    def put(self, key, value):\n",
    "        self._root = self._put(key, value, self._root)\n",
    "    \n",
    "    def _put(self, key, value, node):\n",
    "        if (node == None):\n",
    "            return BST.Node(key, value, 1)\n",
    "        elif key < node.key:\n",
    "            node.left = self._put(key, value, node.left)\n",
    "        elif key > node.key:\n",
    "            node.right = self._put(key, value, node.right)\n",
    "        elif key == node.key:\n",
    "            node.value = value\n",
    "        node.count = 1 + self._size(node.left) + self._size(node.right)\n",
    "        return node\n",
    "        \n",
    "    def keys(self):\n",
    "        return self._keys(self._root, [])\n",
    "        \n",
    "    def _keys(self, node, keylist):        \n",
    "        if node == None:\n",
    "            return keylist\n",
    "        else:\n",
    "            self._keys(node.left, keylist)\n",
    "            keylist.append(node.key)\n",
    "            self._keys(node.right, keylist)\n",
    "            return keylist\n",
    "        \n",
    "    def height(self):\n",
    "        return self._height(self._root)\n",
    "    \n",
    "    def _height(self, node):\n",
    "        if node == None:\n",
    "            return -1\n",
    "        else:\n",
    "            return 1 + max(self._height(node.left), self._height(node.right))        "
   ]
  },
  {
   "cell_type": "markdown",
   "metadata": {},
   "source": [
    "##### Übung:\n",
    "* Schauen Sie sich die Methoden ```get``` und ```put``` genau an und stellen Sie sicher, dass Sie diese verstehen. \n",
    "    * Beachten Sie insbesondere wie beim put nach dem Einfügen jeweils wieder die Links richtig gesetzt werd und wie das Feld ```count``` aktualisiert wird. \n",
    "    * Falls Ihnen etwas unklar ist, instrumentieren Sie den Code mit ```print``` statements und testen Sie die Methoden an einfachen Beispielen. \n",
    "* Schauen Sie sich die Methode ```keys``` an. Welche Traversierungsstrategie (inorder, postorder, preorder) wird hier gewählt? Weshalb?"
   ]
  },
  {
   "cell_type": "markdown",
   "metadata": {},
   "source": [
    "### Experimente mit Binärsuchbäumen"
   ]
  },
  {
   "cell_type": "markdown",
   "metadata": {},
   "source": [
    "Um die Funktionsweise von Binären Bäumen besser verstehen zu können ist es hilfreich, diese zu visualisieren. \n",
    "Dazu definieren wir uns folgende visualisierungsfunktion. Sie müssen die Details davon nicht verstehen. \n",
    "\n",
    "*Achtung: Beachten Sie, dass wir hier die leeren Teilbäume (als Schwarze Punkte) mitvisualisieren.*"
   ]
  },
  {
   "cell_type": "code",
   "execution_count": 26,
   "metadata": {},
   "outputs": [],
   "source": [
    "from graphviz import Graph\n",
    "\n",
    "def plotTree(tree):\n",
    "    dot = Graph(comment='Tree')\n",
    "    _plotTree(tree.root(), dot)\n",
    "    display(dot)\n",
    "\n",
    "def nodeToString(node):\n",
    "    return str(node.key) +\":\" +str(node.value)\n",
    "    \n",
    "def _plotTree(node, dot):\n",
    "    \n",
    "    if node == None:        \n",
    "        return \n",
    "    dot.node(str(node), nodeToString(node))\n",
    "    if node.left != None:\n",
    "        dot.node(str(node.left), nodeToString(node.left))\n",
    "        dot.edge(str(node), str(node.left))\n",
    "    else:\n",
    "        dot.node(str(node) + \"left-none\", \"\",  **{'shape':'point'})\n",
    "        dot.edge(str(node), str(node) + \"left-none\")\n",
    "        \n",
    "    if node.right != None:\n",
    "        dot.node(str(node.right), nodeToString(node.right))\n",
    "        dot.edge(str(node), str(node.right))\n",
    "    else:\n",
    "        dot.node(str(node) + \"left-right\", \"\",  **{'shape':'point'})\n",
    "        dot.edge(str(node), str(node) + \"left-right\")\n",
    "\n",
    "    _plotTree(node.left, dot)\n",
    "    _plotTree(node.right, dot)\n",
    "    "
   ]
  },
  {
   "cell_type": "markdown",
   "metadata": {},
   "source": [
    "Nun können wir visualisieren, was passiert, wenn wir Schlüssel in einen Binärsuchbaum einfügen. Folgender Code gibt jeweils nach dem Einfügen den entstandenen Baum aus. "
   ]
  },
  {
   "cell_type": "code",
   "execution_count": 30,
   "metadata": {},
   "outputs": [
    {
     "data": {
      "image/svg+xml": [
       "<?xml version=\"1.0\" encoding=\"UTF-8\" standalone=\"no\"?>\n",
       "<!DOCTYPE svg PUBLIC \"-//W3C//DTD SVG 1.1//EN\"\n",
       " \"http://www.w3.org/Graphics/SVG/1.1/DTD/svg11.dtd\">\n",
       "<!-- Generated by graphviz version 2.40.1 (20161225.0304)\n",
       " -->\n",
       "<!-- Title: %3 Pages: 1 -->\n",
       "<svg width=\"62pt\" height=\"84pt\"\n",
       " viewBox=\"0.00 0.00 62.00 83.60\" xmlns=\"http://www.w3.org/2000/svg\" xmlns:xlink=\"http://www.w3.org/1999/xlink\">\n",
       "<g id=\"graph0\" class=\"graph\" transform=\"scale(1 1) rotate(0) translate(4 79.6)\">\n",
       "<title>%3</title>\n",
       "<polygon fill=\"#ffffff\" stroke=\"transparent\" points=\"-4,4 -4,-79.6 58,-79.6 58,4 -4,4\"/>\n",
       "<!-- __main__.BST.Node object at 0x7fc585732c50 -->\n",
       "<g id=\"node1\" class=\"node\">\n",
       "<title>__main__.BST.Node object at 0x7fc585732c50</title>\n",
       "<ellipse fill=\"none\" stroke=\"#000000\" cx=\"27\" cy=\"-57.6\" rx=\"27\" ry=\"18\"/>\n",
       "<text text-anchor=\"middle\" x=\"27\" y=\"-53.9\" font-family=\"Times,serif\" font-size=\"14.00\" fill=\"#000000\">S:0</text>\n",
       "</g>\n",
       "<!-- &lt;__main__.BST.Node object at 0x7fc585732c50&gt;left&#45;none -->\n",
       "<g id=\"node2\" class=\"node\">\n",
       "<title>&lt;__main__.BST.Node object at 0x7fc585732c50&gt;left&#45;none</title>\n",
       "<ellipse fill=\"#000000\" stroke=\"#000000\" cx=\"16\" cy=\"-1.8\" rx=\"1.8\" ry=\"1.8\"/>\n",
       "</g>\n",
       "<!-- __main__.BST.Node object at 0x7fc585732c50&#45;&#45;&lt;__main__.BST.Node object at 0x7fc585732c50&gt;left&#45;none -->\n",
       "<g id=\"edge1\" class=\"edge\">\n",
       "<title>__main__.BST.Node object at 0x7fc585732c50&#45;&#45;&lt;__main__.BST.Node object at 0x7fc585732c50&gt;left&#45;none</title>\n",
       "<path fill=\"none\" stroke=\"#000000\" d=\"M23.459,-39.6374C20.796,-26.1289 17.4283,-9.0453 16.3493,-3.5719\"/>\n",
       "</g>\n",
       "<!-- &lt;__main__.BST.Node object at 0x7fc585732c50&gt;left&#45;right -->\n",
       "<g id=\"node3\" class=\"node\">\n",
       "<title>&lt;__main__.BST.Node object at 0x7fc585732c50&gt;left&#45;right</title>\n",
       "<ellipse fill=\"#000000\" stroke=\"#000000\" cx=\"38\" cy=\"-1.8\" rx=\"1.8\" ry=\"1.8\"/>\n",
       "</g>\n",
       "<!-- __main__.BST.Node object at 0x7fc585732c50&#45;&#45;&lt;__main__.BST.Node object at 0x7fc585732c50&gt;left&#45;right -->\n",
       "<g id=\"edge2\" class=\"edge\">\n",
       "<title>__main__.BST.Node object at 0x7fc585732c50&#45;&#45;&lt;__main__.BST.Node object at 0x7fc585732c50&gt;left&#45;right</title>\n",
       "<path fill=\"none\" stroke=\"#000000\" d=\"M30.541,-39.6374C33.204,-26.1289 36.5717,-9.0453 37.6507,-3.5719\"/>\n",
       "</g>\n",
       "</g>\n",
       "</svg>\n"
      ],
      "text/plain": [
       "<graphviz.dot.Graph at 0x7fc585732ac8>"
      ]
     },
     "metadata": {},
     "output_type": "display_data"
    },
    {
     "data": {
      "image/svg+xml": [
       "<?xml version=\"1.0\" encoding=\"UTF-8\" standalone=\"no\"?>\n",
       "<!DOCTYPE svg PUBLIC \"-//W3C//DTD SVG 1.1//EN\"\n",
       " \"http://www.w3.org/Graphics/SVG/1.1/DTD/svg11.dtd\">\n",
       "<!-- Generated by graphviz version 2.40.1 (20161225.0304)\n",
       " -->\n",
       "<!-- Title: %3 Pages: 1 -->\n",
       "<svg width=\"85pt\" height=\"156pt\"\n",
       " viewBox=\"0.00 0.00 85.00 155.60\" xmlns=\"http://www.w3.org/2000/svg\" xmlns:xlink=\"http://www.w3.org/1999/xlink\">\n",
       "<g id=\"graph0\" class=\"graph\" transform=\"scale(1 1) rotate(0) translate(4 151.6)\">\n",
       "<title>%3</title>\n",
       "<polygon fill=\"#ffffff\" stroke=\"transparent\" points=\"-4,4 -4,-151.6 81,-151.6 81,4 -4,4\"/>\n",
       "<!-- __main__.BST.Node object at 0x7fc585732c50 -->\n",
       "<g id=\"node1\" class=\"node\">\n",
       "<title>__main__.BST.Node object at 0x7fc585732c50</title>\n",
       "<ellipse fill=\"none\" stroke=\"#000000\" cx=\"50\" cy=\"-129.6\" rx=\"27\" ry=\"18\"/>\n",
       "<text text-anchor=\"middle\" x=\"50\" y=\"-125.9\" font-family=\"Times,serif\" font-size=\"14.00\" fill=\"#000000\">S:0</text>\n",
       "</g>\n",
       "<!-- __main__.BST.Node object at 0x7fc585732ac8 -->\n",
       "<g id=\"node2\" class=\"node\">\n",
       "<title>__main__.BST.Node object at 0x7fc585732ac8</title>\n",
       "<ellipse fill=\"none\" stroke=\"#000000\" cx=\"27\" cy=\"-57.6\" rx=\"27\" ry=\"18\"/>\n",
       "<text text-anchor=\"middle\" x=\"27\" y=\"-53.9\" font-family=\"Times,serif\" font-size=\"14.00\" fill=\"#000000\">E:1</text>\n",
       "</g>\n",
       "<!-- __main__.BST.Node object at 0x7fc585732c50&#45;&#45;__main__.BST.Node object at 0x7fc585732ac8 -->\n",
       "<g id=\"edge1\" class=\"edge\">\n",
       "<title>__main__.BST.Node object at 0x7fc585732c50&#45;&#45;__main__.BST.Node object at 0x7fc585732ac8</title>\n",
       "<path fill=\"none\" stroke=\"#000000\" d=\"M44.3146,-111.8022C40.7761,-100.7252 36.2409,-86.528 32.6997,-75.4425\"/>\n",
       "</g>\n",
       "<!-- &lt;__main__.BST.Node object at 0x7fc585732c50&gt;left&#45;right -->\n",
       "<g id=\"node3\" class=\"node\">\n",
       "<title>&lt;__main__.BST.Node object at 0x7fc585732c50&gt;left&#45;right</title>\n",
       "<ellipse fill=\"#000000\" stroke=\"#000000\" cx=\"74\" cy=\"-57.6\" rx=\"1.8\" ry=\"1.8\"/>\n",
       "</g>\n",
       "<!-- __main__.BST.Node object at 0x7fc585732c50&#45;&#45;&lt;__main__.BST.Node object at 0x7fc585732c50&gt;left&#45;right -->\n",
       "<g id=\"edge2\" class=\"edge\">\n",
       "<title>__main__.BST.Node object at 0x7fc585732c50&#45;&#45;&lt;__main__.BST.Node object at 0x7fc585732c50&gt;left&#45;right</title>\n",
       "<path fill=\"none\" stroke=\"#000000\" d=\"M55.9326,-111.8022C62.0402,-93.4793 70.9936,-66.6192 73.391,-59.4271\"/>\n",
       "</g>\n",
       "<!-- &lt;__main__.BST.Node object at 0x7fc585732ac8&gt;left&#45;none -->\n",
       "<g id=\"node4\" class=\"node\">\n",
       "<title>&lt;__main__.BST.Node object at 0x7fc585732ac8&gt;left&#45;none</title>\n",
       "<ellipse fill=\"#000000\" stroke=\"#000000\" cx=\"16\" cy=\"-1.8\" rx=\"1.8\" ry=\"1.8\"/>\n",
       "</g>\n",
       "<!-- __main__.BST.Node object at 0x7fc585732ac8&#45;&#45;&lt;__main__.BST.Node object at 0x7fc585732ac8&gt;left&#45;none -->\n",
       "<g id=\"edge3\" class=\"edge\">\n",
       "<title>__main__.BST.Node object at 0x7fc585732ac8&#45;&#45;&lt;__main__.BST.Node object at 0x7fc585732ac8&gt;left&#45;none</title>\n",
       "<path fill=\"none\" stroke=\"#000000\" d=\"M23.459,-39.6374C20.796,-26.1289 17.4283,-9.0453 16.3493,-3.5719\"/>\n",
       "</g>\n",
       "<!-- &lt;__main__.BST.Node object at 0x7fc585732ac8&gt;left&#45;right -->\n",
       "<g id=\"node5\" class=\"node\">\n",
       "<title>&lt;__main__.BST.Node object at 0x7fc585732ac8&gt;left&#45;right</title>\n",
       "<ellipse fill=\"#000000\" stroke=\"#000000\" cx=\"38\" cy=\"-1.8\" rx=\"1.8\" ry=\"1.8\"/>\n",
       "</g>\n",
       "<!-- __main__.BST.Node object at 0x7fc585732ac8&#45;&#45;&lt;__main__.BST.Node object at 0x7fc585732ac8&gt;left&#45;right -->\n",
       "<g id=\"edge4\" class=\"edge\">\n",
       "<title>__main__.BST.Node object at 0x7fc585732ac8&#45;&#45;&lt;__main__.BST.Node object at 0x7fc585732ac8&gt;left&#45;right</title>\n",
       "<path fill=\"none\" stroke=\"#000000\" d=\"M30.541,-39.6374C33.204,-26.1289 36.5717,-9.0453 37.6507,-3.5719\"/>\n",
       "</g>\n",
       "</g>\n",
       "</svg>\n"
      ],
      "text/plain": [
       "<graphviz.dot.Graph at 0x7fc585732da0>"
      ]
     },
     "metadata": {},
     "output_type": "display_data"
    },
    {
     "data": {
      "image/svg+xml": [
       "<?xml version=\"1.0\" encoding=\"UTF-8\" standalone=\"no\"?>\n",
       "<!DOCTYPE svg PUBLIC \"-//W3C//DTD SVG 1.1//EN\"\n",
       " \"http://www.w3.org/Graphics/SVG/1.1/DTD/svg11.dtd\">\n",
       "<!-- Generated by graphviz version 2.40.1 (20161225.0304)\n",
       " -->\n",
       "<!-- Title: %3 Pages: 1 -->\n",
       "<svg width=\"108pt\" height=\"228pt\"\n",
       " viewBox=\"0.00 0.00 108.00 227.60\" xmlns=\"http://www.w3.org/2000/svg\" xmlns:xlink=\"http://www.w3.org/1999/xlink\">\n",
       "<g id=\"graph0\" class=\"graph\" transform=\"scale(1 1) rotate(0) translate(4 223.6)\">\n",
       "<title>%3</title>\n",
       "<polygon fill=\"#ffffff\" stroke=\"transparent\" points=\"-4,4 -4,-223.6 104,-223.6 104,4 -4,4\"/>\n",
       "<!-- __main__.BST.Node object at 0x7fc585732c50 -->\n",
       "<g id=\"node1\" class=\"node\">\n",
       "<title>__main__.BST.Node object at 0x7fc585732c50</title>\n",
       "<ellipse fill=\"none\" stroke=\"#000000\" cx=\"73\" cy=\"-201.6\" rx=\"27\" ry=\"18\"/>\n",
       "<text text-anchor=\"middle\" x=\"73\" y=\"-197.9\" font-family=\"Times,serif\" font-size=\"14.00\" fill=\"#000000\">S:0</text>\n",
       "</g>\n",
       "<!-- __main__.BST.Node object at 0x7fc585732ac8 -->\n",
       "<g id=\"node2\" class=\"node\">\n",
       "<title>__main__.BST.Node object at 0x7fc585732ac8</title>\n",
       "<ellipse fill=\"none\" stroke=\"#000000\" cx=\"50\" cy=\"-129.6\" rx=\"27\" ry=\"18\"/>\n",
       "<text text-anchor=\"middle\" x=\"50\" y=\"-125.9\" font-family=\"Times,serif\" font-size=\"14.00\" fill=\"#000000\">E:1</text>\n",
       "</g>\n",
       "<!-- __main__.BST.Node object at 0x7fc585732c50&#45;&#45;__main__.BST.Node object at 0x7fc585732ac8 -->\n",
       "<g id=\"edge1\" class=\"edge\">\n",
       "<title>__main__.BST.Node object at 0x7fc585732c50&#45;&#45;__main__.BST.Node object at 0x7fc585732ac8</title>\n",
       "<path fill=\"none\" stroke=\"#000000\" d=\"M67.3146,-183.8022C63.7761,-172.7252 59.2409,-158.528 55.6997,-147.4425\"/>\n",
       "</g>\n",
       "<!-- &lt;__main__.BST.Node object at 0x7fc585732c50&gt;left&#45;right -->\n",
       "<g id=\"node3\" class=\"node\">\n",
       "<title>&lt;__main__.BST.Node object at 0x7fc585732c50&gt;left&#45;right</title>\n",
       "<ellipse fill=\"#000000\" stroke=\"#000000\" cx=\"97\" cy=\"-129.6\" rx=\"1.8\" ry=\"1.8\"/>\n",
       "</g>\n",
       "<!-- __main__.BST.Node object at 0x7fc585732c50&#45;&#45;&lt;__main__.BST.Node object at 0x7fc585732c50&gt;left&#45;right -->\n",
       "<g id=\"edge2\" class=\"edge\">\n",
       "<title>__main__.BST.Node object at 0x7fc585732c50&#45;&#45;&lt;__main__.BST.Node object at 0x7fc585732c50&gt;left&#45;right</title>\n",
       "<path fill=\"none\" stroke=\"#000000\" d=\"M78.9326,-183.8022C85.0402,-165.4793 93.9936,-138.6192 96.391,-131.4271\"/>\n",
       "</g>\n",
       "<!-- __main__.BST.Node object at 0x7fc585732da0 -->\n",
       "<g id=\"node4\" class=\"node\">\n",
       "<title>__main__.BST.Node object at 0x7fc585732da0</title>\n",
       "<ellipse fill=\"none\" stroke=\"#000000\" cx=\"27\" cy=\"-57.6\" rx=\"27\" ry=\"18\"/>\n",
       "<text text-anchor=\"middle\" x=\"27\" y=\"-53.9\" font-family=\"Times,serif\" font-size=\"14.00\" fill=\"#000000\">A:2</text>\n",
       "</g>\n",
       "<!-- __main__.BST.Node object at 0x7fc585732ac8&#45;&#45;__main__.BST.Node object at 0x7fc585732da0 -->\n",
       "<g id=\"edge3\" class=\"edge\">\n",
       "<title>__main__.BST.Node object at 0x7fc585732ac8&#45;&#45;__main__.BST.Node object at 0x7fc585732da0</title>\n",
       "<path fill=\"none\" stroke=\"#000000\" d=\"M44.3146,-111.8022C40.7761,-100.7252 36.2409,-86.528 32.6997,-75.4425\"/>\n",
       "</g>\n",
       "<!-- &lt;__main__.BST.Node object at 0x7fc585732ac8&gt;left&#45;right -->\n",
       "<g id=\"node5\" class=\"node\">\n",
       "<title>&lt;__main__.BST.Node object at 0x7fc585732ac8&gt;left&#45;right</title>\n",
       "<ellipse fill=\"#000000\" stroke=\"#000000\" cx=\"74\" cy=\"-57.6\" rx=\"1.8\" ry=\"1.8\"/>\n",
       "</g>\n",
       "<!-- __main__.BST.Node object at 0x7fc585732ac8&#45;&#45;&lt;__main__.BST.Node object at 0x7fc585732ac8&gt;left&#45;right -->\n",
       "<g id=\"edge4\" class=\"edge\">\n",
       "<title>__main__.BST.Node object at 0x7fc585732ac8&#45;&#45;&lt;__main__.BST.Node object at 0x7fc585732ac8&gt;left&#45;right</title>\n",
       "<path fill=\"none\" stroke=\"#000000\" d=\"M55.9326,-111.8022C62.0402,-93.4793 70.9936,-66.6192 73.391,-59.4271\"/>\n",
       "</g>\n",
       "<!-- &lt;__main__.BST.Node object at 0x7fc585732da0&gt;left&#45;none -->\n",
       "<g id=\"node6\" class=\"node\">\n",
       "<title>&lt;__main__.BST.Node object at 0x7fc585732da0&gt;left&#45;none</title>\n",
       "<ellipse fill=\"#000000\" stroke=\"#000000\" cx=\"16\" cy=\"-1.8\" rx=\"1.8\" ry=\"1.8\"/>\n",
       "</g>\n",
       "<!-- __main__.BST.Node object at 0x7fc585732da0&#45;&#45;&lt;__main__.BST.Node object at 0x7fc585732da0&gt;left&#45;none -->\n",
       "<g id=\"edge5\" class=\"edge\">\n",
       "<title>__main__.BST.Node object at 0x7fc585732da0&#45;&#45;&lt;__main__.BST.Node object at 0x7fc585732da0&gt;left&#45;none</title>\n",
       "<path fill=\"none\" stroke=\"#000000\" d=\"M23.459,-39.6374C20.796,-26.1289 17.4283,-9.0453 16.3493,-3.5719\"/>\n",
       "</g>\n",
       "<!-- &lt;__main__.BST.Node object at 0x7fc585732da0&gt;left&#45;right -->\n",
       "<g id=\"node7\" class=\"node\">\n",
       "<title>&lt;__main__.BST.Node object at 0x7fc585732da0&gt;left&#45;right</title>\n",
       "<ellipse fill=\"#000000\" stroke=\"#000000\" cx=\"38\" cy=\"-1.8\" rx=\"1.8\" ry=\"1.8\"/>\n",
       "</g>\n",
       "<!-- __main__.BST.Node object at 0x7fc585732da0&#45;&#45;&lt;__main__.BST.Node object at 0x7fc585732da0&gt;left&#45;right -->\n",
       "<g id=\"edge6\" class=\"edge\">\n",
       "<title>__main__.BST.Node object at 0x7fc585732da0&#45;&#45;&lt;__main__.BST.Node object at 0x7fc585732da0&gt;left&#45;right</title>\n",
       "<path fill=\"none\" stroke=\"#000000\" d=\"M30.541,-39.6374C33.204,-26.1289 36.5717,-9.0453 37.6507,-3.5719\"/>\n",
       "</g>\n",
       "</g>\n",
       "</svg>\n"
      ],
      "text/plain": [
       "<graphviz.dot.Graph at 0x7fc585732c18>"
      ]
     },
     "metadata": {},
     "output_type": "display_data"
    },
    {
     "data": {
      "image/svg+xml": [
       "<?xml version=\"1.0\" encoding=\"UTF-8\" standalone=\"no\"?>\n",
       "<!DOCTYPE svg PUBLIC \"-//W3C//DTD SVG 1.1//EN\"\n",
       " \"http://www.w3.org/Graphics/SVG/1.1/DTD/svg11.dtd\">\n",
       "<!-- Generated by graphviz version 2.40.1 (20161225.0304)\n",
       " -->\n",
       "<!-- Title: %3 Pages: 1 -->\n",
       "<svg width=\"134pt\" height=\"228pt\"\n",
       " viewBox=\"0.00 0.00 134.00 227.60\" xmlns=\"http://www.w3.org/2000/svg\" xmlns:xlink=\"http://www.w3.org/1999/xlink\">\n",
       "<g id=\"graph0\" class=\"graph\" transform=\"scale(1 1) rotate(0) translate(4 223.6)\">\n",
       "<title>%3</title>\n",
       "<polygon fill=\"#ffffff\" stroke=\"transparent\" points=\"-4,4 -4,-223.6 130,-223.6 130,4 -4,4\"/>\n",
       "<!-- __main__.BST.Node object at 0x7fc585732c50 -->\n",
       "<g id=\"node1\" class=\"node\">\n",
       "<title>__main__.BST.Node object at 0x7fc585732c50</title>\n",
       "<ellipse fill=\"none\" stroke=\"#000000\" cx=\"86\" cy=\"-201.6\" rx=\"27\" ry=\"18\"/>\n",
       "<text text-anchor=\"middle\" x=\"86\" y=\"-197.9\" font-family=\"Times,serif\" font-size=\"14.00\" fill=\"#000000\">S:0</text>\n",
       "</g>\n",
       "<!-- __main__.BST.Node object at 0x7fc585732ac8 -->\n",
       "<g id=\"node2\" class=\"node\">\n",
       "<title>__main__.BST.Node object at 0x7fc585732ac8</title>\n",
       "<ellipse fill=\"none\" stroke=\"#000000\" cx=\"63\" cy=\"-129.6\" rx=\"27\" ry=\"18\"/>\n",
       "<text text-anchor=\"middle\" x=\"63\" y=\"-125.9\" font-family=\"Times,serif\" font-size=\"14.00\" fill=\"#000000\">E:1</text>\n",
       "</g>\n",
       "<!-- __main__.BST.Node object at 0x7fc585732c50&#45;&#45;__main__.BST.Node object at 0x7fc585732ac8 -->\n",
       "<g id=\"edge1\" class=\"edge\">\n",
       "<title>__main__.BST.Node object at 0x7fc585732c50&#45;&#45;__main__.BST.Node object at 0x7fc585732ac8</title>\n",
       "<path fill=\"none\" stroke=\"#000000\" d=\"M80.3146,-183.8022C76.7761,-172.7252 72.2409,-158.528 68.6997,-147.4425\"/>\n",
       "</g>\n",
       "<!-- &lt;__main__.BST.Node object at 0x7fc585732c50&gt;left&#45;right -->\n",
       "<g id=\"node3\" class=\"node\">\n",
       "<title>&lt;__main__.BST.Node object at 0x7fc585732c50&gt;left&#45;right</title>\n",
       "<ellipse fill=\"#000000\" stroke=\"#000000\" cx=\"110\" cy=\"-129.6\" rx=\"1.8\" ry=\"1.8\"/>\n",
       "</g>\n",
       "<!-- __main__.BST.Node object at 0x7fc585732c50&#45;&#45;&lt;__main__.BST.Node object at 0x7fc585732c50&gt;left&#45;right -->\n",
       "<g id=\"edge2\" class=\"edge\">\n",
       "<title>__main__.BST.Node object at 0x7fc585732c50&#45;&#45;&lt;__main__.BST.Node object at 0x7fc585732c50&gt;left&#45;right</title>\n",
       "<path fill=\"none\" stroke=\"#000000\" d=\"M91.9326,-183.8022C98.0402,-165.4793 106.9936,-138.6192 109.391,-131.4271\"/>\n",
       "</g>\n",
       "<!-- __main__.BST.Node object at 0x7fc585732da0 -->\n",
       "<g id=\"node4\" class=\"node\">\n",
       "<title>__main__.BST.Node object at 0x7fc585732da0</title>\n",
       "<ellipse fill=\"none\" stroke=\"#000000\" cx=\"27\" cy=\"-57.6\" rx=\"27\" ry=\"18\"/>\n",
       "<text text-anchor=\"middle\" x=\"27\" y=\"-53.9\" font-family=\"Times,serif\" font-size=\"14.00\" fill=\"#000000\">A:2</text>\n",
       "</g>\n",
       "<!-- __main__.BST.Node object at 0x7fc585732ac8&#45;&#45;__main__.BST.Node object at 0x7fc585732da0 -->\n",
       "<g id=\"edge3\" class=\"edge\">\n",
       "<title>__main__.BST.Node object at 0x7fc585732ac8&#45;&#45;__main__.BST.Node object at 0x7fc585732da0</title>\n",
       "<path fill=\"none\" stroke=\"#000000\" d=\"M54.2854,-112.1708C48.6253,-100.8506 41.2784,-86.1568 35.6343,-74.8687\"/>\n",
       "</g>\n",
       "<!-- __main__.BST.Node object at 0x7fc585732c18 -->\n",
       "<g id=\"node5\" class=\"node\">\n",
       "<title>__main__.BST.Node object at 0x7fc585732c18</title>\n",
       "<ellipse fill=\"none\" stroke=\"#000000\" cx=\"99\" cy=\"-57.6\" rx=\"27\" ry=\"18\"/>\n",
       "<text text-anchor=\"middle\" x=\"99\" y=\"-53.9\" font-family=\"Times,serif\" font-size=\"14.00\" fill=\"#000000\">R:3</text>\n",
       "</g>\n",
       "<!-- __main__.BST.Node object at 0x7fc585732ac8&#45;&#45;__main__.BST.Node object at 0x7fc585732c18 -->\n",
       "<g id=\"edge4\" class=\"edge\">\n",
       "<title>__main__.BST.Node object at 0x7fc585732ac8&#45;&#45;__main__.BST.Node object at 0x7fc585732c18</title>\n",
       "<path fill=\"none\" stroke=\"#000000\" d=\"M71.7146,-112.1708C77.3747,-100.8506 84.7216,-86.1568 90.3657,-74.8687\"/>\n",
       "</g>\n",
       "<!-- &lt;__main__.BST.Node object at 0x7fc585732da0&gt;left&#45;none -->\n",
       "<g id=\"node6\" class=\"node\">\n",
       "<title>&lt;__main__.BST.Node object at 0x7fc585732da0&gt;left&#45;none</title>\n",
       "<ellipse fill=\"#000000\" stroke=\"#000000\" cx=\"16\" cy=\"-1.8\" rx=\"1.8\" ry=\"1.8\"/>\n",
       "</g>\n",
       "<!-- __main__.BST.Node object at 0x7fc585732da0&#45;&#45;&lt;__main__.BST.Node object at 0x7fc585732da0&gt;left&#45;none -->\n",
       "<g id=\"edge5\" class=\"edge\">\n",
       "<title>__main__.BST.Node object at 0x7fc585732da0&#45;&#45;&lt;__main__.BST.Node object at 0x7fc585732da0&gt;left&#45;none</title>\n",
       "<path fill=\"none\" stroke=\"#000000\" d=\"M23.459,-39.6374C20.796,-26.1289 17.4283,-9.0453 16.3493,-3.5719\"/>\n",
       "</g>\n",
       "<!-- &lt;__main__.BST.Node object at 0x7fc585732da0&gt;left&#45;right -->\n",
       "<g id=\"node7\" class=\"node\">\n",
       "<title>&lt;__main__.BST.Node object at 0x7fc585732da0&gt;left&#45;right</title>\n",
       "<ellipse fill=\"#000000\" stroke=\"#000000\" cx=\"38\" cy=\"-1.8\" rx=\"1.8\" ry=\"1.8\"/>\n",
       "</g>\n",
       "<!-- __main__.BST.Node object at 0x7fc585732da0&#45;&#45;&lt;__main__.BST.Node object at 0x7fc585732da0&gt;left&#45;right -->\n",
       "<g id=\"edge6\" class=\"edge\">\n",
       "<title>__main__.BST.Node object at 0x7fc585732da0&#45;&#45;&lt;__main__.BST.Node object at 0x7fc585732da0&gt;left&#45;right</title>\n",
       "<path fill=\"none\" stroke=\"#000000\" d=\"M30.541,-39.6374C33.204,-26.1289 36.5717,-9.0453 37.6507,-3.5719\"/>\n",
       "</g>\n",
       "<!-- &lt;__main__.BST.Node object at 0x7fc585732c18&gt;left&#45;none -->\n",
       "<g id=\"node8\" class=\"node\">\n",
       "<title>&lt;__main__.BST.Node object at 0x7fc585732c18&gt;left&#45;none</title>\n",
       "<ellipse fill=\"#000000\" stroke=\"#000000\" cx=\"88\" cy=\"-1.8\" rx=\"1.8\" ry=\"1.8\"/>\n",
       "</g>\n",
       "<!-- __main__.BST.Node object at 0x7fc585732c18&#45;&#45;&lt;__main__.BST.Node object at 0x7fc585732c18&gt;left&#45;none -->\n",
       "<g id=\"edge7\" class=\"edge\">\n",
       "<title>__main__.BST.Node object at 0x7fc585732c18&#45;&#45;&lt;__main__.BST.Node object at 0x7fc585732c18&gt;left&#45;none</title>\n",
       "<path fill=\"none\" stroke=\"#000000\" d=\"M95.459,-39.6374C92.796,-26.1289 89.4283,-9.0453 88.3493,-3.5719\"/>\n",
       "</g>\n",
       "<!-- &lt;__main__.BST.Node object at 0x7fc585732c18&gt;left&#45;right -->\n",
       "<g id=\"node9\" class=\"node\">\n",
       "<title>&lt;__main__.BST.Node object at 0x7fc585732c18&gt;left&#45;right</title>\n",
       "<ellipse fill=\"#000000\" stroke=\"#000000\" cx=\"110\" cy=\"-1.8\" rx=\"1.8\" ry=\"1.8\"/>\n",
       "</g>\n",
       "<!-- __main__.BST.Node object at 0x7fc585732c18&#45;&#45;&lt;__main__.BST.Node object at 0x7fc585732c18&gt;left&#45;right -->\n",
       "<g id=\"edge8\" class=\"edge\">\n",
       "<title>__main__.BST.Node object at 0x7fc585732c18&#45;&#45;&lt;__main__.BST.Node object at 0x7fc585732c18&gt;left&#45;right</title>\n",
       "<path fill=\"none\" stroke=\"#000000\" d=\"M102.541,-39.6374C105.204,-26.1289 108.5717,-9.0453 109.6507,-3.5719\"/>\n",
       "</g>\n",
       "</g>\n",
       "</svg>\n"
      ],
      "text/plain": [
       "<graphviz.dot.Graph at 0x7fc5857327f0>"
      ]
     },
     "metadata": {},
     "output_type": "display_data"
    },
    {
     "data": {
      "image/svg+xml": [
       "<?xml version=\"1.0\" encoding=\"UTF-8\" standalone=\"no\"?>\n",
       "<!DOCTYPE svg PUBLIC \"-//W3C//DTD SVG 1.1//EN\"\n",
       " \"http://www.w3.org/Graphics/SVG/1.1/DTD/svg11.dtd\">\n",
       "<!-- Generated by graphviz version 2.40.1 (20161225.0304)\n",
       " -->\n",
       "<!-- Title: %3 Pages: 1 -->\n",
       "<svg width=\"149pt\" height=\"300pt\"\n",
       " viewBox=\"0.00 0.00 148.80 299.60\" xmlns=\"http://www.w3.org/2000/svg\" xmlns:xlink=\"http://www.w3.org/1999/xlink\">\n",
       "<g id=\"graph0\" class=\"graph\" transform=\"scale(1 1) rotate(0) translate(4 295.6)\">\n",
       "<title>%3</title>\n",
       "<polygon fill=\"#ffffff\" stroke=\"transparent\" points=\"-4,4 -4,-295.6 144.8,-295.6 144.8,4 -4,4\"/>\n",
       "<!-- __main__.BST.Node object at 0x7fc585732c50 -->\n",
       "<g id=\"node1\" class=\"node\">\n",
       "<title>__main__.BST.Node object at 0x7fc585732c50</title>\n",
       "<ellipse fill=\"none\" stroke=\"#000000\" cx=\"100.8\" cy=\"-273.6\" rx=\"27\" ry=\"18\"/>\n",
       "<text text-anchor=\"middle\" x=\"100.8\" y=\"-269.9\" font-family=\"Times,serif\" font-size=\"14.00\" fill=\"#000000\">S:0</text>\n",
       "</g>\n",
       "<!-- __main__.BST.Node object at 0x7fc585732ac8 -->\n",
       "<g id=\"node2\" class=\"node\">\n",
       "<title>__main__.BST.Node object at 0x7fc585732ac8</title>\n",
       "<ellipse fill=\"none\" stroke=\"#000000\" cx=\"77.8\" cy=\"-201.6\" rx=\"27\" ry=\"18\"/>\n",
       "<text text-anchor=\"middle\" x=\"77.8\" y=\"-197.9\" font-family=\"Times,serif\" font-size=\"14.00\" fill=\"#000000\">E:1</text>\n",
       "</g>\n",
       "<!-- __main__.BST.Node object at 0x7fc585732c50&#45;&#45;__main__.BST.Node object at 0x7fc585732ac8 -->\n",
       "<g id=\"edge1\" class=\"edge\">\n",
       "<title>__main__.BST.Node object at 0x7fc585732c50&#45;&#45;__main__.BST.Node object at 0x7fc585732ac8</title>\n",
       "<path fill=\"none\" stroke=\"#000000\" d=\"M95.1146,-255.8022C91.5761,-244.7252 87.0409,-230.528 83.4997,-219.4425\"/>\n",
       "</g>\n",
       "<!-- &lt;__main__.BST.Node object at 0x7fc585732c50&gt;left&#45;right -->\n",
       "<g id=\"node3\" class=\"node\">\n",
       "<title>&lt;__main__.BST.Node object at 0x7fc585732c50&gt;left&#45;right</title>\n",
       "<ellipse fill=\"#000000\" stroke=\"#000000\" cx=\"124.8\" cy=\"-201.6\" rx=\"1.8\" ry=\"1.8\"/>\n",
       "</g>\n",
       "<!-- __main__.BST.Node object at 0x7fc585732c50&#45;&#45;&lt;__main__.BST.Node object at 0x7fc585732c50&gt;left&#45;right -->\n",
       "<g id=\"edge2\" class=\"edge\">\n",
       "<title>__main__.BST.Node object at 0x7fc585732c50&#45;&#45;&lt;__main__.BST.Node object at 0x7fc585732c50&gt;left&#45;right</title>\n",
       "<path fill=\"none\" stroke=\"#000000\" d=\"M106.7326,-255.8022C112.8402,-237.4793 121.7936,-210.6192 124.191,-203.4271\"/>\n",
       "</g>\n",
       "<!-- __main__.BST.Node object at 0x7fc585732da0 -->\n",
       "<g id=\"node4\" class=\"node\">\n",
       "<title>__main__.BST.Node object at 0x7fc585732da0</title>\n",
       "<ellipse fill=\"none\" stroke=\"#000000\" cx=\"41.8\" cy=\"-129.6\" rx=\"27\" ry=\"18\"/>\n",
       "<text text-anchor=\"middle\" x=\"41.8\" y=\"-125.9\" font-family=\"Times,serif\" font-size=\"14.00\" fill=\"#000000\">A:2</text>\n",
       "</g>\n",
       "<!-- __main__.BST.Node object at 0x7fc585732ac8&#45;&#45;__main__.BST.Node object at 0x7fc585732da0 -->\n",
       "<g id=\"edge3\" class=\"edge\">\n",
       "<title>__main__.BST.Node object at 0x7fc585732ac8&#45;&#45;__main__.BST.Node object at 0x7fc585732da0</title>\n",
       "<path fill=\"none\" stroke=\"#000000\" d=\"M69.0854,-184.1708C63.4253,-172.8506 56.0784,-158.1568 50.4343,-146.8687\"/>\n",
       "</g>\n",
       "<!-- __main__.BST.Node object at 0x7fc585732c18 -->\n",
       "<g id=\"node5\" class=\"node\">\n",
       "<title>__main__.BST.Node object at 0x7fc585732c18</title>\n",
       "<ellipse fill=\"none\" stroke=\"#000000\" cx=\"113.8\" cy=\"-129.6\" rx=\"27\" ry=\"18\"/>\n",
       "<text text-anchor=\"middle\" x=\"113.8\" y=\"-125.9\" font-family=\"Times,serif\" font-size=\"14.00\" fill=\"#000000\">R:3</text>\n",
       "</g>\n",
       "<!-- __main__.BST.Node object at 0x7fc585732ac8&#45;&#45;__main__.BST.Node object at 0x7fc585732c18 -->\n",
       "<g id=\"edge4\" class=\"edge\">\n",
       "<title>__main__.BST.Node object at 0x7fc585732ac8&#45;&#45;__main__.BST.Node object at 0x7fc585732c18</title>\n",
       "<path fill=\"none\" stroke=\"#000000\" d=\"M86.5146,-184.1708C92.1747,-172.8506 99.5216,-158.1568 105.1657,-146.8687\"/>\n",
       "</g>\n",
       "<!-- &lt;__main__.BST.Node object at 0x7fc585732da0&gt;left&#45;none -->\n",
       "<g id=\"node6\" class=\"node\">\n",
       "<title>&lt;__main__.BST.Node object at 0x7fc585732da0&gt;left&#45;none</title>\n",
       "<ellipse fill=\"#000000\" stroke=\"#000000\" cx=\"1.8\" cy=\"-57.6\" rx=\"1.8\" ry=\"1.8\"/>\n",
       "</g>\n",
       "<!-- __main__.BST.Node object at 0x7fc585732da0&#45;&#45;&lt;__main__.BST.Node object at 0x7fc585732da0&gt;left&#45;none -->\n",
       "<g id=\"edge5\" class=\"edge\">\n",
       "<title>__main__.BST.Node object at 0x7fc585732da0&#45;&#45;&lt;__main__.BST.Node object at 0x7fc585732da0&gt;left&#45;none</title>\n",
       "<path fill=\"none\" stroke=\"#000000\" d=\"M32.3206,-112.537C22.1554,-94.2397 6.9214,-66.8185 2.8379,-59.4681\"/>\n",
       "</g>\n",
       "<!-- __main__.BST.Node object at 0x7fc5857327f0 -->\n",
       "<g id=\"node7\" class=\"node\">\n",
       "<title>__main__.BST.Node object at 0x7fc5857327f0</title>\n",
       "<ellipse fill=\"none\" stroke=\"#000000\" cx=\"48.8\" cy=\"-57.6\" rx=\"27\" ry=\"18\"/>\n",
       "<text text-anchor=\"middle\" x=\"48.8\" y=\"-53.9\" font-family=\"Times,serif\" font-size=\"14.00\" fill=\"#000000\">C:4</text>\n",
       "</g>\n",
       "<!-- __main__.BST.Node object at 0x7fc585732da0&#45;&#45;__main__.BST.Node object at 0x7fc5857327f0 -->\n",
       "<g id=\"edge6\" class=\"edge\">\n",
       "<title>__main__.BST.Node object at 0x7fc585732da0&#45;&#45;__main__.BST.Node object at 0x7fc5857327f0</title>\n",
       "<path fill=\"none\" stroke=\"#000000\" d=\"M43.5664,-111.4314C44.6194,-100.6 45.9526,-86.8876 47.0098,-76.0133\"/>\n",
       "</g>\n",
       "<!-- &lt;__main__.BST.Node object at 0x7fc585732c18&gt;left&#45;none -->\n",
       "<g id=\"node10\" class=\"node\">\n",
       "<title>&lt;__main__.BST.Node object at 0x7fc585732c18&gt;left&#45;none</title>\n",
       "<ellipse fill=\"#000000\" stroke=\"#000000\" cx=\"107.8\" cy=\"-57.6\" rx=\"1.8\" ry=\"1.8\"/>\n",
       "</g>\n",
       "<!-- __main__.BST.Node object at 0x7fc585732c18&#45;&#45;&lt;__main__.BST.Node object at 0x7fc585732c18&gt;left&#45;none -->\n",
       "<g id=\"edge9\" class=\"edge\">\n",
       "<title>__main__.BST.Node object at 0x7fc585732c18&#45;&#45;&lt;__main__.BST.Node object at 0x7fc585732c18&gt;left&#45;none</title>\n",
       "<path fill=\"none\" stroke=\"#000000\" d=\"M112.2859,-111.4314C110.7585,-93.1014 108.5434,-66.5202 107.9506,-59.4068\"/>\n",
       "</g>\n",
       "<!-- &lt;__main__.BST.Node object at 0x7fc585732c18&gt;left&#45;right -->\n",
       "<g id=\"node11\" class=\"node\">\n",
       "<title>&lt;__main__.BST.Node object at 0x7fc585732c18&gt;left&#45;right</title>\n",
       "<ellipse fill=\"#000000\" stroke=\"#000000\" cx=\"129.8\" cy=\"-57.6\" rx=\"1.8\" ry=\"1.8\"/>\n",
       "</g>\n",
       "<!-- __main__.BST.Node object at 0x7fc585732c18&#45;&#45;&lt;__main__.BST.Node object at 0x7fc585732c18&gt;left&#45;right -->\n",
       "<g id=\"edge10\" class=\"edge\">\n",
       "<title>__main__.BST.Node object at 0x7fc585732c18&#45;&#45;&lt;__main__.BST.Node object at 0x7fc585732c18&gt;left&#45;right</title>\n",
       "<path fill=\"none\" stroke=\"#000000\" d=\"M117.8375,-111.4314C121.9108,-93.1014 127.8177,-66.5202 129.3985,-59.4068\"/>\n",
       "</g>\n",
       "<!-- &lt;__main__.BST.Node object at 0x7fc5857327f0&gt;left&#45;none -->\n",
       "<g id=\"node8\" class=\"node\">\n",
       "<title>&lt;__main__.BST.Node object at 0x7fc5857327f0&gt;left&#45;none</title>\n",
       "<ellipse fill=\"#000000\" stroke=\"#000000\" cx=\"37.8\" cy=\"-1.8\" rx=\"1.8\" ry=\"1.8\"/>\n",
       "</g>\n",
       "<!-- __main__.BST.Node object at 0x7fc5857327f0&#45;&#45;&lt;__main__.BST.Node object at 0x7fc5857327f0&gt;left&#45;none -->\n",
       "<g id=\"edge7\" class=\"edge\">\n",
       "<title>__main__.BST.Node object at 0x7fc5857327f0&#45;&#45;&lt;__main__.BST.Node object at 0x7fc5857327f0&gt;left&#45;none</title>\n",
       "<path fill=\"none\" stroke=\"#000000\" d=\"M45.259,-39.6374C42.596,-26.1289 39.2283,-9.0453 38.1493,-3.5719\"/>\n",
       "</g>\n",
       "<!-- &lt;__main__.BST.Node object at 0x7fc5857327f0&gt;left&#45;right -->\n",
       "<g id=\"node9\" class=\"node\">\n",
       "<title>&lt;__main__.BST.Node object at 0x7fc5857327f0&gt;left&#45;right</title>\n",
       "<ellipse fill=\"#000000\" stroke=\"#000000\" cx=\"59.8\" cy=\"-1.8\" rx=\"1.8\" ry=\"1.8\"/>\n",
       "</g>\n",
       "<!-- __main__.BST.Node object at 0x7fc5857327f0&#45;&#45;&lt;__main__.BST.Node object at 0x7fc5857327f0&gt;left&#45;right -->\n",
       "<g id=\"edge8\" class=\"edge\">\n",
       "<title>__main__.BST.Node object at 0x7fc5857327f0&#45;&#45;&lt;__main__.BST.Node object at 0x7fc5857327f0&gt;left&#45;right</title>\n",
       "<path fill=\"none\" stroke=\"#000000\" d=\"M52.341,-39.6374C55.004,-26.1289 58.3717,-9.0453 59.4507,-3.5719\"/>\n",
       "</g>\n",
       "</g>\n",
       "</svg>\n"
      ],
      "text/plain": [
       "<graphviz.dot.Graph at 0x7fc585732c88>"
      ]
     },
     "metadata": {},
     "output_type": "display_data"
    },
    {
     "data": {
      "image/svg+xml": [
       "<?xml version=\"1.0\" encoding=\"UTF-8\" standalone=\"no\"?>\n",
       "<!DOCTYPE svg PUBLIC \"-//W3C//DTD SVG 1.1//EN\"\n",
       " \"http://www.w3.org/Graphics/SVG/1.1/DTD/svg11.dtd\">\n",
       "<!-- Generated by graphviz version 2.40.1 (20161225.0304)\n",
       " -->\n",
       "<!-- Title: %3 Pages: 1 -->\n",
       "<svg width=\"178pt\" height=\"300pt\"\n",
       " viewBox=\"0.00 0.00 177.60 299.60\" xmlns=\"http://www.w3.org/2000/svg\" xmlns:xlink=\"http://www.w3.org/1999/xlink\">\n",
       "<g id=\"graph0\" class=\"graph\" transform=\"scale(1 1) rotate(0) translate(4 295.6)\">\n",
       "<title>%3</title>\n",
       "<polygon fill=\"#ffffff\" stroke=\"transparent\" points=\"-4,4 -4,-295.6 173.6,-295.6 173.6,4 -4,4\"/>\n",
       "<!-- __main__.BST.Node object at 0x7fc585732c50 -->\n",
       "<g id=\"node1\" class=\"node\">\n",
       "<title>__main__.BST.Node object at 0x7fc585732c50</title>\n",
       "<ellipse fill=\"none\" stroke=\"#000000\" cx=\"107.8\" cy=\"-273.6\" rx=\"27\" ry=\"18\"/>\n",
       "<text text-anchor=\"middle\" x=\"107.8\" y=\"-269.9\" font-family=\"Times,serif\" font-size=\"14.00\" fill=\"#000000\">S:0</text>\n",
       "</g>\n",
       "<!-- __main__.BST.Node object at 0x7fc585732ac8 -->\n",
       "<g id=\"node2\" class=\"node\">\n",
       "<title>__main__.BST.Node object at 0x7fc585732ac8</title>\n",
       "<ellipse fill=\"none\" stroke=\"#000000\" cx=\"84.8\" cy=\"-201.6\" rx=\"27\" ry=\"18\"/>\n",
       "<text text-anchor=\"middle\" x=\"84.8\" y=\"-197.9\" font-family=\"Times,serif\" font-size=\"14.00\" fill=\"#000000\">E:1</text>\n",
       "</g>\n",
       "<!-- __main__.BST.Node object at 0x7fc585732c50&#45;&#45;__main__.BST.Node object at 0x7fc585732ac8 -->\n",
       "<g id=\"edge1\" class=\"edge\">\n",
       "<title>__main__.BST.Node object at 0x7fc585732c50&#45;&#45;__main__.BST.Node object at 0x7fc585732ac8</title>\n",
       "<path fill=\"none\" stroke=\"#000000\" d=\"M102.1146,-255.8022C98.5761,-244.7252 94.0409,-230.528 90.4997,-219.4425\"/>\n",
       "</g>\n",
       "<!-- &lt;__main__.BST.Node object at 0x7fc585732c50&gt;left&#45;right -->\n",
       "<g id=\"node3\" class=\"node\">\n",
       "<title>&lt;__main__.BST.Node object at 0x7fc585732c50&gt;left&#45;right</title>\n",
       "<ellipse fill=\"#000000\" stroke=\"#000000\" cx=\"131.8\" cy=\"-201.6\" rx=\"1.8\" ry=\"1.8\"/>\n",
       "</g>\n",
       "<!-- __main__.BST.Node object at 0x7fc585732c50&#45;&#45;&lt;__main__.BST.Node object at 0x7fc585732c50&gt;left&#45;right -->\n",
       "<g id=\"edge2\" class=\"edge\">\n",
       "<title>__main__.BST.Node object at 0x7fc585732c50&#45;&#45;&lt;__main__.BST.Node object at 0x7fc585732c50&gt;left&#45;right</title>\n",
       "<path fill=\"none\" stroke=\"#000000\" d=\"M113.7326,-255.8022C119.8402,-237.4793 128.7936,-210.6192 131.191,-203.4271\"/>\n",
       "</g>\n",
       "<!-- __main__.BST.Node object at 0x7fc585732da0 -->\n",
       "<g id=\"node4\" class=\"node\">\n",
       "<title>__main__.BST.Node object at 0x7fc585732da0</title>\n",
       "<ellipse fill=\"none\" stroke=\"#000000\" cx=\"48.8\" cy=\"-129.6\" rx=\"27\" ry=\"18\"/>\n",
       "<text text-anchor=\"middle\" x=\"48.8\" y=\"-125.9\" font-family=\"Times,serif\" font-size=\"14.00\" fill=\"#000000\">A:2</text>\n",
       "</g>\n",
       "<!-- __main__.BST.Node object at 0x7fc585732ac8&#45;&#45;__main__.BST.Node object at 0x7fc585732da0 -->\n",
       "<g id=\"edge3\" class=\"edge\">\n",
       "<title>__main__.BST.Node object at 0x7fc585732ac8&#45;&#45;__main__.BST.Node object at 0x7fc585732da0</title>\n",
       "<path fill=\"none\" stroke=\"#000000\" d=\"M76.0854,-184.1708C70.4253,-172.8506 63.0784,-158.1568 57.4343,-146.8687\"/>\n",
       "</g>\n",
       "<!-- __main__.BST.Node object at 0x7fc585732c18 -->\n",
       "<g id=\"node5\" class=\"node\">\n",
       "<title>__main__.BST.Node object at 0x7fc585732c18</title>\n",
       "<ellipse fill=\"none\" stroke=\"#000000\" cx=\"120.8\" cy=\"-129.6\" rx=\"27\" ry=\"18\"/>\n",
       "<text text-anchor=\"middle\" x=\"120.8\" y=\"-125.9\" font-family=\"Times,serif\" font-size=\"14.00\" fill=\"#000000\">R:3</text>\n",
       "</g>\n",
       "<!-- __main__.BST.Node object at 0x7fc585732ac8&#45;&#45;__main__.BST.Node object at 0x7fc585732c18 -->\n",
       "<g id=\"edge4\" class=\"edge\">\n",
       "<title>__main__.BST.Node object at 0x7fc585732ac8&#45;&#45;__main__.BST.Node object at 0x7fc585732c18</title>\n",
       "<path fill=\"none\" stroke=\"#000000\" d=\"M93.5146,-184.1708C99.1747,-172.8506 106.5216,-158.1568 112.1657,-146.8687\"/>\n",
       "</g>\n",
       "<!-- &lt;__main__.BST.Node object at 0x7fc585732da0&gt;left&#45;none -->\n",
       "<g id=\"node6\" class=\"node\">\n",
       "<title>&lt;__main__.BST.Node object at 0x7fc585732da0&gt;left&#45;none</title>\n",
       "<ellipse fill=\"#000000\" stroke=\"#000000\" cx=\"1.8\" cy=\"-57.6\" rx=\"1.8\" ry=\"1.8\"/>\n",
       "</g>\n",
       "<!-- __main__.BST.Node object at 0x7fc585732da0&#45;&#45;&lt;__main__.BST.Node object at 0x7fc585732da0&gt;left&#45;none -->\n",
       "<g id=\"edge5\" class=\"edge\">\n",
       "<title>__main__.BST.Node object at 0x7fc585732da0&#45;&#45;&lt;__main__.BST.Node object at 0x7fc585732da0&gt;left&#45;none</title>\n",
       "<path fill=\"none\" stroke=\"#000000\" d=\"M37.6009,-113.1672C30.4082,-102.524 20.9256,-88.3253 12.8,-75.6 9.0157,-69.6735 4.7203,-62.5117 2.8092,-59.3013\"/>\n",
       "</g>\n",
       "<!-- __main__.BST.Node object at 0x7fc5857327f0 -->\n",
       "<g id=\"node7\" class=\"node\">\n",
       "<title>__main__.BST.Node object at 0x7fc5857327f0</title>\n",
       "<ellipse fill=\"none\" stroke=\"#000000\" cx=\"48.8\" cy=\"-57.6\" rx=\"27\" ry=\"18\"/>\n",
       "<text text-anchor=\"middle\" x=\"48.8\" y=\"-53.9\" font-family=\"Times,serif\" font-size=\"14.00\" fill=\"#000000\">C:4</text>\n",
       "</g>\n",
       "<!-- __main__.BST.Node object at 0x7fc585732da0&#45;&#45;__main__.BST.Node object at 0x7fc5857327f0 -->\n",
       "<g id=\"edge6\" class=\"edge\">\n",
       "<title>__main__.BST.Node object at 0x7fc585732da0&#45;&#45;__main__.BST.Node object at 0x7fc5857327f0</title>\n",
       "<path fill=\"none\" stroke=\"#000000\" d=\"M48.8,-111.4314C48.8,-100.6 48.8,-86.8876 48.8,-76.0133\"/>\n",
       "</g>\n",
       "<!-- __main__.BST.Node object at 0x7fc585732c88 -->\n",
       "<g id=\"node10\" class=\"node\">\n",
       "<title>__main__.BST.Node object at 0x7fc585732c88</title>\n",
       "<ellipse fill=\"none\" stroke=\"#000000\" cx=\"120.8\" cy=\"-57.6\" rx=\"27\" ry=\"18\"/>\n",
       "<text text-anchor=\"middle\" x=\"120.8\" y=\"-53.9\" font-family=\"Times,serif\" font-size=\"14.00\" fill=\"#000000\">H:5</text>\n",
       "</g>\n",
       "<!-- __main__.BST.Node object at 0x7fc585732c18&#45;&#45;__main__.BST.Node object at 0x7fc585732c88 -->\n",
       "<g id=\"edge9\" class=\"edge\">\n",
       "<title>__main__.BST.Node object at 0x7fc585732c18&#45;&#45;__main__.BST.Node object at 0x7fc585732c88</title>\n",
       "<path fill=\"none\" stroke=\"#000000\" d=\"M120.8,-111.4314C120.8,-100.6 120.8,-86.8876 120.8,-76.0133\"/>\n",
       "</g>\n",
       "<!-- &lt;__main__.BST.Node object at 0x7fc585732c18&gt;left&#45;right -->\n",
       "<g id=\"node11\" class=\"node\">\n",
       "<title>&lt;__main__.BST.Node object at 0x7fc585732c18&gt;left&#45;right</title>\n",
       "<ellipse fill=\"#000000\" stroke=\"#000000\" cx=\"167.8\" cy=\"-57.6\" rx=\"1.8\" ry=\"1.8\"/>\n",
       "</g>\n",
       "<!-- __main__.BST.Node object at 0x7fc585732c18&#45;&#45;&lt;__main__.BST.Node object at 0x7fc585732c18&gt;left&#45;right -->\n",
       "<g id=\"edge10\" class=\"edge\">\n",
       "<title>__main__.BST.Node object at 0x7fc585732c18&#45;&#45;&lt;__main__.BST.Node object at 0x7fc585732c18&gt;left&#45;right</title>\n",
       "<path fill=\"none\" stroke=\"#000000\" d=\"M131.9991,-113.1672C139.1918,-102.524 148.6744,-88.3253 156.8,-75.6 160.5843,-69.6735 164.8797,-62.5117 166.7908,-59.3013\"/>\n",
       "</g>\n",
       "<!-- &lt;__main__.BST.Node object at 0x7fc5857327f0&gt;left&#45;none -->\n",
       "<g id=\"node8\" class=\"node\">\n",
       "<title>&lt;__main__.BST.Node object at 0x7fc5857327f0&gt;left&#45;none</title>\n",
       "<ellipse fill=\"#000000\" stroke=\"#000000\" cx=\"37.8\" cy=\"-1.8\" rx=\"1.8\" ry=\"1.8\"/>\n",
       "</g>\n",
       "<!-- __main__.BST.Node object at 0x7fc5857327f0&#45;&#45;&lt;__main__.BST.Node object at 0x7fc5857327f0&gt;left&#45;none -->\n",
       "<g id=\"edge7\" class=\"edge\">\n",
       "<title>__main__.BST.Node object at 0x7fc5857327f0&#45;&#45;&lt;__main__.BST.Node object at 0x7fc5857327f0&gt;left&#45;none</title>\n",
       "<path fill=\"none\" stroke=\"#000000\" d=\"M45.259,-39.6374C42.596,-26.1289 39.2283,-9.0453 38.1493,-3.5719\"/>\n",
       "</g>\n",
       "<!-- &lt;__main__.BST.Node object at 0x7fc5857327f0&gt;left&#45;right -->\n",
       "<g id=\"node9\" class=\"node\">\n",
       "<title>&lt;__main__.BST.Node object at 0x7fc5857327f0&gt;left&#45;right</title>\n",
       "<ellipse fill=\"#000000\" stroke=\"#000000\" cx=\"59.8\" cy=\"-1.8\" rx=\"1.8\" ry=\"1.8\"/>\n",
       "</g>\n",
       "<!-- __main__.BST.Node object at 0x7fc5857327f0&#45;&#45;&lt;__main__.BST.Node object at 0x7fc5857327f0&gt;left&#45;right -->\n",
       "<g id=\"edge8\" class=\"edge\">\n",
       "<title>__main__.BST.Node object at 0x7fc5857327f0&#45;&#45;&lt;__main__.BST.Node object at 0x7fc5857327f0&gt;left&#45;right</title>\n",
       "<path fill=\"none\" stroke=\"#000000\" d=\"M52.341,-39.6374C55.004,-26.1289 58.3717,-9.0453 59.4507,-3.5719\"/>\n",
       "</g>\n",
       "<!-- &lt;__main__.BST.Node object at 0x7fc585732c88&gt;left&#45;none -->\n",
       "<g id=\"node12\" class=\"node\">\n",
       "<title>&lt;__main__.BST.Node object at 0x7fc585732c88&gt;left&#45;none</title>\n",
       "<ellipse fill=\"#000000\" stroke=\"#000000\" cx=\"109.8\" cy=\"-1.8\" rx=\"1.8\" ry=\"1.8\"/>\n",
       "</g>\n",
       "<!-- __main__.BST.Node object at 0x7fc585732c88&#45;&#45;&lt;__main__.BST.Node object at 0x7fc585732c88&gt;left&#45;none -->\n",
       "<g id=\"edge11\" class=\"edge\">\n",
       "<title>__main__.BST.Node object at 0x7fc585732c88&#45;&#45;&lt;__main__.BST.Node object at 0x7fc585732c88&gt;left&#45;none</title>\n",
       "<path fill=\"none\" stroke=\"#000000\" d=\"M117.259,-39.6374C114.596,-26.1289 111.2283,-9.0453 110.1493,-3.5719\"/>\n",
       "</g>\n",
       "<!-- &lt;__main__.BST.Node object at 0x7fc585732c88&gt;left&#45;right -->\n",
       "<g id=\"node13\" class=\"node\">\n",
       "<title>&lt;__main__.BST.Node object at 0x7fc585732c88&gt;left&#45;right</title>\n",
       "<ellipse fill=\"#000000\" stroke=\"#000000\" cx=\"131.8\" cy=\"-1.8\" rx=\"1.8\" ry=\"1.8\"/>\n",
       "</g>\n",
       "<!-- __main__.BST.Node object at 0x7fc585732c88&#45;&#45;&lt;__main__.BST.Node object at 0x7fc585732c88&gt;left&#45;right -->\n",
       "<g id=\"edge12\" class=\"edge\">\n",
       "<title>__main__.BST.Node object at 0x7fc585732c88&#45;&#45;&lt;__main__.BST.Node object at 0x7fc585732c88&gt;left&#45;right</title>\n",
       "<path fill=\"none\" stroke=\"#000000\" d=\"M124.341,-39.6374C127.004,-26.1289 130.3717,-9.0453 131.4507,-3.5719\"/>\n",
       "</g>\n",
       "</g>\n",
       "</svg>\n"
      ],
      "text/plain": [
       "<graphviz.dot.Graph at 0x7fc585732b70>"
      ]
     },
     "metadata": {},
     "output_type": "display_data"
    }
   ],
   "source": [
    "string = \"SEARCH\"\n",
    "bst = BST()\n",
    "for (pos, char) in enumerate(string):\n",
    "    bst.put(char, pos)\n",
    "    plotTree(bst)\n",
    "\n"
   ]
  },
  {
   "cell_type": "markdown",
   "metadata": {},
   "source": [
    "#### Übung\n",
    "\n",
    "Nun sind wir bereit erste Experiment mit dem Baum durchzuführen. \n",
    "\n",
    "Probieren Sie folgendes aus:\n",
    "* Was passiert, wenn Sie einen Schlüssel (mit unterschiedlichen Werten) zweimal einfügen?\n",
    "* Was passiert wenn Sie eine bereits sortiere Liste einfügen?\n",
    "* Können Sie einen perfekten Baum der Höhe 2 kreieren?\n",
    "* Erstellen Sie zufällige Sequenzen und schauen Sie wie hoch der Baum im Schnitt wird\n",
    "* Schreiben Sie einen Sortieralgorithmus, welcher den binären Baum nutzt (Hinweis, verwenden Sie die Methode ```keys```)"
   ]
  },
  {
   "cell_type": "markdown",
   "metadata": {},
   "source": [
    " ### Ordnungsbasierte Operationen"
   ]
  },
  {
   "cell_type": "markdown",
   "metadata": {},
   "source": [
    "Als nächsten zeigen wir einfache Implementation der Ordnungsbasierten Operationen, insbesondere ```min```, ```floor```, ```rank```, und ```select```. Um diese Methoden zu verstehen, visualisiert man am besten nochmals den Baum, und überlegt sich anhand der Datenstruktur, wie man diese implementieren sollte. Der Code folgt bei allen Methoden genau der Datenstruktur. \n",
    "\n",
    "*Anmerkung: Diese Klasse ```BSTWithOrderedOps``` erbt von der Klasse BST. Dies wurde hier so gemacht, damit wir die Implementation in zwei Teile aufteilen und separat diskutieren können. In der Praxis würde man diese Methoden natürlich alle in derselben Klasse implementieren.*"
   ]
  },
  {
   "cell_type": "code",
   "execution_count": 142,
   "metadata": {},
   "outputs": [],
   "source": [
    "class BSTWithOrderedOps(BST):\n",
    "    def min(self):\n",
    "        return self._min(self._root).key\n",
    "    \n",
    "    def _min(self, node):\n",
    "        if node.left == None:\n",
    "            return node\n",
    "        else:\n",
    "            return self._min(node.left)\n",
    "    \n",
    "    def floor(self, key):\n",
    "        return self._floor(self._root, key).key\n",
    "    \n",
    "    def _floor(self, node, key):\n",
    "        if node == None:\n",
    "            return None;\n",
    "        \n",
    "        if key == node.key:\n",
    "            return node\n",
    "        elif key <  node.key:\n",
    "            return self._floor(node.left, key)\n",
    "        else:\n",
    "            t = self._floor(node.right, key)\n",
    "            if t != None:\n",
    "                return t\n",
    "            else: \n",
    "                return node\n",
    "            \n",
    "    def select(self, k):\n",
    "        return self._select(self._root, k).key\n",
    "\n",
    "    def _select(self, node, k):\n",
    "        if node == None:\n",
    "            return None\n",
    "        t = self._size(node.left);\n",
    "        if t > k: \n",
    "            return self._select(node.left,  k)\n",
    "        elif t < k:\n",
    "            return self._select(node.right, k - t - 1)\n",
    "        else:\n",
    "            return node;\n",
    "        \n",
    "    def rank(self, key):\n",
    "        return self._rank(self._root, key)\n",
    "    \n",
    "    def _rank(self, node, key):\n",
    "        if node == None:\n",
    "            return 0\n",
    "    \n",
    "        if key < node.key: \n",
    "            return self._rank(node.left, key)\n",
    "        elif key > node.key:\n",
    "            return 1 + self._size(node.left) + self._rank(node.right, key)\n",
    "        else:\n",
    "            return self._size(node.left)"
   ]
  },
  {
   "cell_type": "markdown",
   "metadata": {},
   "source": [
    "Die Klasse benutzt man genau wie die Klasse ```BST```. Nur diesmal können wir auch auf die ordnungsbasierten Operationen zugreifen:"
   ]
  },
  {
   "cell_type": "code",
   "execution_count": 143,
   "metadata": {},
   "outputs": [],
   "source": [
    "bst = BSTWithOrderedOps()\n",
    "for key in list(\"MATHEMATICSANDCOMPUTERSCIENCE\"):\n",
    "    bst.put(key, \"value\")"
   ]
  },
  {
   "cell_type": "code",
   "execution_count": 150,
   "metadata": {},
   "outputs": [
    {
     "name": "stdout",
     "output_type": "stream",
     "text": [
      "min:  A\n",
      "floor(G): E\n",
      "rank(S): 11\n",
      "select(7): S\n"
     ]
    }
   ],
   "source": [
    "print(\"min: \", bst.min())\n",
    "print(\"floor(G): \"+ bst.floor(\"G\"))\n",
    "print(\"rank(S): \" + str(bst.rank(\"S\")))\n",
    "print(\"select(7): \" + bst.select(11))\n"
   ]
  },
  {
   "cell_type": "markdown",
   "metadata": {},
   "source": [
    "#### Übung\n",
    "\n",
    "* Experimentieren Sie mit den Methoden, bis Sie genau verstehen, was diese machen.\n",
    "    * Testen Sie verschiedene Fälle aus (Schlüssel vorhanden, nicht vorhanden, ...)\n",
    "* Was macht die Methode select? Welche Eigenschaft der Bäume wird für die Implementation ausgenutzt?\n",
    "* Fügen Sie print statements in den Code ein, damit Sie die Entscheidungen (also ob man in den linken oder rechten Teilbaum geht), nachvollziehen können und testen Sie die Methoden mit einfachen Inputdaten. "
   ]
  },
  {
   "cell_type": "markdown",
   "metadata": {
    "collapsed": true
   },
   "source": [
    "### Löschen von Knoten"
   ]
  },
  {
   "cell_type": "markdown",
   "metadata": {},
   "source": [
    "Als letztes zeigen wir noch eine Implementation der Löschoperationen nach Hibbard.\n",
    "Der Code ist etwas trickreich. Zum Verständnis sollte man sich nochmals die drei Spezialfälle in Erinnerung rufen, die in den Folien besprochen wurden. Ein weitere Schlüssel zum Verständnis ist zu beachten, dass die Verweise auf den linken und rechten Teilbaum jeweils auf dem \"Rückweg\" neu gesetzt werden (analog der ```put``` Methode). Um ein Blatt zu löschen genügt es also, beim entsprechenden Node ```None``` zurückzugeben. "
   ]
  },
  {
   "cell_type": "code",
   "execution_count": 156,
   "metadata": {},
   "outputs": [],
   "source": [
    "class BSTWithDelete(BSTWithOrderedOps):\n",
    "    \n",
    "    def deleteMin(self):\n",
    "        self._deleteMin(self._root)\n",
    "\n",
    "    def _deleteMin(self, node): \n",
    "        if node.left == None:\n",
    "            return node.right;\n",
    "        node.left = self._deleteMin(node.left);\n",
    "        node.size = self._size(node.left) + self._size(node.right) + 1;\n",
    "        return node;\n",
    "    \n",
    "\n",
    "    \n",
    "    def delete(self, key):\n",
    "        self._root = self._delete(self._root, key)\n",
    "    \n",
    "    def _delete(self, node, key):\n",
    "        if node == None:\n",
    "            return None;\n",
    "        \n",
    "        if  key < node.key: \n",
    "            node.left = self._delete(node.left, key)\n",
    "        elif key > node.key:\n",
    "            node.right = self._delete(node.right, key);\n",
    "        else: # key == node.key (zu löschender Knoten)\n",
    "            if node.right == None:\n",
    "                return node.left\n",
    "            if node.left == None:\n",
    "                return node.right            \n",
    "            t = node;\n",
    "            node = self._min(t.right)\n",
    "            node.right = self._deleteMin(t.right)\n",
    "            node.left = t.left\n",
    "            \n",
    "        node.size = self._size(node.left) + self._size(node.right) + 1;\n",
    "        return node"
   ]
  },
  {
   "cell_type": "markdown",
   "metadata": {},
   "source": [
    "Der folgende Code illustriert, wie sich der Baum ändert, wenn wir einen Knoten löschen, welcher zwei Kinder hat. "
   ]
  },
  {
   "cell_type": "code",
   "execution_count": 197,
   "metadata": {},
   "outputs": [
    {
     "data": {
      "image/svg+xml": [
       "<?xml version=\"1.0\" encoding=\"UTF-8\" standalone=\"no\"?>\n",
       "<!DOCTYPE svg PUBLIC \"-//W3C//DTD SVG 1.1//EN\"\n",
       " \"http://www.w3.org/Graphics/SVG/1.1/DTD/svg11.dtd\">\n",
       "<!-- Generated by graphviz version 2.40.1 (20161225.0304)\n",
       " -->\n",
       "<!-- Title: %3 Pages: 1 -->\n",
       "<svg width=\"178pt\" height=\"300pt\"\n",
       " viewBox=\"0.00 0.00 177.60 299.60\" xmlns=\"http://www.w3.org/2000/svg\" xmlns:xlink=\"http://www.w3.org/1999/xlink\">\n",
       "<g id=\"graph0\" class=\"graph\" transform=\"scale(1 1) rotate(0) translate(4 295.6)\">\n",
       "<title>%3</title>\n",
       "<polygon fill=\"#ffffff\" stroke=\"transparent\" points=\"-4,4 -4,-295.6 173.6,-295.6 173.6,4 -4,4\"/>\n",
       "<!-- __main__.BST.Node object at 0x7f4a50313208 -->\n",
       "<g id=\"node1\" class=\"node\">\n",
       "<title>__main__.BST.Node object at 0x7f4a50313208</title>\n",
       "<ellipse fill=\"none\" stroke=\"#000000\" cx=\"107.8\" cy=\"-273.6\" rx=\"27\" ry=\"18\"/>\n",
       "<text text-anchor=\"middle\" x=\"107.8\" y=\"-269.9\" font-family=\"Times,serif\" font-size=\"14.00\" fill=\"#000000\">S:0</text>\n",
       "</g>\n",
       "<!-- __main__.BST.Node object at 0x7f4a50313d68 -->\n",
       "<g id=\"node2\" class=\"node\">\n",
       "<title>__main__.BST.Node object at 0x7f4a50313d68</title>\n",
       "<ellipse fill=\"none\" stroke=\"#000000\" cx=\"84.8\" cy=\"-201.6\" rx=\"27\" ry=\"18\"/>\n",
       "<text text-anchor=\"middle\" x=\"84.8\" y=\"-197.9\" font-family=\"Times,serif\" font-size=\"14.00\" fill=\"#000000\">E:1</text>\n",
       "</g>\n",
       "<!-- __main__.BST.Node object at 0x7f4a50313208&#45;&#45;__main__.BST.Node object at 0x7f4a50313d68 -->\n",
       "<g id=\"edge1\" class=\"edge\">\n",
       "<title>__main__.BST.Node object at 0x7f4a50313208&#45;&#45;__main__.BST.Node object at 0x7f4a50313d68</title>\n",
       "<path fill=\"none\" stroke=\"#000000\" d=\"M102.1146,-255.8022C98.5761,-244.7252 94.0409,-230.528 90.4997,-219.4425\"/>\n",
       "</g>\n",
       "<!-- &lt;__main__.BST.Node object at 0x7f4a50313208&gt;left&#45;right -->\n",
       "<g id=\"node3\" class=\"node\">\n",
       "<title>&lt;__main__.BST.Node object at 0x7f4a50313208&gt;left&#45;right</title>\n",
       "<ellipse fill=\"#000000\" stroke=\"#000000\" cx=\"131.8\" cy=\"-201.6\" rx=\"1.8\" ry=\"1.8\"/>\n",
       "</g>\n",
       "<!-- __main__.BST.Node object at 0x7f4a50313208&#45;&#45;&lt;__main__.BST.Node object at 0x7f4a50313208&gt;left&#45;right -->\n",
       "<g id=\"edge2\" class=\"edge\">\n",
       "<title>__main__.BST.Node object at 0x7f4a50313208&#45;&#45;&lt;__main__.BST.Node object at 0x7f4a50313208&gt;left&#45;right</title>\n",
       "<path fill=\"none\" stroke=\"#000000\" d=\"M113.7326,-255.8022C119.8402,-237.4793 128.7936,-210.6192 131.191,-203.4271\"/>\n",
       "</g>\n",
       "<!-- __main__.BST.Node object at 0x7f4a503136a0 -->\n",
       "<g id=\"node4\" class=\"node\">\n",
       "<title>__main__.BST.Node object at 0x7f4a503136a0</title>\n",
       "<ellipse fill=\"none\" stroke=\"#000000\" cx=\"48.8\" cy=\"-129.6\" rx=\"27\" ry=\"18\"/>\n",
       "<text text-anchor=\"middle\" x=\"48.8\" y=\"-125.9\" font-family=\"Times,serif\" font-size=\"14.00\" fill=\"#000000\">A:2</text>\n",
       "</g>\n",
       "<!-- __main__.BST.Node object at 0x7f4a50313d68&#45;&#45;__main__.BST.Node object at 0x7f4a503136a0 -->\n",
       "<g id=\"edge3\" class=\"edge\">\n",
       "<title>__main__.BST.Node object at 0x7f4a50313d68&#45;&#45;__main__.BST.Node object at 0x7f4a503136a0</title>\n",
       "<path fill=\"none\" stroke=\"#000000\" d=\"M76.0854,-184.1708C70.4253,-172.8506 63.0784,-158.1568 57.4343,-146.8687\"/>\n",
       "</g>\n",
       "<!-- __main__.BST.Node object at 0x7f4a502de198 -->\n",
       "<g id=\"node5\" class=\"node\">\n",
       "<title>__main__.BST.Node object at 0x7f4a502de198</title>\n",
       "<ellipse fill=\"none\" stroke=\"#000000\" cx=\"120.8\" cy=\"-129.6\" rx=\"27\" ry=\"18\"/>\n",
       "<text text-anchor=\"middle\" x=\"120.8\" y=\"-125.9\" font-family=\"Times,serif\" font-size=\"14.00\" fill=\"#000000\">R:3</text>\n",
       "</g>\n",
       "<!-- __main__.BST.Node object at 0x7f4a50313d68&#45;&#45;__main__.BST.Node object at 0x7f4a502de198 -->\n",
       "<g id=\"edge4\" class=\"edge\">\n",
       "<title>__main__.BST.Node object at 0x7f4a50313d68&#45;&#45;__main__.BST.Node object at 0x7f4a502de198</title>\n",
       "<path fill=\"none\" stroke=\"#000000\" d=\"M93.5146,-184.1708C99.1747,-172.8506 106.5216,-158.1568 112.1657,-146.8687\"/>\n",
       "</g>\n",
       "<!-- &lt;__main__.BST.Node object at 0x7f4a503136a0&gt;left&#45;none -->\n",
       "<g id=\"node6\" class=\"node\">\n",
       "<title>&lt;__main__.BST.Node object at 0x7f4a503136a0&gt;left&#45;none</title>\n",
       "<ellipse fill=\"#000000\" stroke=\"#000000\" cx=\"1.8\" cy=\"-57.6\" rx=\"1.8\" ry=\"1.8\"/>\n",
       "</g>\n",
       "<!-- __main__.BST.Node object at 0x7f4a503136a0&#45;&#45;&lt;__main__.BST.Node object at 0x7f4a503136a0&gt;left&#45;none -->\n",
       "<g id=\"edge5\" class=\"edge\">\n",
       "<title>__main__.BST.Node object at 0x7f4a503136a0&#45;&#45;&lt;__main__.BST.Node object at 0x7f4a503136a0&gt;left&#45;none</title>\n",
       "<path fill=\"none\" stroke=\"#000000\" d=\"M37.6009,-113.1672C30.4082,-102.524 20.9256,-88.3253 12.8,-75.6 9.0157,-69.6735 4.7203,-62.5117 2.8092,-59.3013\"/>\n",
       "</g>\n",
       "<!-- __main__.BST.Node object at 0x7f4a502de1d0 -->\n",
       "<g id=\"node7\" class=\"node\">\n",
       "<title>__main__.BST.Node object at 0x7f4a502de1d0</title>\n",
       "<ellipse fill=\"none\" stroke=\"#000000\" cx=\"48.8\" cy=\"-57.6\" rx=\"27\" ry=\"18\"/>\n",
       "<text text-anchor=\"middle\" x=\"48.8\" y=\"-53.9\" font-family=\"Times,serif\" font-size=\"14.00\" fill=\"#000000\">C:4</text>\n",
       "</g>\n",
       "<!-- __main__.BST.Node object at 0x7f4a503136a0&#45;&#45;__main__.BST.Node object at 0x7f4a502de1d0 -->\n",
       "<g id=\"edge6\" class=\"edge\">\n",
       "<title>__main__.BST.Node object at 0x7f4a503136a0&#45;&#45;__main__.BST.Node object at 0x7f4a502de1d0</title>\n",
       "<path fill=\"none\" stroke=\"#000000\" d=\"M48.8,-111.4314C48.8,-100.6 48.8,-86.8876 48.8,-76.0133\"/>\n",
       "</g>\n",
       "<!-- __main__.BST.Node object at 0x7f4a502de2b0 -->\n",
       "<g id=\"node10\" class=\"node\">\n",
       "<title>__main__.BST.Node object at 0x7f4a502de2b0</title>\n",
       "<ellipse fill=\"none\" stroke=\"#000000\" cx=\"120.8\" cy=\"-57.6\" rx=\"27\" ry=\"18\"/>\n",
       "<text text-anchor=\"middle\" x=\"120.8\" y=\"-53.9\" font-family=\"Times,serif\" font-size=\"14.00\" fill=\"#000000\">H:5</text>\n",
       "</g>\n",
       "<!-- __main__.BST.Node object at 0x7f4a502de198&#45;&#45;__main__.BST.Node object at 0x7f4a502de2b0 -->\n",
       "<g id=\"edge9\" class=\"edge\">\n",
       "<title>__main__.BST.Node object at 0x7f4a502de198&#45;&#45;__main__.BST.Node object at 0x7f4a502de2b0</title>\n",
       "<path fill=\"none\" stroke=\"#000000\" d=\"M120.8,-111.4314C120.8,-100.6 120.8,-86.8876 120.8,-76.0133\"/>\n",
       "</g>\n",
       "<!-- &lt;__main__.BST.Node object at 0x7f4a502de198&gt;left&#45;right -->\n",
       "<g id=\"node11\" class=\"node\">\n",
       "<title>&lt;__main__.BST.Node object at 0x7f4a502de198&gt;left&#45;right</title>\n",
       "<ellipse fill=\"#000000\" stroke=\"#000000\" cx=\"167.8\" cy=\"-57.6\" rx=\"1.8\" ry=\"1.8\"/>\n",
       "</g>\n",
       "<!-- __main__.BST.Node object at 0x7f4a502de198&#45;&#45;&lt;__main__.BST.Node object at 0x7f4a502de198&gt;left&#45;right -->\n",
       "<g id=\"edge10\" class=\"edge\">\n",
       "<title>__main__.BST.Node object at 0x7f4a502de198&#45;&#45;&lt;__main__.BST.Node object at 0x7f4a502de198&gt;left&#45;right</title>\n",
       "<path fill=\"none\" stroke=\"#000000\" d=\"M131.9991,-113.1672C139.1918,-102.524 148.6744,-88.3253 156.8,-75.6 160.5843,-69.6735 164.8797,-62.5117 166.7908,-59.3013\"/>\n",
       "</g>\n",
       "<!-- &lt;__main__.BST.Node object at 0x7f4a502de1d0&gt;left&#45;none -->\n",
       "<g id=\"node8\" class=\"node\">\n",
       "<title>&lt;__main__.BST.Node object at 0x7f4a502de1d0&gt;left&#45;none</title>\n",
       "<ellipse fill=\"#000000\" stroke=\"#000000\" cx=\"37.8\" cy=\"-1.8\" rx=\"1.8\" ry=\"1.8\"/>\n",
       "</g>\n",
       "<!-- __main__.BST.Node object at 0x7f4a502de1d0&#45;&#45;&lt;__main__.BST.Node object at 0x7f4a502de1d0&gt;left&#45;none -->\n",
       "<g id=\"edge7\" class=\"edge\">\n",
       "<title>__main__.BST.Node object at 0x7f4a502de1d0&#45;&#45;&lt;__main__.BST.Node object at 0x7f4a502de1d0&gt;left&#45;none</title>\n",
       "<path fill=\"none\" stroke=\"#000000\" d=\"M45.259,-39.6374C42.596,-26.1289 39.2283,-9.0453 38.1493,-3.5719\"/>\n",
       "</g>\n",
       "<!-- &lt;__main__.BST.Node object at 0x7f4a502de1d0&gt;left&#45;right -->\n",
       "<g id=\"node9\" class=\"node\">\n",
       "<title>&lt;__main__.BST.Node object at 0x7f4a502de1d0&gt;left&#45;right</title>\n",
       "<ellipse fill=\"#000000\" stroke=\"#000000\" cx=\"59.8\" cy=\"-1.8\" rx=\"1.8\" ry=\"1.8\"/>\n",
       "</g>\n",
       "<!-- __main__.BST.Node object at 0x7f4a502de1d0&#45;&#45;&lt;__main__.BST.Node object at 0x7f4a502de1d0&gt;left&#45;right -->\n",
       "<g id=\"edge8\" class=\"edge\">\n",
       "<title>__main__.BST.Node object at 0x7f4a502de1d0&#45;&#45;&lt;__main__.BST.Node object at 0x7f4a502de1d0&gt;left&#45;right</title>\n",
       "<path fill=\"none\" stroke=\"#000000\" d=\"M52.341,-39.6374C55.004,-26.1289 58.3717,-9.0453 59.4507,-3.5719\"/>\n",
       "</g>\n",
       "<!-- &lt;__main__.BST.Node object at 0x7f4a502de2b0&gt;left&#45;none -->\n",
       "<g id=\"node12\" class=\"node\">\n",
       "<title>&lt;__main__.BST.Node object at 0x7f4a502de2b0&gt;left&#45;none</title>\n",
       "<ellipse fill=\"#000000\" stroke=\"#000000\" cx=\"109.8\" cy=\"-1.8\" rx=\"1.8\" ry=\"1.8\"/>\n",
       "</g>\n",
       "<!-- __main__.BST.Node object at 0x7f4a502de2b0&#45;&#45;&lt;__main__.BST.Node object at 0x7f4a502de2b0&gt;left&#45;none -->\n",
       "<g id=\"edge11\" class=\"edge\">\n",
       "<title>__main__.BST.Node object at 0x7f4a502de2b0&#45;&#45;&lt;__main__.BST.Node object at 0x7f4a502de2b0&gt;left&#45;none</title>\n",
       "<path fill=\"none\" stroke=\"#000000\" d=\"M117.259,-39.6374C114.596,-26.1289 111.2283,-9.0453 110.1493,-3.5719\"/>\n",
       "</g>\n",
       "<!-- &lt;__main__.BST.Node object at 0x7f4a502de2b0&gt;left&#45;right -->\n",
       "<g id=\"node13\" class=\"node\">\n",
       "<title>&lt;__main__.BST.Node object at 0x7f4a502de2b0&gt;left&#45;right</title>\n",
       "<ellipse fill=\"#000000\" stroke=\"#000000\" cx=\"131.8\" cy=\"-1.8\" rx=\"1.8\" ry=\"1.8\"/>\n",
       "</g>\n",
       "<!-- __main__.BST.Node object at 0x7f4a502de2b0&#45;&#45;&lt;__main__.BST.Node object at 0x7f4a502de2b0&gt;left&#45;right -->\n",
       "<g id=\"edge12\" class=\"edge\">\n",
       "<title>__main__.BST.Node object at 0x7f4a502de2b0&#45;&#45;&lt;__main__.BST.Node object at 0x7f4a502de2b0&gt;left&#45;right</title>\n",
       "<path fill=\"none\" stroke=\"#000000\" d=\"M124.341,-39.6374C127.004,-26.1289 130.3717,-9.0453 131.4507,-3.5719\"/>\n",
       "</g>\n",
       "</g>\n",
       "</svg>\n"
      ],
      "text/plain": [
       "<graphviz.dot.Graph at 0x7f4a50313a20>"
      ]
     },
     "metadata": {},
     "output_type": "display_data"
    },
    {
     "data": {
      "image/svg+xml": [
       "<?xml version=\"1.0\" encoding=\"UTF-8\" standalone=\"no\"?>\n",
       "<!DOCTYPE svg PUBLIC \"-//W3C//DTD SVG 1.1//EN\"\n",
       " \"http://www.w3.org/Graphics/SVG/1.1/DTD/svg11.dtd\">\n",
       "<!-- Generated by graphviz version 2.40.1 (20161225.0304)\n",
       " -->\n",
       "<!-- Title: %3 Pages: 1 -->\n",
       "<svg width=\"149pt\" height=\"300pt\"\n",
       " viewBox=\"0.00 0.00 148.80 299.60\" xmlns=\"http://www.w3.org/2000/svg\" xmlns:xlink=\"http://www.w3.org/1999/xlink\">\n",
       "<g id=\"graph0\" class=\"graph\" transform=\"scale(1 1) rotate(0) translate(4 295.6)\">\n",
       "<title>%3</title>\n",
       "<polygon fill=\"#ffffff\" stroke=\"transparent\" points=\"-4,4 -4,-295.6 144.8,-295.6 144.8,4 -4,4\"/>\n",
       "<!-- __main__.BST.Node object at 0x7f4a50313208 -->\n",
       "<g id=\"node1\" class=\"node\">\n",
       "<title>__main__.BST.Node object at 0x7f4a50313208</title>\n",
       "<ellipse fill=\"none\" stroke=\"#000000\" cx=\"100.8\" cy=\"-273.6\" rx=\"27\" ry=\"18\"/>\n",
       "<text text-anchor=\"middle\" x=\"100.8\" y=\"-269.9\" font-family=\"Times,serif\" font-size=\"14.00\" fill=\"#000000\">S:0</text>\n",
       "</g>\n",
       "<!-- __main__.BST.Node object at 0x7f4a502de2b0 -->\n",
       "<g id=\"node2\" class=\"node\">\n",
       "<title>__main__.BST.Node object at 0x7f4a502de2b0</title>\n",
       "<ellipse fill=\"none\" stroke=\"#000000\" cx=\"77.8\" cy=\"-201.6\" rx=\"27\" ry=\"18\"/>\n",
       "<text text-anchor=\"middle\" x=\"77.8\" y=\"-197.9\" font-family=\"Times,serif\" font-size=\"14.00\" fill=\"#000000\">H:5</text>\n",
       "</g>\n",
       "<!-- __main__.BST.Node object at 0x7f4a50313208&#45;&#45;__main__.BST.Node object at 0x7f4a502de2b0 -->\n",
       "<g id=\"edge1\" class=\"edge\">\n",
       "<title>__main__.BST.Node object at 0x7f4a50313208&#45;&#45;__main__.BST.Node object at 0x7f4a502de2b0</title>\n",
       "<path fill=\"none\" stroke=\"#000000\" d=\"M95.1146,-255.8022C91.5761,-244.7252 87.0409,-230.528 83.4997,-219.4425\"/>\n",
       "</g>\n",
       "<!-- &lt;__main__.BST.Node object at 0x7f4a50313208&gt;left&#45;right -->\n",
       "<g id=\"node3\" class=\"node\">\n",
       "<title>&lt;__main__.BST.Node object at 0x7f4a50313208&gt;left&#45;right</title>\n",
       "<ellipse fill=\"#000000\" stroke=\"#000000\" cx=\"124.8\" cy=\"-201.6\" rx=\"1.8\" ry=\"1.8\"/>\n",
       "</g>\n",
       "<!-- __main__.BST.Node object at 0x7f4a50313208&#45;&#45;&lt;__main__.BST.Node object at 0x7f4a50313208&gt;left&#45;right -->\n",
       "<g id=\"edge2\" class=\"edge\">\n",
       "<title>__main__.BST.Node object at 0x7f4a50313208&#45;&#45;&lt;__main__.BST.Node object at 0x7f4a50313208&gt;left&#45;right</title>\n",
       "<path fill=\"none\" stroke=\"#000000\" d=\"M106.7326,-255.8022C112.8402,-237.4793 121.7936,-210.6192 124.191,-203.4271\"/>\n",
       "</g>\n",
       "<!-- __main__.BST.Node object at 0x7f4a503136a0 -->\n",
       "<g id=\"node4\" class=\"node\">\n",
       "<title>__main__.BST.Node object at 0x7f4a503136a0</title>\n",
       "<ellipse fill=\"none\" stroke=\"#000000\" cx=\"41.8\" cy=\"-129.6\" rx=\"27\" ry=\"18\"/>\n",
       "<text text-anchor=\"middle\" x=\"41.8\" y=\"-125.9\" font-family=\"Times,serif\" font-size=\"14.00\" fill=\"#000000\">A:2</text>\n",
       "</g>\n",
       "<!-- __main__.BST.Node object at 0x7f4a502de2b0&#45;&#45;__main__.BST.Node object at 0x7f4a503136a0 -->\n",
       "<g id=\"edge3\" class=\"edge\">\n",
       "<title>__main__.BST.Node object at 0x7f4a502de2b0&#45;&#45;__main__.BST.Node object at 0x7f4a503136a0</title>\n",
       "<path fill=\"none\" stroke=\"#000000\" d=\"M69.0854,-184.1708C63.4253,-172.8506 56.0784,-158.1568 50.4343,-146.8687\"/>\n",
       "</g>\n",
       "<!-- __main__.BST.Node object at 0x7f4a502de198 -->\n",
       "<g id=\"node5\" class=\"node\">\n",
       "<title>__main__.BST.Node object at 0x7f4a502de198</title>\n",
       "<ellipse fill=\"none\" stroke=\"#000000\" cx=\"113.8\" cy=\"-129.6\" rx=\"27\" ry=\"18\"/>\n",
       "<text text-anchor=\"middle\" x=\"113.8\" y=\"-125.9\" font-family=\"Times,serif\" font-size=\"14.00\" fill=\"#000000\">R:3</text>\n",
       "</g>\n",
       "<!-- __main__.BST.Node object at 0x7f4a502de2b0&#45;&#45;__main__.BST.Node object at 0x7f4a502de198 -->\n",
       "<g id=\"edge4\" class=\"edge\">\n",
       "<title>__main__.BST.Node object at 0x7f4a502de2b0&#45;&#45;__main__.BST.Node object at 0x7f4a502de198</title>\n",
       "<path fill=\"none\" stroke=\"#000000\" d=\"M86.5146,-184.1708C92.1747,-172.8506 99.5216,-158.1568 105.1657,-146.8687\"/>\n",
       "</g>\n",
       "<!-- &lt;__main__.BST.Node object at 0x7f4a503136a0&gt;left&#45;none -->\n",
       "<g id=\"node6\" class=\"node\">\n",
       "<title>&lt;__main__.BST.Node object at 0x7f4a503136a0&gt;left&#45;none</title>\n",
       "<ellipse fill=\"#000000\" stroke=\"#000000\" cx=\"1.8\" cy=\"-57.6\" rx=\"1.8\" ry=\"1.8\"/>\n",
       "</g>\n",
       "<!-- __main__.BST.Node object at 0x7f4a503136a0&#45;&#45;&lt;__main__.BST.Node object at 0x7f4a503136a0&gt;left&#45;none -->\n",
       "<g id=\"edge5\" class=\"edge\">\n",
       "<title>__main__.BST.Node object at 0x7f4a503136a0&#45;&#45;&lt;__main__.BST.Node object at 0x7f4a503136a0&gt;left&#45;none</title>\n",
       "<path fill=\"none\" stroke=\"#000000\" d=\"M32.3206,-112.537C22.1554,-94.2397 6.9214,-66.8185 2.8379,-59.4681\"/>\n",
       "</g>\n",
       "<!-- __main__.BST.Node object at 0x7f4a502de1d0 -->\n",
       "<g id=\"node7\" class=\"node\">\n",
       "<title>__main__.BST.Node object at 0x7f4a502de1d0</title>\n",
       "<ellipse fill=\"none\" stroke=\"#000000\" cx=\"48.8\" cy=\"-57.6\" rx=\"27\" ry=\"18\"/>\n",
       "<text text-anchor=\"middle\" x=\"48.8\" y=\"-53.9\" font-family=\"Times,serif\" font-size=\"14.00\" fill=\"#000000\">C:4</text>\n",
       "</g>\n",
       "<!-- __main__.BST.Node object at 0x7f4a503136a0&#45;&#45;__main__.BST.Node object at 0x7f4a502de1d0 -->\n",
       "<g id=\"edge6\" class=\"edge\">\n",
       "<title>__main__.BST.Node object at 0x7f4a503136a0&#45;&#45;__main__.BST.Node object at 0x7f4a502de1d0</title>\n",
       "<path fill=\"none\" stroke=\"#000000\" d=\"M43.5664,-111.4314C44.6194,-100.6 45.9526,-86.8876 47.0098,-76.0133\"/>\n",
       "</g>\n",
       "<!-- &lt;__main__.BST.Node object at 0x7f4a502de198&gt;left&#45;none -->\n",
       "<g id=\"node10\" class=\"node\">\n",
       "<title>&lt;__main__.BST.Node object at 0x7f4a502de198&gt;left&#45;none</title>\n",
       "<ellipse fill=\"#000000\" stroke=\"#000000\" cx=\"107.8\" cy=\"-57.6\" rx=\"1.8\" ry=\"1.8\"/>\n",
       "</g>\n",
       "<!-- __main__.BST.Node object at 0x7f4a502de198&#45;&#45;&lt;__main__.BST.Node object at 0x7f4a502de198&gt;left&#45;none -->\n",
       "<g id=\"edge9\" class=\"edge\">\n",
       "<title>__main__.BST.Node object at 0x7f4a502de198&#45;&#45;&lt;__main__.BST.Node object at 0x7f4a502de198&gt;left&#45;none</title>\n",
       "<path fill=\"none\" stroke=\"#000000\" d=\"M112.2859,-111.4314C110.7585,-93.1014 108.5434,-66.5202 107.9506,-59.4068\"/>\n",
       "</g>\n",
       "<!-- &lt;__main__.BST.Node object at 0x7f4a502de198&gt;left&#45;right -->\n",
       "<g id=\"node11\" class=\"node\">\n",
       "<title>&lt;__main__.BST.Node object at 0x7f4a502de198&gt;left&#45;right</title>\n",
       "<ellipse fill=\"#000000\" stroke=\"#000000\" cx=\"129.8\" cy=\"-57.6\" rx=\"1.8\" ry=\"1.8\"/>\n",
       "</g>\n",
       "<!-- __main__.BST.Node object at 0x7f4a502de198&#45;&#45;&lt;__main__.BST.Node object at 0x7f4a502de198&gt;left&#45;right -->\n",
       "<g id=\"edge10\" class=\"edge\">\n",
       "<title>__main__.BST.Node object at 0x7f4a502de198&#45;&#45;&lt;__main__.BST.Node object at 0x7f4a502de198&gt;left&#45;right</title>\n",
       "<path fill=\"none\" stroke=\"#000000\" d=\"M117.8375,-111.4314C121.9108,-93.1014 127.8177,-66.5202 129.3985,-59.4068\"/>\n",
       "</g>\n",
       "<!-- &lt;__main__.BST.Node object at 0x7f4a502de1d0&gt;left&#45;none -->\n",
       "<g id=\"node8\" class=\"node\">\n",
       "<title>&lt;__main__.BST.Node object at 0x7f4a502de1d0&gt;left&#45;none</title>\n",
       "<ellipse fill=\"#000000\" stroke=\"#000000\" cx=\"37.8\" cy=\"-1.8\" rx=\"1.8\" ry=\"1.8\"/>\n",
       "</g>\n",
       "<!-- __main__.BST.Node object at 0x7f4a502de1d0&#45;&#45;&lt;__main__.BST.Node object at 0x7f4a502de1d0&gt;left&#45;none -->\n",
       "<g id=\"edge7\" class=\"edge\">\n",
       "<title>__main__.BST.Node object at 0x7f4a502de1d0&#45;&#45;&lt;__main__.BST.Node object at 0x7f4a502de1d0&gt;left&#45;none</title>\n",
       "<path fill=\"none\" stroke=\"#000000\" d=\"M45.259,-39.6374C42.596,-26.1289 39.2283,-9.0453 38.1493,-3.5719\"/>\n",
       "</g>\n",
       "<!-- &lt;__main__.BST.Node object at 0x7f4a502de1d0&gt;left&#45;right -->\n",
       "<g id=\"node9\" class=\"node\">\n",
       "<title>&lt;__main__.BST.Node object at 0x7f4a502de1d0&gt;left&#45;right</title>\n",
       "<ellipse fill=\"#000000\" stroke=\"#000000\" cx=\"59.8\" cy=\"-1.8\" rx=\"1.8\" ry=\"1.8\"/>\n",
       "</g>\n",
       "<!-- __main__.BST.Node object at 0x7f4a502de1d0&#45;&#45;&lt;__main__.BST.Node object at 0x7f4a502de1d0&gt;left&#45;right -->\n",
       "<g id=\"edge8\" class=\"edge\">\n",
       "<title>__main__.BST.Node object at 0x7f4a502de1d0&#45;&#45;&lt;__main__.BST.Node object at 0x7f4a502de1d0&gt;left&#45;right</title>\n",
       "<path fill=\"none\" stroke=\"#000000\" d=\"M52.341,-39.6374C55.004,-26.1289 58.3717,-9.0453 59.4507,-3.5719\"/>\n",
       "</g>\n",
       "</g>\n",
       "</svg>\n"
      ],
      "text/plain": [
       "<graphviz.dot.Graph at 0x7f4a50313a20>"
      ]
     },
     "metadata": {},
     "output_type": "display_data"
    }
   ],
   "source": [
    "import random\n",
    "bst = BSTWithDelete()\n",
    "for (num,key) in enumerate(\"SEARCH\"):\n",
    "    bst.put(key, num)\n",
    "plotTree(bst)\n",
    "\n",
    "bst.delete(\"E\")\n",
    "plotTree(bst)"
   ]
  },
  {
   "cell_type": "markdown",
   "metadata": {},
   "source": [
    "#### Übung\n",
    "* Probieren Sie verschiedenen Spezialfälle aus und versuchen Sie nachzuvollziehen, wie der Algorithmus funktioniert, indem Sie print Statements in den Code einfügen. "
   ]
  }
 ],
 "metadata": {
  "anaconda-cloud": {},
  "kernelspec": {
   "display_name": "Python 3",
   "language": "python",
   "name": "python3"
  },
  "language_info": {
   "codemirror_mode": {
    "name": "ipython",
    "version": 3
   },
   "file_extension": ".py",
   "mimetype": "text/x-python",
   "name": "python",
   "nbconvert_exporter": "python",
   "pygments_lexer": "ipython3",
   "version": "3.6.7"
  }
 },
 "nbformat": 4,
 "nbformat_minor": 1
}
