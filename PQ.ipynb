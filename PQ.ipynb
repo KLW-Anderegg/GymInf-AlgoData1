{
 "cells": [
  {
   "cell_type": "markdown",
   "metadata": {},
   "source": [
    "# Priority Queues"
   ]
  },
  {
   "cell_type": "markdown",
   "metadata": {},
   "source": [
    "In diesem Notebook werden wir zwei einfache Implementationen des ADTs *Priority Queue* anschauen. Diese Implementationen dienen nur zur Illustration des Prinzips, und zur Veranschaulichung, dass auch hier verschiedene Implementation verschiedene Kompromisse machen. Für eine praktische Implementation werden wir später einen Heap verwenden.\n",
    "\n"
   ]
  },
  {
   "cell_type": "markdown",
   "metadata": {},
   "source": [
    "## Zwei einfache Implementationen mittels Arrays"
   ]
  },
  {
   "cell_type": "markdown",
   "metadata": {
    "collapsed": true
   },
   "source": [
    "#### Implementation mit unsortiertem Array\n",
    "\n",
    "Die erste Implementation verwendet ein einfaches, unsortiertes (dynamisches) Array. Bei dieser Implementation ist die ```insert``` Methode sehr effizient. Die Hauptarbeit passiert, wenn die Methode ```max``` oder ```delmax``` aufgerufen wird. In diesem Fall wird das grösste Element gesucht und mit dem letzten Element vertauscht. Damit kann es einfach zurückgegeben werden."
   ]
  },
  {
   "cell_type": "code",
   "execution_count": 3,
   "metadata": {},
   "outputs": [],
   "source": [
    "class MaxPQUnorderedArray:\n",
    "    \n",
    "    def __init__(self):\n",
    "        self._data = []\n",
    "    \n",
    "    def insert(self, k):\n",
    "        self._data.append(k)\n",
    "    \n",
    "    def max(self):\n",
    "        self._largestToEnd()\n",
    "        return self._data[-1]\n",
    "            \n",
    "    def delMax(self):\n",
    "        self._largestToEnd()\n",
    "        return self._data.pop()\n",
    "    \n",
    "    def _largestToEnd(self):\n",
    "        if len(self._data) == 0:\n",
    "            return\n",
    "        \n",
    "        maxElem = self._data[0]            \n",
    "        maxIndex = 0\n",
    "        for i, d in enumerate(self._data):\n",
    "            if (maxElem < d):\n",
    "                maxElem = self._data[i]\n",
    "                maxIndex = i\n",
    "        self._data[maxIndex], self._data[-1] = self._data[-1], self._data[maxIndex]\n",
    "        \n",
    "    \n",
    "        \n",
    "    def isEmpty(self):\n",
    "        return len(self._data) == 0\n",
    "    \n",
    "    def size(self):\n",
    "        return len(self._data)"
   ]
  },
  {
   "cell_type": "markdown",
   "metadata": {},
   "source": [
    "#### Implementation mit sortiertem Array\n",
    "\n",
    "In dieser zweiten Implementation, passiert die Hauptarbeit in der Methode ```insert```. Unsere Implementation stellt sicher, dass das neue Element jeweils an die richtige Position im Array eingefügt wird. Im Vergleich zur vorherigen Methode, sind dafür die Methoden ```max``` und ```delMax``` sehr effizient."
   ]
  },
  {
   "cell_type": "code",
   "execution_count": 6,
   "metadata": {},
   "outputs": [],
   "source": [
    "class MaxPQOrderedArray:\n",
    "    \n",
    "    def __init__(self):\n",
    "        self._data = []\n",
    "    \n",
    "    def insert(self, k):\n",
    "        \n",
    "        # Suche im sortierten Array data die Position vom neuen Element\n",
    "        idx = 0\n",
    "        while (idx < len(self._data) and self._data[idx] < k):            \n",
    "            idx += 1\n",
    "        self._data.insert(idx, k)        \n",
    "        \n",
    "    def max(self):\n",
    "        if self.isEmpty():\n",
    "            return None\n",
    "        else:\n",
    "            return self._data[-1]\n",
    "            \n",
    "    def delMax(self):\n",
    "        return self._data.pop()\n",
    "        \n",
    "        \n",
    "    def isEmpty(self):\n",
    "        return len(self._data) == 0\n",
    "    \n",
    "    def size(self):\n",
    "        return len(self._data)"
   ]
  },
  {
   "cell_type": "markdown",
   "metadata": {},
   "source": [
    "#### Komplexität"
   ]
  },
  {
   "cell_type": "code",
   "execution_count": 7,
   "metadata": {},
   "outputs": [],
   "source": [
    "import timeit\n",
    "import random"
   ]
  },
  {
   "cell_type": "code",
   "execution_count": 8,
   "metadata": {},
   "outputs": [],
   "source": [
    "def insertNElements(pq, N):\n",
    "    for i in range(0, N):\n",
    "        pq.insert(i)\n"
   ]
  },
  {
   "cell_type": "code",
   "execution_count": 9,
   "metadata": {},
   "outputs": [],
   "source": [
    "def removeLargestNElements(pq, N):\n",
    "    for i in range(0, N):\n",
    "        pq.delMax()"
   ]
  },
  {
   "cell_type": "code",
   "execution_count": 10,
   "metadata": {},
   "outputs": [
    {
     "name": "stdout",
     "output_type": "stream",
     "text": [
      "insert ordered  12.607942199974786\n",
      "insert unordered 0.0035909999860450625\n",
      "removeLargest ordered 0.002757200039923191\n",
      "removeLargest unordered 6.965862900018692\n"
     ]
    }
   ],
   "source": [
    "orderedPQ = MaxPQOrderedArray()\n",
    "unorderedPQ = MaxPQUnorderedArray()\n",
    "\n",
    "print(\"insert ordered \", timeit.timeit(lambda: insertNElements(orderedPQ, 10000), number = 1))\n",
    "print(\"insert unordered\", timeit.timeit(lambda: insertNElements(unorderedPQ, 10000), number = 1))\n",
    "print(\"removeLargest ordered\", timeit.timeit(lambda: removeLargestNElements(orderedPQ, 10000), number = 1))\n",
    "print(\"removeLargest unordered\", timeit.timeit(lambda: removeLargestNElements(unorderedPQ, 10000), number = 1))"
   ]
  },
  {
   "cell_type": "markdown",
   "metadata": {},
   "source": [
    "## Beispiel Client"
   ]
  },
  {
   "cell_type": "markdown",
   "metadata": {},
   "source": [
    "Eine typische Beispielanwendung ist, dass man aus einem sehr grossen Datenstrom die grössten Elemente extrahieren möchte. Um das Beispiel hier minimal zu halten, und trotzdem die Möglichkeit zu haben grosse Streams zu generiern, ziehen wir Zufallszahlen von einer Normalverteilung."
   ]
  },
  {
   "cell_type": "markdown",
   "metadata": {},
   "source": [
    "Die folgende Funktion generiert einen Stream von $n$ normalverteilen Zufallszahlen"
   ]
  },
  {
   "cell_type": "code",
   "execution_count": 6,
   "metadata": {},
   "outputs": [],
   "source": [
    "import random\n",
    "\n",
    "def numberGen(n):\n",
    "    num = 0\n",
    "    while num < n:\n",
    "        yield random.normalvariate(0, 1)\n",
    "        num += 1"
   ]
  },
  {
   "cell_type": "markdown",
   "metadata": {},
   "source": [
    "#### Übung:\n",
    "\n",
    "Schreiben Sie einen Client, der eine Priority Queue nutzt um die M grössten Elemente aus dem Stream von Daten zu extrahieren und auszugeben."
   ]
  },
  {
   "cell_type": "code",
   "execution_count": 7,
   "metadata": {},
   "outputs": [],
   "source": [
    "def printLargestNumber(M, N):\n",
    "    pq = MaxPQUnorderedArray()\n",
    "    for number in numberGen(N):\n",
    "        pass ## do something with the numbers which are generated"
   ]
  },
  {
   "cell_type": "code",
   "execution_count": null,
   "metadata": {},
   "outputs": [],
   "source": [
    "printLargestNumber(10, 10000000)"
   ]
  },
  {
   "cell_type": "code",
   "execution_count": null,
   "metadata": {},
   "outputs": [],
   "source": []
  }
 ],
 "metadata": {
  "anaconda-cloud": {},
  "kernelspec": {
   "display_name": "Python 3",
   "language": "python",
   "name": "python3"
  },
  "language_info": {
   "codemirror_mode": {
    "name": "ipython",
    "version": 3
   },
   "file_extension": ".py",
   "mimetype": "text/x-python",
   "name": "python",
   "nbconvert_exporter": "python",
   "pygments_lexer": "ipython3",
   "version": "3.6.7"
  }
 },
 "nbformat": 4,
 "nbformat_minor": 1
}
