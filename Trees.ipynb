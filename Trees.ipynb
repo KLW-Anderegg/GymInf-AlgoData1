{
 "cells": [
  {
   "cell_type": "markdown",
   "metadata": {},
   "source": [
    "# Rekursive Definition eines Binärbaums"
   ]
  },
  {
   "cell_type": "markdown",
   "metadata": {},
   "source": [
    "Wir führen als erstes die Grundlegende Datenstruktur ein. Wir folgen der rekursiven Definition. Ein Baum ist eine Wurzel (die ein Datum, hier item genannt, speicher) zusammen mit einem Linken und einem rechten Unterbaum, oder der leere Baum."
   ]
  },
  {
   "cell_type": "code",
   "execution_count": 8,
   "metadata": {
    "collapsed": false
   },
   "outputs": [],
   "source": [
    "class BinaryTree:\n",
    "    def __init__(self, item, left, right):\n",
    "        self.item = item\n",
    "        self.left = left\n",
    "        self.right = right"
   ]
  },
  {
   "cell_type": "markdown",
   "metadata": {},
   "source": [
    "Den leeren Baum definieren wir einfach als das Objekt, bei dem sowohl item als auch left/right None sind"
   ]
  },
  {
   "cell_type": "code",
   "execution_count": 9,
   "metadata": {
    "collapsed": true
   },
   "outputs": [],
   "source": [
    "emptyTree = BinaryTree(None, None, None)"
   ]
  },
  {
   "cell_type": "markdown",
   "metadata": {},
   "source": [
    "Damit wir sehen, was passiert, benötigen wir als erstes eine Funktion, die einen Baum ausgeben kann. \n",
    "Wir sehen, dass der Code dieser Funktion genau der definition der Datenstruktur folgt."
   ]
  },
  {
   "cell_type": "code",
   "execution_count": 6,
   "metadata": {
    "collapsed": false
   },
   "outputs": [],
   "source": [
    "def printTree(t):\n",
    "    if (t == emptyTree):\n",
    "        return \"()\"\n",
    "    else:\n",
    "        return \"(\" +t.item +\", \" \\\n",
    "                + printTree(t.left) +\", \" \\\n",
    "                +printTree(t.right) + \")\"\n",
    "        "
   ]
  },
  {
   "cell_type": "markdown",
   "metadata": {},
   "source": [
    "Der leere Baum wird hier als () dargestellt"
   ]
  },
  {
   "cell_type": "code",
   "execution_count": 10,
   "metadata": {
    "collapsed": false
   },
   "outputs": [
    {
     "data": {
      "text/plain": [
       "'()'"
      ]
     },
     "execution_count": 10,
     "metadata": {},
     "output_type": "execute_result"
    }
   ],
   "source": [
    "printTree(emptyTree)"
   ]
  },
  {
   "cell_type": "markdown",
   "metadata": {},
   "source": [
    "Wir definieren und nun einen etwas komplizierteren Baum, mit einem linken und rechten Knoten"
   ]
  },
  {
   "cell_type": "code",
   "execution_count": 11,
   "metadata": {
    "collapsed": false
   },
   "outputs": [],
   "source": [
    "b = BinaryTree(\"root\", \n",
    "               BinaryTree(\"left\", emptyTree, emptyTree), \n",
    "               BinaryTree(\"right\", emptyTree, emptyTree)\n",
    "              )"
   ]
  },
  {
   "cell_type": "code",
   "execution_count": 13,
   "metadata": {
    "collapsed": false
   },
   "outputs": [
    {
     "data": {
      "text/plain": [
       "'(root, (left, (), ()), (right, (), ()))'"
      ]
     },
     "execution_count": 13,
     "metadata": {},
     "output_type": "execute_result"
    }
   ],
   "source": [
    "printTree(b)"
   ]
  },
  {
   "cell_type": "markdown",
   "metadata": {},
   "source": [
    "## Kompliziertere Bäume konstruieren"
   ]
  },
  {
   "cell_type": "markdown",
   "metadata": {},
   "source": [
    "Es ist einfach, sich aus einzeilnen Teilbäumen einen komplexeren Baum zusammenzubauen"
   ]
  },
  {
   "cell_type": "code",
   "execution_count": 14,
   "metadata": {
    "collapsed": false
   },
   "outputs": [],
   "source": [
    "leftSubtree = BinaryTree(\"l\", \n",
    "               BinaryTree(\"ll\", emptyTree, emptyTree), \n",
    "               BinaryTree(\"lr\", emptyTree, emptyTree))\n",
    "rightSubtree = BinaryTree(\"r\", \n",
    "               BinaryTree(\"rl\", emptyTree, emptyTree), \n",
    "               BinaryTree(\"rr\", emptyTree, emptyTree))\n",
    "                         "
   ]
  },
  {
   "cell_type": "code",
   "execution_count": 15,
   "metadata": {
    "collapsed": false
   },
   "outputs": [],
   "source": [
    "tree = BinaryTree(\"root\", leftSubtree,  rightSubtree)\n"
   ]
  },
  {
   "cell_type": "code",
   "execution_count": 16,
   "metadata": {
    "collapsed": false
   },
   "outputs": [
    {
     "data": {
      "text/plain": [
       "'(root, (l, (ll, (), ()), (lr, (), ())), (r, (rl, (), ()), (rr, (), ())))'"
      ]
     },
     "execution_count": 16,
     "metadata": {},
     "output_type": "execute_result"
    }
   ],
   "source": [
    "printTree(tree)"
   ]
  },
  {
   "cell_type": "markdown",
   "metadata": {
    "collapsed": true
   },
   "source": [
    "# Traversierungsarten"
   ]
  },
  {
   "cell_type": "markdown",
   "metadata": {
    "collapsed": true
   },
   "source": [
    "Genau wie eine Liste, kann ein Baum als Sequenz von Elementen interpretiert werden. Die Reihenfolge dieser Sequenz ist aber nicht eindeutig, sondern hängt davon ab, wie der Baum traversiert wird. \n",
    "\n",
    "Wir unterscheiden zwischen depth-first Traversierung und breadth-first Traversierung. Bei der depth-first Traversierung unterscheiden wir zusaetzlich zwischen preorder, postorder und inorder Traversierung. Es gibt jedoch viele weitere Moeglichkeiten einen Baum zu traversieren."
   ]
  },
  {
   "cell_type": "code",
   "execution_count": 17,
   "metadata": {
    "collapsed": true
   },
   "outputs": [],
   "source": [
    "def printTreeInorder(t):\n",
    "    if (t == emptyTree):\n",
    "        return\n",
    "    else:\n",
    "        printTreeInorder(t.left)\n",
    "        print(t.item)\n",
    "        printTreeInorder(t.right)"
   ]
  },
  {
   "cell_type": "code",
   "execution_count": 18,
   "metadata": {
    "collapsed": false
   },
   "outputs": [
    {
     "name": "stdout",
     "output_type": "stream",
     "text": [
      "ll\n",
      "l\n",
      "lr\n",
      "root\n",
      "rl\n",
      "r\n",
      "rr\n"
     ]
    }
   ],
   "source": [
    "printTreeInorder(tree)"
   ]
  },
  {
   "cell_type": "code",
   "execution_count": 19,
   "metadata": {
    "collapsed": true
   },
   "outputs": [],
   "source": [
    "def printTreePreorder(t):\n",
    "    if (t == emptyTree):\n",
    "        return\n",
    "    else:\n",
    "        print(t.item)\n",
    "        printTreePreorder(t.left)        \n",
    "        printTreePreorder(t.right)"
   ]
  },
  {
   "cell_type": "code",
   "execution_count": 20,
   "metadata": {
    "collapsed": false
   },
   "outputs": [
    {
     "name": "stdout",
     "output_type": "stream",
     "text": [
      "root\n",
      "l\n",
      "ll\n",
      "lr\n",
      "r\n",
      "rl\n",
      "rr\n"
     ]
    }
   ],
   "source": [
    "printTreePreorder(tree)"
   ]
  },
  {
   "cell_type": "code",
   "execution_count": 21,
   "metadata": {
    "collapsed": true
   },
   "outputs": [],
   "source": [
    "def printTreePostorder(t):\n",
    "    if (t == emptyTree):\n",
    "        return\n",
    "    else:\n",
    "        printTreePostorder(t.left)        \n",
    "        printTreePostorder(t.right)\n",
    "        print(t.item)"
   ]
  },
  {
   "cell_type": "code",
   "execution_count": 23,
   "metadata": {
    "collapsed": false
   },
   "outputs": [
    {
     "name": "stdout",
     "output_type": "stream",
     "text": [
      "ll\n",
      "lr\n",
      "l\n",
      "rl\n",
      "rr\n",
      "r\n",
      "root\n"
     ]
    }
   ],
   "source": [
    "printTreePostorder(tree)"
   ]
  },
  {
   "cell_type": "code",
   "execution_count": 54,
   "metadata": {
    "collapsed": false
   },
   "outputs": [],
   "source": [
    "def printTreeBreadthFirst(tree):\n",
    "    if tree == emptyTree:\n",
    "        return    \n",
    "    q = [tree]\n",
    "    \n",
    "    while len(q) > 0:  \n",
    "        \n",
    "        \n",
    "        currentNode = q.pop(0)        \n",
    "        if currentNode.left != emptyTree:\n",
    "            q.append(currentNode.left)\n",
    "        if currentNode.right != emptyTree:\n",
    "            q.append(currentNode.right)\n",
    "        print(currentNode.item, end=\" \")\n",
    "        "
   ]
  },
  {
   "cell_type": "code",
   "execution_count": 53,
   "metadata": {
    "collapsed": false
   },
   "outputs": [
    {
     "name": "stdout",
     "output_type": "stream",
     "text": [
      "root \n",
      "l r \n",
      "r ll lr \n",
      "ll lr rl rr \n",
      "lr rl rr \n",
      "rl rr \n",
      "rr \n"
     ]
    }
   ],
   "source": [
    "printTreeBreadthFirst(tree)"
   ]
  },
  {
   "cell_type": "markdown",
   "metadata": {},
   "source": [
    "# Implementation als Array"
   ]
  },
  {
   "cell_type": "markdown",
   "metadata": {},
   "source": [
    "Wir zeigen hier, wie man einen Tree mithilfe eines Arrays implementieren kann. \n",
    "Die Einfuegeoperationen wurden hier weggelassen. "
   ]
  },
  {
   "cell_type": "markdown",
   "metadata": {},
   "source": [
    "*Uebung: Fuege die Methoden attachLeft(item) und attachRight(item) hinzu*"
   ]
  },
  {
   "cell_type": "code",
   "execution_count": 18,
   "metadata": {
    "collapsed": false
   },
   "outputs": [],
   "source": [
    "class ArrayBinaryTree:        \n",
    "    \n",
    "       \n",
    "    # Assumes that an array is passed, with root at \n",
    "    # position 1, left subtree at position root * 2 and right subtree \n",
    "    # at position root * 2 + 1\n",
    "    def __init__(self, treeArray, rootpos = 1):\n",
    "        self._data = treeArray\n",
    "        self._rootpos = rootpos\n",
    "            \n",
    "    def getLeftSubtree(self):\n",
    "        return ArrayBinaryTree(self._data, self._rootpos * 2)\n",
    "    \n",
    "    def getRightSubtree(self):\n",
    "        return ArrayBinaryTree(self._data, self._rootpos * 2 + 1)\n",
    "    \n",
    "    def getItem(self):\n",
    "        return self._data[self._rootpos]\n",
    "    \n",
    "    def print(self):\n",
    "        return self._printTree(self._rootpos)\n",
    "    \n",
    "    def _printTree(self, index):\n",
    "        if index >= len(self._data):\n",
    "            return \"()\"\n",
    "        else:\n",
    "            return \"(\" +str(self._data[index]) +\", \" \\\n",
    "                    + self._printTree(index * 2) +\", \" \\\n",
    "                    + self._printTree(index * 2 + 1) + \")\"\n"
   ]
  },
  {
   "cell_type": "code",
   "execution_count": 19,
   "metadata": {
    "collapsed": false
   },
   "outputs": [],
   "source": [
    "bt = ArrayBinaryTree([None, \"root\", \"l\", \"r\", \"ll\", \"lr\", \"rl\", \"rr\"])"
   ]
  },
  {
   "cell_type": "code",
   "execution_count": 20,
   "metadata": {
    "collapsed": false
   },
   "outputs": [
    {
     "data": {
      "text/plain": [
       "'(root, (l, (ll, (), ()), (lr, (), ())), (r, (rl, (), ()), (rr, (), ())))'"
      ]
     },
     "execution_count": 20,
     "metadata": {},
     "output_type": "execute_result"
    }
   ],
   "source": [
    "bt.print()"
   ]
  },
  {
   "cell_type": "code",
   "execution_count": 21,
   "metadata": {
    "collapsed": false
   },
   "outputs": [
    {
     "data": {
      "text/plain": [
       "'(l, (ll, (), ()), (lr, (), ()))'"
      ]
     },
     "execution_count": 21,
     "metadata": {},
     "output_type": "execute_result"
    }
   ],
   "source": [
    "bt.getLeftSubtree().print()"
   ]
  },
  {
   "cell_type": "code",
   "execution_count": 22,
   "metadata": {
    "collapsed": false
   },
   "outputs": [
    {
     "data": {
      "text/plain": [
       "'(r, (rl, (), ()), (rr, (), ()))'"
      ]
     },
     "execution_count": 22,
     "metadata": {},
     "output_type": "execute_result"
    }
   ],
   "source": [
    "bt.getRightSubtree().print()"
   ]
  },
  {
   "cell_type": "code",
   "execution_count": null,
   "metadata": {
    "collapsed": true
   },
   "outputs": [],
   "source": []
  }
 ],
 "metadata": {
  "anaconda-cloud": {},
  "kernelspec": {
   "display_name": "Python [Root]",
   "language": "python",
   "name": "Python [Root]"
  },
  "language_info": {
   "codemirror_mode": {
    "name": "ipython",
    "version": 3
   },
   "file_extension": ".py",
   "mimetype": "text/x-python",
   "name": "python",
   "nbconvert_exporter": "python",
   "pygments_lexer": "ipython3",
   "version": "3.5.2"
  }
 },
 "nbformat": 4,
 "nbformat_minor": 0
}
